{
 "cells": [
  {
   "cell_type": "code",
   "execution_count": 1,
   "metadata": {},
   "outputs": [],
   "source": [
    "import pandas as pd\n",
    "import time\n",
    "import requests\n",
    "from bs4 import BeautifulSoup\n",
    "from geopy.geocoders import Nominatim\n",
    "import altair as alt\n",
    "from vega_datasets import data\n",
    "import json\n",
    "import numpy as np"
   ]
  },
  {
   "cell_type": "markdown",
   "metadata": {},
   "source": [
    "Step 1: Scape data from Wikipedia"
   ]
  },
  {
   "cell_type": "code",
   "execution_count": null,
   "metadata": {},
   "outputs": [],
   "source": [
    "ddd_requests = requests.get('https://en.wikipedia.org/wiki/List_of_Diners,_Drive-Ins_and_Dives_episodes')\n",
    "ddd = BeautifulSoup(ddd_requests.text)"
   ]
  },
  {
   "cell_type": "code",
   "execution_count": null,
   "metadata": {},
   "outputs": [],
   "source": [
    "# Get tables for 30 seasons\n",
    "tables = ddd.find_all('table')"
   ]
  },
  {
   "cell_type": "code",
   "execution_count": null,
   "metadata": {},
   "outputs": [],
   "source": [
    "def get_restaurants(s):\n",
    "    \"\"\"Given a season, return the featured restaurants as a dataframe.\"\"\"\n",
    "    \n",
    "    season_dict = {'season': [],\n",
    "                   'episode': [],\n",
    "                   'title': [],\n",
    "                   'restaurant': [],\n",
    "                   'location': [],\n",
    "                   'air_date': []\n",
    "                  }\n",
    "    \n",
    "    if s == 22:\n",
    "        restaurants = tables[s-1].find_all('tr')[1:-1]\n",
    "    else:\n",
    "        restaurants = tables[s-1].find_all('tr')[1:]\n",
    "        \n",
    "    index = 0\n",
    "\n",
    "    while index < len(restaurants):\n",
    "        \n",
    "        # Get no. of restaurants visited in episode\n",
    "        visited = int(restaurants[index].find('td').get('rowspan'))\n",
    "        \n",
    "        for i in range(visited):\n",
    "            # Add season no.\n",
    "            season_dict['season'].append(s)\n",
    "            \n",
    "            # Add episode no.\n",
    "            episode_no = restaurants[index].find_all('td')[0].text\n",
    "            season_dict['episode'].append(episode_no)\n",
    "            \n",
    "            # Add episode title\n",
    "            title = restaurants[index].find_all('td')[1].text\n",
    "            season_dict['title'].append(title)\n",
    "            \n",
    "            # Add air date\n",
    "            air_date = restaurants[index].find_all('td')[-1].text\n",
    "            season_dict['air_date'].append(air_date)\n",
    "            \n",
    "        # For first restaurant featured in episode\n",
    "        # Add its name\n",
    "        name_first = restaurants[index].find_all('td')[2].text\n",
    "        season_dict['restaurant'].append(name_first)\n",
    "        \n",
    "        # Add its location\n",
    "        location_first = restaurants[index].find_all('td')[3].text\n",
    "        season_dict['location'].append(location_first)\n",
    "        \n",
    "        # For other restaurant(s) featured in episode\n",
    "        for k in range(1, visited):\n",
    "            # Add its name\n",
    "            name_other = restaurants[index+k].find_all('td')[0].text\n",
    "            season_dict['restaurant'].append(name_other)\n",
    "            \n",
    "            # Add its location\n",
    "            # Address inconsistency in table for \"The Memphis BBQ Tour\"\n",
    "            if (s == 3) & (index == 25):\n",
    "                # Repeat location 3 times\n",
    "                location_memphis = restaurants[index].find_all('td')[3].text\n",
    "                season_dict['location'].append(location_memphis)\n",
    "                \n",
    "            else:    \n",
    "                location_other = restaurants[index+k].find_all('td')[1].text\n",
    "                season_dict['location'].append(location_other)\n",
    "            \n",
    "        index += visited\n",
    "        \n",
    "        time.sleep(.3)\n",
    "    \n",
    "    df = pd.DataFrame(season_dict)\n",
    "    df = df.replace('\\n', '', regex=True)\n",
    "    df['air_date'] = df['air_date'].astype('datetime64[ns]')\n",
    "    \n",
    "    return df"
   ]
  },
  {
   "cell_type": "code",
   "execution_count": null,
   "metadata": {},
   "outputs": [],
   "source": [
    "master = []\n",
    "for i in range(30):\n",
    "    df = get_restaurants(i+1)\n",
    "    master.append(df)"
   ]
  },
  {
   "cell_type": "code",
   "execution_count": null,
   "metadata": {},
   "outputs": [],
   "source": [
    "result = pd.concat(master)\n",
    "result.head()"
   ]
  },
  {
   "cell_type": "code",
   "execution_count": null,
   "metadata": {},
   "outputs": [],
   "source": [
    "result.to_csv(r'C:\\Users\\reiko\\Desktop\\flavortown\\data\\df_raw.csv', index=False, header=True)"
   ]
  },
  {
   "cell_type": "code",
   "execution_count": null,
   "metadata": {
    "jupyter": {
     "source_hidden": true
    }
   },
   "outputs": [],
   "source": [
    "def get_restaurants_draft(s):\n",
    "    \"\"\"Given a season, return the featured restaurants as a dataframe.\"\"\"\n",
    "    \n",
    "    season_dict = {'season': [],\n",
    "                   'episode': [],\n",
    "                   'title': [],\n",
    "                   'restaurant': [],\n",
    "                   'location': [],\n",
    "                   'air_date': []\n",
    "                  }\n",
    "    \n",
    "    if s == 22:\n",
    "        episodes = tables[s-1].find_all('tr')[1:-1]\n",
    "    else:\n",
    "        episodes = tables[s-1].find_all('tr')[1:]\n",
    "        \n",
    "    index = 0\n",
    "\n",
    "    while index < len(episodes):\n",
    "        \n",
    "        # Get no. of restaurants visited in episode\n",
    "        visited = int(episodes[index].find('td').get('rowspan'))\n",
    "        \n",
    "        for i in range(visited):\n",
    "            # Add season no.\n",
    "            season_dict['season'].append(s)\n",
    "            \n",
    "            # Add episode no.\n",
    "            episode_no = episodes[index].find_all('td')[0].text\n",
    "            season_dict['episode'].append(episode_no)\n",
    "            \n",
    "            # Add episode title\n",
    "            title = episodes[index].find_all('td')[1].text\n",
    "            season_dict['title'].append(title)\n",
    "            \n",
    "            # Add air date\n",
    "            air_date = episodes[index].find_all('td')[-1].text\n",
    "            season_dict['air_date'].append(air_date)\n",
    "            \n",
    "        # For first restaurant featured in episode\n",
    "        # Add its name\n",
    "        name_first = episodes[index].find_all('td')[2].text\n",
    "        season_dict['restaurant'].append(name_first)\n",
    "        \n",
    "        # Add its location\n",
    "        location_first = episodes[index].find_all('td')[3].text\n",
    "        season_dict['location'].append(location_first)\n",
    "            \n",
    "        # For other restaurant(s) featured in episode\n",
    "        for k in range(1, visited):\n",
    "            # Add its name\n",
    "            name_other = episodes[index+k].find_all('td')[0].text\n",
    "            season_dict['restaurant'].append(name_other)\n",
    "        \n",
    "            # Add its location\n",
    "            location_other = episodes[index+k].find_all('td')[1].text\n",
    "            season_dict['location'].append(location_other)\n",
    "            \n",
    "        index += visited\n",
    "        \n",
    "        time.sleep(.2)\n",
    "    \n",
    "    df = pd.DataFrame(season_dict)\n",
    "    df = df.replace('\\n', '', regex=True)\n",
    "    df['air_date'] = df['air_date'].astype('datetime64[ns]')\n",
    "    \n",
    "    return df"
   ]
  },
  {
   "cell_type": "code",
   "execution_count": null,
   "metadata": {},
   "outputs": [],
   "source": [
    "df = pd.read_csv('../data/df_raw.csv')"
   ]
  },
  {
   "cell_type": "markdown",
   "metadata": {},
   "source": [
    "Step 2: Get latitudes and longitudes of restaurants"
   ]
  },
  {
   "cell_type": "code",
   "execution_count": null,
   "metadata": {},
   "outputs": [],
   "source": [
    "geopy.geocoders.options.default_user_agent = 'my_app/1'\n",
    "geopy.geocoders.options.default_timeout = 7"
   ]
  },
  {
   "cell_type": "code",
   "execution_count": 29,
   "metadata": {},
   "outputs": [],
   "source": [
    "# Split dataframe\n",
    "sub1 = df[:250]\n",
    "sub2 = df[250:500]\n",
    "sub3 = df[500:750]\n",
    "sub4 = df[750:1000]\n",
    "sub5 = df[1000:]"
   ]
  },
  {
   "cell_type": "code",
   "execution_count": null,
   "metadata": {},
   "outputs": [],
   "source": [
    "def get_coordinates(df):\n",
    "    \"Given a list of locations, return latitudes and longitudes as series.\"\n",
    "    latitude = []\n",
    "    longitude = []\n",
    "    \n",
    "    for location in df['location']:\n",
    "        geolocator = Nominatim()\n",
    "        point = geolocator.geocode(location)\n",
    "        latitude.append(point.latitude)\n",
    "        longitude.append(point.longitude)\n",
    "        print(location, point.latitude, point.longitude)\n",
    "        \n",
    "    return latitude, longitude"
   ]
  },
  {
   "cell_type": "code",
   "execution_count": null,
   "metadata": {},
   "outputs": [],
   "source": [
    "lat1, long1 = get_coordinates(sub1)\n",
    "sub1['latitude'] = lat1\n",
    "sub1['longitude'] = long1"
   ]
  },
  {
   "cell_type": "code",
   "execution_count": null,
   "metadata": {},
   "outputs": [],
   "source": [
    "lat2, long2 = get_coordinates(sub2)\n",
    "sub2['latitude'] = lat2\n",
    "sub2['longitude'] = long2"
   ]
  },
  {
   "cell_type": "code",
   "execution_count": null,
   "metadata": {},
   "outputs": [],
   "source": [
    "lat3, long3 = get_coordinates(sub3)\n",
    "sub3['latitude'] = lat3\n",
    "sub3['longitude'] = long3"
   ]
  },
  {
   "cell_type": "code",
   "execution_count": null,
   "metadata": {},
   "outputs": [],
   "source": [
    "# Change Carmel\n",
    "sub3.replace('Carmel, California', 'Carmel-by-the-Sea, California')\n",
    "# Change Dundalk\n",
    "sub4.replace({'Dundalk, Colorado': 'Dundalk, Maryland', \n",
    "              'Carmel, California': 'Carmel-by-the-Sea, California'})"
   ]
  },
  {
   "cell_type": "code",
   "execution_count": null,
   "metadata": {},
   "outputs": [],
   "source": [
    "lat4, long4 = get_coordinates(sub4)\n",
    "sub4['latitude'] = lat4\n",
    "sub4['longitude'] = long4"
   ]
  },
  {
   "cell_type": "code",
   "execution_count": null,
   "metadata": {},
   "outputs": [],
   "source": [
    "lat5, long5 = get_coordinates(sub5)\n",
    "sub5['latitude'] = lat5\n",
    "sub5['longitude'] = long5"
   ]
  },
  {
   "cell_type": "code",
   "execution_count": null,
   "metadata": {},
   "outputs": [],
   "source": [
    "df_coord = pd.concat([sub1, sub2, sub3, sub4, sub5])"
   ]
  },
  {
   "cell_type": "code",
   "execution_count": null,
   "metadata": {},
   "outputs": [],
   "source": [
    "# Save dataframe with coordinates\n",
    "df_coord.to_csv(r'C:\\Users\\reiko\\Desktop\\flavortown\\data\\df_coordinates.csv', index=False, header=True)"
   ]
  },
  {
   "cell_type": "markdown",
   "metadata": {},
   "source": [
    "Step 3: Create dataframe for choropleth"
   ]
  },
  {
   "cell_type": "code",
   "execution_count": 267,
   "metadata": {},
   "outputs": [],
   "source": [
    "df_coord = pd.read_csv('../data/df_coordinates.csv')"
   ]
  },
  {
   "cell_type": "code",
   "execution_count": 269,
   "metadata": {},
   "outputs": [
    {
     "data": {
      "application/vnd.vegalite.v3+json": {
       "$schema": "https://vega.github.io/schema/vega-lite/v3.4.0.json",
       "config": {
        "mark": {
         "tooltip": null
        },
        "view": {
         "height": 300,
         "width": 400
        }
       },
       "datasets": {
        "data-a9d7b318a0a5439eb0f36816d1115189": [
         {
          "air_date": "2007-04-23",
          "episode": "1",
          "latitude": 29.657170299999997,
          "location": "Tarpley, Texas",
          "longitude": -99.27642990000001,
          "restaurant": "Mac & Ernie's Roadside Eatery",
          "season": 1,
          "title": "Classics"
         },
         {
          "air_date": "2007-04-23",
          "episode": "1",
          "latitude": 37.6922361,
          "location": "Wichita, Kansas",
          "longitude": -97.3375448,
          "restaurant": "Brint's Diner",
          "season": 1,
          "title": "Classics"
         },
         {
          "air_date": "2007-04-23",
          "episode": "1",
          "latitude": 35.0421963,
          "location": "Baker, California",
          "longitude": -117.6675604,
          "restaurant": "The Mad Greek Cafe",
          "season": 1,
          "title": "Classics"
         },
         {
          "air_date": "2007-04-30",
          "episode": "2",
          "latitude": 35.960394799999996,
          "location": "Knoxville, Tennessee",
          "longitude": -83.92102609999999,
          "restaurant": "Pizza Palace",
          "season": 1,
          "title": "That's Italian"
         },
         {
          "air_date": "2007-04-30",
          "episode": "2",
          "latitude": 30.5352024,
          "location": "Wellborn, Texas",
          "longitude": -96.3016282,
          "restaurant": "Hullabaloo Diner",
          "season": 1,
          "title": "That's Italian"
         },
         {
          "air_date": "2007-04-30",
          "episode": "2",
          "latitude": 36.1672559,
          "location": "Las Vegas, Nevada",
          "longitude": -115.1485163,
          "restaurant": "Four Kegs Sports Pub",
          "season": 1,
          "title": "That's Italian"
         },
         {
          "air_date": "2007-05-07",
          "episode": "3",
          "latitude": 34.0250724,
          "location": "Santa Monica, California",
          "longitude": -118.4965129,
          "restaurant": "Patrick's Roadhouse",
          "season": 1,
          "title": "Blue Plate Special"
         },
         {
          "air_date": "2007-05-07",
          "episode": "3",
          "latitude": 41.6689223,
          "location": "Alsip, Illinois",
          "longitude": -87.73866190000001,
          "restaurant": "Frosted Mug",
          "season": 1,
          "title": "Blue Plate Special"
         },
         {
          "air_date": "2007-05-07",
          "episode": "3",
          "latitude": 35.2270869,
          "location": "Charlotte, North Carolina",
          "longitude": -80.8431268,
          "restaurant": "The Penguin",
          "season": 1,
          "title": "Blue Plate Special"
         },
         {
          "air_date": "2007-05-21",
          "episode": "4",
          "latitude": 42.584677299999996,
          "location": "Kenosha, Wisconsin",
          "longitude": -87.82122629999999,
          "restaurant": "Frank's Diner",
          "season": 1,
          "title": "Breakfast"
         },
         {
          "air_date": "2007-05-21",
          "episode": "4",
          "latitude": 33.7358518,
          "location": "San Pedro, California",
          "longitude": -118.2922934,
          "restaurant": "Gaffey Street Diner",
          "season": 1,
          "title": "Breakfast"
         },
         {
          "air_date": "2007-05-21",
          "episode": "4",
          "latitude": 35.978763799999996,
          "location": "Boulder City, Nevada",
          "longitude": -114.83377390000001,
          "restaurant": "The Coffee Cup",
          "season": 1,
          "title": "Breakfast"
         },
         {
          "air_date": "2007-05-28",
          "episode": "5",
          "latitude": 33.995044,
          "location": "Venice, California",
          "longitude": -118.4668875,
          "restaurant": "Baby Blues BBQ",
          "season": 1,
          "title": "BBQ"
         },
         {
          "air_date": "2007-05-28",
          "episode": "5",
          "latitude": 32.279312100000006,
          "location": "Taylor, Texas",
          "longitude": -99.88126120000001,
          "restaurant": "Louie Mueller BBQ",
          "season": 1,
          "title": "BBQ"
         },
         {
          "air_date": "2007-05-28",
          "episode": "5",
          "latitude": 35.2270869,
          "location": "Charlotte, North Carolina",
          "longitude": -80.8431268,
          "restaurant": "Barbecue King Drive-In",
          "season": 1,
          "title": "BBQ"
         },
         {
          "air_date": "2007-06-04",
          "episode": "6",
          "latitude": 41.7847232,
          "location": "Hyde Park, New York",
          "longitude": -73.93324609999999,
          "restaurant": "Eveready Diner",
          "season": 1,
          "title": "Local Legends"
         },
         {
          "air_date": "2007-06-04",
          "episode": "6",
          "latitude": 35.4729886,
          "location": "Oklahoma City, Oklahoma",
          "longitude": -97.5170536,
          "restaurant": "Leo's BBQ",
          "season": 1,
          "title": "Local Legends"
         },
         {
          "air_date": "2007-06-04",
          "episode": "6",
          "latitude": 44.230441,
          "location": "Gardiner, Maine",
          "longitude": -69.775543,
          "restaurant": "A1 Diner",
          "season": 1,
          "title": "Local Legends"
         },
         {
          "air_date": "2007-06-11",
          "episode": "7",
          "latitude": 40.4258686,
          "location": "West Lafayette, Indiana",
          "longitude": -86.9080655,
          "restaurant": "Triple XXX Restaurant",
          "season": 1,
          "title": "Burgers"
         },
         {
          "air_date": "2007-06-11",
          "episode": "7",
          "latitude": 42.0700662,
          "location": "Glenview, Illinois",
          "longitude": -87.81140440000001,
          "restaurant": "Hackney's",
          "season": 1,
          "title": "Burgers"
         },
         {
          "air_date": "2007-06-11",
          "episode": "7",
          "latitude": 38.5815719,
          "location": "Sacramento, California",
          "longitude": -121.49439960000001,
          "restaurant": "Squeeze Inn",
          "season": 1,
          "title": "Burgers"
         },
         {
          "air_date": "2007-06-18",
          "episode": "8",
          "latitude": 42.995639700000005,
          "location": "Manchester, New Hampshire",
          "longitude": -71.4547891,
          "restaurant": "Red Arrow Diner",
          "season": 1,
          "title": "House Specials"
         },
         {
          "air_date": "2007-06-18",
          "episode": "8",
          "latitude": 38.4404925,
          "location": "Santa Rosa, California",
          "longitude": -122.71410490000001,
          "restaurant": "Hank's Creekside Restaurant",
          "season": 1,
          "title": "House Specials"
         },
         {
          "air_date": "2007-06-18",
          "episode": "8",
          "latitude": 47.6038321,
          "location": "Seattle, Washington",
          "longitude": -122.3300624,
          "restaurant": "Voula's Offshore Café",
          "season": 1,
          "title": "House Specials"
         },
         {
          "air_date": "2007-07-09",
          "episode": "9",
          "latitude": 41.5824086,
          "location": "Goshen, Indiana",
          "longitude": -85.834366,
          "restaurant": "South Side Soda Shop and Diner",
          "season": 1,
          "title": "Retro"
         },
         {
          "air_date": "2007-07-09",
          "episode": "9",
          "latitude": 38.5052288,
          "location": "St. Helena, California",
          "longitude": -122.47004240000001,
          "restaurant": "Taylor's Automatic Refresher",
          "season": 1,
          "title": "Retro"
         },
         {
          "air_date": "2007-07-09",
          "episode": "9",
          "latitude": 45.5202471,
          "location": "Portland, Oregon",
          "longitude": -122.6741949,
          "restaurant": "Byways Café",
          "season": 1,
          "title": "Retro"
         },
         {
          "air_date": "2007-07-16",
          "episode": "10",
          "latitude": 47.6262725,
          "location": "Bainbridge Island, Washington",
          "longitude": -122.5209287,
          "restaurant": "Big Star Diner",
          "season": 1,
          "title": "Worth the Trip"
         },
         {
          "air_date": "2007-07-16",
          "episode": "10",
          "latitude": 35.0717945,
          "location": "Gaffney, South Carolina",
          "longitude": -81.64981949999999,
          "restaurant": "Harold's Café",
          "season": 1,
          "title": "Worth the Trip"
         },
         {
          "air_date": "2007-07-16",
          "episode": "10",
          "latitude": 40.8466508,
          "location": "Bronx, New York",
          "longitude": -73.87859370000001,
          "restaurant": "Mo Gridder's BBQ",
          "season": 1,
          "title": "Worth the Trip"
         },
         {
          "air_date": "2007-07-23",
          "episode": "11",
          "latitude": 42.3875968,
          "location": "Somerville, Massachusetts",
          "longitude": -71.0994968,
          "restaurant": "Kelly's Diner",
          "season": 1,
          "title": "Diners A-Plenty"
         },
         {
          "air_date": "2007-07-23",
          "episode": "11",
          "latitude": 40.6220478,
          "location": "Linden, New Jersey",
          "longitude": -74.2445902,
          "restaurant": "Bay Way Diner",
          "season": 1,
          "title": "Diners A-Plenty"
         },
         {
          "air_date": "2007-07-23",
          "episode": "11",
          "latitude": 34.949800700000004,
          "location": "Spartanburg, South Carolina",
          "longitude": -81.9320157,
          "restaurant": "Beacon Drive-In",
          "season": 1,
          "title": "Diners A-Plenty"
         },
         {
          "air_date": "2007-07-30",
          "episode": "12",
          "latitude": 43.119721000000006,
          "location": "Rockford, Michigan",
          "longitude": -85.55960400000001,
          "restaurant": "Rosie's Diner",
          "season": 1,
          "title": "American Cookin' "
         },
         {
          "air_date": "2007-07-30",
          "episode": "12",
          "latitude": 44.9504037,
          "location": "St. Paul, Minnesota",
          "longitude": -93.10150259999999,
          "restaurant": "Dari-ette Drive-In",
          "season": 1,
          "title": "American Cookin' "
         },
         {
          "air_date": "2007-07-30",
          "episode": "12",
          "latitude": 38.483340500000004,
          "location": "Forestville, California",
          "longitude": -122.86158427486583,
          "restaurant": "The Russian River Pub",
          "season": 1,
          "title": "American Cookin' "
         },
         {
          "air_date": "2007-07-30",
          "episode": "12",
          "latitude": 44.9772995,
          "location": "Minneapolis, Minnesota",
          "longitude": -93.2654692,
          "restaurant": "Al's Breakfast",
          "season": 1,
          "title": "American Cookin' "
         },
         {
          "air_date": "2007-10-01",
          "episode": "1",
          "latitude": 37.3361905,
          "location": "San Jose, California",
          "longitude": -121.89058329999999,
          "restaurant": "Falafel's Drive-In",
          "season": 2,
          "title": "Totally Fried"
         },
         {
          "air_date": "2007-10-01",
          "episode": "1",
          "latitude": 33.041711199999995,
          "location": "Ramona, California",
          "longitude": -116.8680821,
          "restaurant": "Ramona Café",
          "season": 2,
          "title": "Totally Fried"
         },
         {
          "air_date": "2007-10-01",
          "episode": "1",
          "latitude": 39.9527237,
          "location": "Philadelphia, Pennsylvania",
          "longitude": -75.16352619999999,
          "restaurant": "Silk City Diner",
          "season": 2,
          "title": "Totally Fried"
         },
         {
          "air_date": "2007-10-08",
          "episode": "2",
          "latitude": 34.536106700000005,
          "location": "Victorville, California",
          "longitude": -117.2911565,
          "restaurant": "Emma Jean's Holland Burger Café",
          "season": 2,
          "title": "Route 66"
         },
         {
          "air_date": "2007-10-08",
          "episode": "2",
          "latitude": 35.7477749,
          "location": "Stroud, Oklahoma",
          "longitude": -96.65667420000001,
          "restaurant": "The Rock Café",
          "season": 2,
          "title": "Route 66"
         },
         {
          "air_date": "2007-10-08",
          "episode": "2",
          "latitude": 37.02367589999999,
          "location": "Baxter Springs, Kansas",
          "longitude": -94.73550420000001,
          "restaurant": "Café on the Route",
          "season": 2,
          "title": "Route 66"
         },
         {
          "air_date": "2007-10-15",
          "episode": "3",
          "latitude": 41.6257406,
          "location": "Tiverton, Rhode Island",
          "longitude": -71.166333,
          "restaurant": "Evelyn's Drive-In",
          "season": 2,
          "title": "Seaside Eats"
         },
         {
          "air_date": "2007-10-15",
          "episode": "3",
          "latitude": 32.7448067,
          "location": "Ocean Beach, California",
          "longitude": -117.2476067,
          "restaurant": "Hodad's",
          "season": 2,
          "title": "Seaside Eats"
         },
         {
          "air_date": "2007-10-15",
          "episode": "3",
          "latitude": 27.891338,
          "location": "Indian Rocks Beach, Florida",
          "longitude": -82.84518880012078,
          "restaurant": "Keegan's Seafood Grille",
          "season": 2,
          "title": "Seaside Eats"
         },
         {
          "air_date": "2007-10-22",
          "episode": "4",
          "latitude": 36.63879489999999,
          "location": "Vinita, Oklahoma",
          "longitude": -95.1543297,
          "restaurant": "Clanton's Café",
          "season": 2,
          "title": "Local Flavors"
         },
         {
          "air_date": "2007-10-22",
          "episode": "4",
          "latitude": 47.6038321,
          "location": "Seattle, Washington",
          "longitude": -122.3300624,
          "restaurant": "Mike's Chili Parlor",
          "season": 2,
          "title": "Local Flavors"
         },
         {
          "air_date": "2007-10-22",
          "episode": "4",
          "latitude": 23.369259,
          "location": "Pescadero, California",
          "longitude": -110.172503,
          "restaurant": "Duarte's Tavern",
          "season": 2,
          "title": "Local Flavors"
         },
         {
          "air_date": "2007-10-29",
          "episode": "5",
          "latitude": 47.9673056,
          "location": "Everett, Washington",
          "longitude": -122.20139979999999,
          "restaurant": "Bobby's Hawaiian Style Restaurant",
          "season": 2,
          "title": "Viewer's Choice"
         },
         {
          "air_date": "2007-10-29",
          "episode": "5",
          "latitude": 27.755027600000002,
          "location": "South Pasadena, Florida",
          "longitude": -82.7376009,
          "restaurant": "Ted Peters Famous Smoked Fish",
          "season": 2,
          "title": "Viewer's Choice"
         },
         {
          "air_date": "2007-10-29",
          "episode": "5",
          "latitude": 44.9772995,
          "location": "Minneapolis, Minnesota",
          "longitude": -93.2654692,
          "restaurant": "Psycho Suzie's Motor Lounge",
          "season": 2,
          "title": "Viewer's Choice"
         },
         {
          "air_date": "2007-11-05",
          "episode": "6",
          "latitude": 33.8963593,
          "location": "Gardena, California",
          "longitude": -118.3053037,
          "restaurant": "Jay Bee's Bar-B-Que",
          "season": 2,
          "title": "Real Deal BBQ"
         },
         {
          "air_date": "2007-11-05",
          "episode": "6",
          "latitude": 41.875561600000005,
          "location": "Chicago, Illinois",
          "longitude": -87.6244212,
          "restaurant": "Smoque",
          "season": 2,
          "title": "Real Deal BBQ"
         },
         {
          "air_date": "2007-11-05",
          "episode": "6",
          "latitude": 38.57233179999999,
          "location": "Paola, Kansas",
          "longitude": -94.8786484,
          "restaurant": "BBQ Shack",
          "season": 2,
          "title": "Real Deal BBQ"
         },
         {
          "air_date": "2007-11-10",
          "episode": "7",
          "latitude": 42.3602534,
          "location": "Boston, Massachusetts",
          "longitude": -71.0582912,
          "restaurant": "Mike's City Diner",
          "season": 2,
          "title": "Talkin' Turkey"
         },
         {
          "air_date": "2007-11-10",
          "episode": "7",
          "latitude": 38.4404925,
          "location": "Santa Rosa, California",
          "longitude": -122.71410490000001,
          "restaurant": "Willie Bird's Restaurant",
          "season": 2,
          "title": "Talkin' Turkey"
         },
         {
          "air_date": "2007-11-10",
          "episode": "7",
          "latitude": 27.3364347,
          "location": "Sarasota, Florida",
          "longitude": -82.5306527,
          "restaurant": "Alpine Steakhouse",
          "season": 2,
          "title": "Talkin' Turkey"
         },
         {
          "air_date": "2007-11-19",
          "episode": "8",
          "latitude": 42.6320389,
          "location": "Essex, Massachusetts",
          "longitude": -70.7828255,
          "restaurant": "JT Farnham's Seafood & Grill",
          "season": 2,
          "title": "One of a Kind"
         },
         {
          "air_date": "2007-11-19",
          "episode": "8",
          "latitude": 42.629203000000004,
          "location": "Potterville, Michigan",
          "longitude": -84.738874,
          "restaurant": "Joe's Gizzard City",
          "season": 2,
          "title": "One of a Kind"
         },
         {
          "air_date": "2007-11-19",
          "episode": "8",
          "latitude": 37.779026200000004,
          "location": "San Francisco, California",
          "longitude": -122.4199061,
          "restaurant": "Grubstake Diner",
          "season": 2,
          "title": "One of a Kind"
         },
         {
          "air_date": "2007-11-19",
          "episode": "8",
          "latitude": 37.3361905,
          "location": "San Jose, California",
          "longitude": -121.89058329999999,
          "restaurant": "Los Tapatios",
          "season": 2,
          "title": "One of a Kind"
         },
         {
          "air_date": "2007-11-23",
          "episode": "9",
          "latitude": 32.7174209,
          "location": "San Diego, California",
          "longitude": -117.16277140000001,
          "restaurant": "El Indio",
          "season": 2,
          "title": "Family Owned"
         },
         {
          "air_date": "2007-11-23",
          "episode": "9",
          "latitude": 42.2482063,
          "location": "Spencer, Massachusetts",
          "longitude": -71.9938312,
          "restaurant": "Charlie's Diner",
          "season": 2,
          "title": "Family Owned"
         },
         {
          "air_date": "2007-11-23",
          "episode": "9",
          "latitude": 42.041582299999995,
          "location": "Des Plaines, Illinois",
          "longitude": -87.8873916,
          "restaurant": "Paradise Pup",
          "season": 2,
          "title": "Family Owned"
         },
         {
          "air_date": "2008-01-13",
          "episode": "10",
          "latitude": 32.7174209,
          "location": "San Diego, California",
          "longitude": -117.16277140000001,
          "restaurant": "Studio Diner",
          "season": 2,
          "title": "Open 24/7"
         },
         {
          "air_date": "2008-01-13",
          "episode": "10",
          "latitude": 41.875561600000005,
          "location": "Chicago, Illinois",
          "longitude": -87.6244212,
          "restaurant": "White Palace Grill",
          "season": 2,
          "title": "Open 24/7"
         },
         {
          "air_date": "2008-01-13",
          "episode": "10",
          "latitude": 39.9527237,
          "location": "Philadelphia, Pennsylvania",
          "longitude": -75.16352619999999,
          "restaurant": "The Dining Car",
          "season": 2,
          "title": "Open 24/7"
         },
         {
          "air_date": "2008-01-20",
          "episode": "11",
          "latitude": 33.7690164,
          "location": "Long Beach, California",
          "longitude": -118.1916048,
          "restaurant": "Schooner or Later",
          "season": 2,
          "title": "Off the Hook Specials"
         },
         {
          "air_date": "2008-01-20",
          "episode": "11",
          "latitude": 39.100105,
          "location": "Kansas City, Missouri",
          "longitude": -94.5781416,
          "restaurant": "Grinders Pizza",
          "season": 2,
          "title": "Off the Hook Specials"
         },
         {
          "air_date": "2008-01-20",
          "episode": "11",
          "latitude": 42.4605917,
          "location": "Ferndale, Michigan",
          "longitude": -83.1346478,
          "restaurant": "The Fly Trap",
          "season": 2,
          "title": "Off the Hook Specials"
         },
         {
          "air_date": "2008-01-20",
          "episode": "11",
          "latitude": 41.875561600000005,
          "location": "Chicago, Illinois",
          "longitude": -87.6244212,
          "restaurant": "Galewood Cook Shack",
          "season": 2,
          "title": "Off the Hook Specials"
         },
         {
          "air_date": "2008-01-21",
          "episode": "12",
          "latitude": 37.779026200000004,
          "location": "San Francisco, California",
          "longitude": -122.4199061,
          "restaurant": "Joe's Cable Car",
          "season": 2,
          "title": "Burgers, Rings and Fries"
         },
         {
          "air_date": "2008-01-21",
          "episode": "12",
          "latitude": 44.9504037,
          "location": "St. Paul, Minnesota",
          "longitude": -93.10150259999999,
          "restaurant": "The Nook",
          "season": 2,
          "title": "Burgers, Rings and Fries"
         },
         {
          "air_date": "2008-01-21",
          "episode": "12",
          "latitude": 42.268156899999994,
          "location": "Ann Arbor, Michigan",
          "longitude": -83.7312291,
          "restaurant": "Krazy Jim's Blimpy Burger",
          "season": 2,
          "title": "Burgers, Rings and Fries"
         },
         {
          "air_date": "2008-01-28",
          "episode": "13",
          "latitude": 39.757620200000005,
          "location": "Barnegat Light, New Jersey",
          "longitude": -74.10624659999999,
          "restaurant": "Mustache Bill's",
          "season": 2,
          "title": "The New Jersey Diner Tour"
         },
         {
          "air_date": "2008-01-28",
          "episode": "13",
          "latitude": 40.858432799999996,
          "location": "Clifton, New Jersey",
          "longitude": -74.16375529999999,
          "restaurant": "Tick Tock Diner",
          "season": 2,
          "title": "The New Jersey Diner Tour"
         },
         {
          "air_date": "2008-01-28",
          "episode": "13",
          "latitude": 40.8871438,
          "location": "Hackensack, New Jersey",
          "longitude": -74.0410865,
          "restaurant": "White Manna Hamburgers",
          "season": 2,
          "title": "The New Jersey Diner Tour"
         },
         {
          "air_date": "2008-01-28",
          "episode": "13",
          "latitude": 40.795933500000004,
          "location": "Livingston, New Jersey",
          "longitude": -74.3148713,
          "restaurant": "The Ritz Diner",
          "season": 2,
          "title": "The New Jersey Diner Tour"
         },
         {
          "air_date": "2008-01-28",
          "episode": "13",
          "latitude": 40.2695538,
          "location": "Hightstown, New Jersey",
          "longitude": -74.5232089,
          "restaurant": "Hightstown Diner",
          "season": 2,
          "title": "The New Jersey Diner Tour"
         },
         {
          "air_date": "2008-01-28",
          "episode": "13",
          "latitude": 40.5382375,
          "location": "Edison, New Jersey",
          "longitude": -74.39451734508772,
          "restaurant": "Skylark Diner",
          "season": 2,
          "title": "The New Jersey Diner Tour"
         },
         {
          "air_date": "2008-01-28",
          "episode": "13",
          "latitude": 40.904011,
          "location": "Lake Hopatcong, New Jersey",
          "longitude": -74.665452,
          "restaurant": "Jefferson Diner",
          "season": 2,
          "title": "The New Jersey Diner Tour"
         },
         {
          "air_date": "2008-03-10",
          "episode": "1",
          "latitude": 40.7281575,
          "location": "Jersey City, New Jersey",
          "longitude": -74.0776417,
          "restaurant": "Brownstone Diner",
          "season": 3,
          "title": "Big Breakfast"
         },
         {
          "air_date": "2008-03-10",
          "episode": "1",
          "latitude": 39.100105,
          "location": "Kansas City, Missouri",
          "longitude": -94.5781416,
          "restaurant": "39th Street Mama's",
          "season": 3,
          "title": "Big Breakfast"
         },
         {
          "air_date": "2008-03-10",
          "episode": "1",
          "latitude": 33.448436699999995,
          "location": "Phoenix, Arizona",
          "longitude": -112.07414170000001,
          "restaurant": "Matt's Big Breakfast",
          "season": 3,
          "title": "Big Breakfast"
         },
         {
          "air_date": "2008-03-17",
          "episode": "2",
          "latitude": 33.448436699999995,
          "location": "Phoenix, Arizona",
          "longitude": -112.07414170000001,
          "restaurant": "Roberto's Mexican Food",
          "season": 3,
          "title": "Like Mama Made"
         },
         {
          "air_date": "2008-03-17",
          "episode": "2",
          "latitude": 38.3000809,
          "location": "Olive Hill, Kentucky",
          "longitude": -83.1740654,
          "restaurant": "Smokey Valley Truck Stop",
          "season": 3,
          "title": "Like Mama Made"
         },
         {
          "air_date": "2008-03-17",
          "episode": "2",
          "latitude": 38.6529545,
          "location": "St. Louis, Missouri",
          "longitude": -90.24111656024635,
          "restaurant": "Sweetie Pie's",
          "season": 3,
          "title": "Like Mama Made"
         },
         {
          "air_date": "2008-03-24",
          "episode": "3",
          "latitude": 39.7990175,
          "location": "Springfield, Illinois",
          "longitude": -89.6439575,
          "restaurant": "Charlie Parker's",
          "season": 3,
          "title": "Regional Favorites"
         },
         {
          "air_date": "2008-03-24",
          "episode": "3",
          "latitude": 35.68699960000001,
          "location": "Santa Fe, New Mexico",
          "longitude": -105.9377997,
          "restaurant": "Tecolote Café",
          "season": 3,
          "title": "Regional Favorites"
         },
         {
          "air_date": "2008-03-24",
          "episode": "3",
          "latitude": 36.9682101,
          "location": "Wakefield, Virginia",
          "longitude": -76.9896882,
          "restaurant": "Virginia Diner",
          "season": 3,
          "title": "Regional Favorites"
         },
         {
          "air_date": "2008-03-31",
          "episode": "4",
          "latitude": 37.8115318,
          "location": "Silverton, Colorado",
          "longitude": -107.66436470000001,
          "restaurant": "Thee Pitts Again",
          "season": 3,
          "title": "Neighborhood Joints"
         },
         {
          "air_date": "2008-03-31",
          "episode": "4",
          "latitude": 38.6529545,
          "location": "St. Louis, Missouri",
          "longitude": -90.24111656024635,
          "restaurant": "Iron Barley",
          "season": 3,
          "title": "Neighborhood Joints"
         },
         {
          "air_date": "2008-03-31",
          "episode": "4",
          "latitude": 40.1746252,
          "location": "Hatboro, Pennsylvania",
          "longitude": -75.106825,
          "restaurant": "Daddypops",
          "season": 3,
          "title": "Neighborhood Joints"
         },
         {
          "air_date": "2008-03-31",
          "episode": "4",
          "latitude": 37.53850870000001,
          "location": "Richmond, Virginia",
          "longitude": -77.43428,
          "restaurant": "The Village Café",
          "season": 3,
          "title": "Neighborhood Joints"
         },
         {
          "air_date": "2008-04-07",
          "episode": "5",
          "latitude": 33.448436699999995,
          "location": "Phoenix, Arizona",
          "longitude": -112.07414170000001,
          "restaurant": "Chino Bandido",
          "season": 3,
          "title": "A World of Flavors"
         },
         {
          "air_date": "2008-04-07",
          "episode": "5",
          "latitude": 33.9528472,
          "location": "Marietta, Georgia",
          "longitude": -84.54961479999999,
          "restaurant": "Marietta Diner",
          "season": 3,
          "title": "A World of Flavors"
         },
         {
          "air_date": "2008-04-07",
          "episode": "5",
          "latitude": 39.100105,
          "location": "Kansas City, Missouri",
          "longitude": -94.5781416,
          "restaurant": "YJ's Snack Bar",
          "season": 3,
          "title": "A World of Flavors"
         },
         {
          "air_date": "2008-04-14",
          "episode": "6",
          "latitude": 25.7742658,
          "location": "Miami, Florida",
          "longitude": -80.1936589,
          "restaurant": "Scully's Tavern",
          "season": 3,
          "title": "Something Different"
         },
         {
          "air_date": "2008-04-14",
          "episode": "6",
          "latitude": 37.53850870000001,
          "location": "Richmond, Virginia",
          "longitude": -77.43428,
          "restaurant": "Dot's Back Inn",
          "season": 3,
          "title": "Something Different"
         },
         {
          "air_date": "2008-04-14",
          "episode": "6",
          "latitude": 38.5064731,
          "location": "Lesage, West Virginia",
          "longitude": -82.2984823,
          "restaurant": "Hillbilly Hot Dogs",
          "season": 3,
          "title": "Something Different"
         },
         {
          "air_date": "2008-05-18",
          "episode": "7",
          "latitude": 25.7929198,
          "location": "Miami Beach, Florida",
          "longitude": -80.1353006,
          "restaurant": "11th Street Diner",
          "season": 3,
          "title": "American Classics"
         },
         {
          "air_date": "2008-05-18",
          "episode": "7",
          "latitude": 39.049011,
          "location": "Topeka, Kansas",
          "longitude": -95.67755600000001,
          "restaurant": "Bobo Drive-In",
          "season": 3,
          "title": "American Classics"
         },
         {
          "air_date": "2008-05-18",
          "episode": "7",
          "latitude": 35.1490215,
          "location": "Memphis, Tennessee",
          "longitude": -90.0516285,
          "restaurant": "Little Tea Shop",
          "season": 3,
          "title": "American Classics"
         },
         {
          "air_date": "2008-05-19",
          "episode": "8",
          "latitude": 30.507956,
          "location": "Fairhope, Alabama",
          "longitude": -87.89742922432941,
          "restaurant": "Panini Pete's",
          "season": 3,
          "title": "Real Deal Fast Food"
         },
         {
          "air_date": "2008-05-19",
          "episode": "8",
          "latitude": 33.3527632,
          "location": "Gilbert, Arizona",
          "longitude": -111.78903729999999,
          "restaurant": "Joe's Farm Grill",
          "season": 3,
          "title": "Real Deal Fast Food"
         },
         {
          "air_date": "2008-05-19",
          "episode": "8",
          "latitude": 30.2711286,
          "location": "Austin, Texas",
          "longitude": -97.7436995,
          "restaurant": "Maria's Taco Express",
          "season": 3,
          "title": "Real Deal Fast Food"
         },
         {
          "air_date": "2008-05-26",
          "episode": "9",
          "latitude": 35.1490215,
          "location": "Memphis, Tennessee",
          "longitude": -90.0516285,
          "restaurant": "Cozy Corner",
          "season": 3,
          "title": "The Memphis BBQ Tour"
         },
         {
          "air_date": "2008-05-26",
          "episode": "9",
          "latitude": 35.1490215,
          "location": "Memphis, Tennessee",
          "longitude": -90.0516285,
          "restaurant": "Leonard's BBQ",
          "season": 3,
          "title": "The Memphis BBQ Tour"
         },
         {
          "air_date": "2008-05-26",
          "episode": "9",
          "latitude": 35.1490215,
          "location": "Memphis, Tennessee",
          "longitude": -90.0516285,
          "restaurant": "Marlowe's Ribs",
          "season": 3,
          "title": "The Memphis BBQ Tour"
         },
         {
          "air_date": "2008-05-26",
          "episode": "9",
          "latitude": 35.1490215,
          "location": "Memphis, Tennessee",
          "longitude": -90.0516285,
          "restaurant": "Tom's Bar-B-Q",
          "season": 3,
          "title": "The Memphis BBQ Tour"
         },
         {
          "air_date": "2008-06-15",
          "episode": "10",
          "latitude": 26.050783950000003,
          "location": "Dania Beach, Florida",
          "longitude": -80.14612392627231,
          "restaurant": "Grampa's Bakery & Restaurant",
          "season": 3,
          "title": "Comfort Food"
         },
         {
          "air_date": "2008-06-15",
          "episode": "10",
          "latitude": 39.2908816,
          "location": "Baltimore, Maryland",
          "longitude": -76.610759,
          "restaurant": "Blue Moon Café",
          "season": 3,
          "title": "Comfort Food"
         },
         {
          "air_date": "2008-06-15",
          "episode": "10",
          "latitude": 38.41924960000001,
          "location": "Huntington, West Virginia",
          "longitude": -82.445154,
          "restaurant": "Central City Cafe",
          "season": 3,
          "title": "Comfort Food"
         },
         {
          "air_date": "2008-06-15",
          "episode": "10",
          "latitude": 29.424600199999997,
          "location": "San Antonio, Texas",
          "longitude": -98.4951405,
          "restaurant": "Tip Top Café",
          "season": 3,
          "title": "Comfort Food"
         },
         {
          "air_date": "2008-06-23",
          "episode": "11",
          "latitude": 33.8532701,
          "location": "Tucker, Georgia",
          "longitude": -84.2200729,
          "restaurant": "Matthews Cafeteria",
          "season": 3,
          "title": "Where The Locals Go"
         },
         {
          "air_date": "2008-06-23",
          "episode": "11",
          "latitude": 29.8502657,
          "location": "Jefferson, Louisiana",
          "longitude": -90.12938940000001,
          "restaurant": "The Rivershack Tavern",
          "season": 3,
          "title": "Where The Locals Go"
         },
         {
          "air_date": "2008-06-23",
          "episode": "11",
          "latitude": 35.0841034,
          "location": "Albuquerque, New Mexico",
          "longitude": -106.6509851,
          "restaurant": "Monte Carlo Steak House",
          "season": 3,
          "title": "Where The Locals Go"
         },
         {
          "air_date": "2008-06-30",
          "episode": "12",
          "latitude": 29.949932300000004,
          "location": "New Orleans, Louisiana",
          "longitude": -90.0701156,
          "restaurant": "The Joint",
          "season": 3,
          "title": "All Kinds of BBQ"
         },
         {
          "air_date": "2008-06-30",
          "episode": "12",
          "latitude": 30.4112904,
          "location": "Ocean Springs, Mississippi",
          "longitude": -88.8279165,
          "restaurant": "The Shed",
          "season": 3,
          "title": "All Kinds of BBQ"
         },
         {
          "air_date": "2008-06-30",
          "episode": "12",
          "latitude": 29.393012899999995,
          "location": "Adkins, Texas",
          "longitude": -98.23723290000001,
          "restaurant": "Texas Pride BBQ",
          "season": 3,
          "title": "All Kinds of BBQ"
         },
         {
          "air_date": "2008-07-07",
          "episode": "13",
          "latitude": 25.7078467,
          "location": "South Miami, Florida",
          "longitude": -80.29563567682855,
          "restaurant": "Benny's Seafood Restaurant",
          "season": 3,
          "title": "In the Family"
         },
         {
          "air_date": "2008-07-07",
          "episode": "13",
          "latitude": 39.2908816,
          "location": "Baltimore, Maryland",
          "longitude": -76.610759,
          "restaurant": "Chaps Pit Beef",
          "season": 3,
          "title": "In the Family"
         },
         {
          "air_date": "2008-07-07",
          "episode": "13",
          "latitude": 41.1617999,
          "location": "Roy, Utah",
          "longitude": -112.0261903,
          "restaurant": "Burger Bar",
          "season": 3,
          "title": "In the Family"
         },
         {
          "air_date": "2008-07-14",
          "episode": "1",
          "latitude": 36.846292299999995,
          "location": "Norfolk, Virginia",
          "longitude": -76.2929252,
          "restaurant": "Doumar's",
          "season": 4,
          "title": "Brain Freeze"
         },
         {
          "air_date": "2008-07-14",
          "episode": "1",
          "latitude": 33.3062223,
          "location": "Chandler, Arizona",
          "longitude": -111.8413317,
          "restaurant": "Aunt Lena's Creamery",
          "season": 4,
          "title": "Brain Freeze"
         },
         {
          "air_date": "2008-07-14",
          "episode": "1",
          "latitude": 29.949932300000004,
          "location": "New Orleans, Louisiana",
          "longitude": -90.0701156,
          "restaurant": "The Creole Creamery",
          "season": 4,
          "title": "Brain Freeze"
         },
         {
          "air_date": "2008-07-21",
          "episode": "2",
          "latitude": 44.9772995,
          "location": "Minneapolis, Minnesota",
          "longitude": -93.2654692,
          "restaurant": "Town Talk Diner",
          "season": 4,
          "title": "Diners You Sent Me To"
         },
         {
          "air_date": "2008-07-21",
          "episode": "2",
          "latitude": 40.759619799999996,
          "location": "Salt Lake City, Utah",
          "longitude": -111.88679750000001,
          "restaurant": "Blue Plate Diner",
          "season": 4,
          "title": "Diners You Sent Me To"
         },
         {
          "air_date": "2008-07-21",
          "episode": "2",
          "latitude": 39.2908816,
          "location": "Baltimore, Maryland",
          "longitude": -76.610759,
          "restaurant": "Broadway Diner",
          "season": 4,
          "title": "Diners You Sent Me To"
         },
         {
          "air_date": "2008-07-28",
          "episode": "3",
          "latitude": 33.749098700000005,
          "location": "Atlanta, Georgia",
          "longitude": -84.39018490000001,
          "restaurant": "The Highlander",
          "season": 4,
          "title": "Bar Food"
         },
         {
          "air_date": "2008-07-28",
          "episode": "3",
          "latitude": 30.507956,
          "location": "Fairhope, Alabama",
          "longitude": -87.89742922432941,
          "restaurant": "Gumbo Shack",
          "season": 4,
          "title": "Bar Food"
         },
         {
          "air_date": "2008-07-28",
          "episode": "3",
          "latitude": 40.49340170000001,
          "location": "Blawnox, Pennsylvania",
          "longitude": -79.86060529999999,
          "restaurant": "Starlite Lounge",
          "season": 4,
          "title": "Bar Food"
         },
         {
          "air_date": "2008-08-04",
          "episode": "4",
          "latitude": 44.9772995,
          "location": "Minneapolis, Minnesota",
          "longitude": -93.2654692,
          "restaurant": "The Wienery",
          "season": 4,
          "title": "Burgers and Dogs"
         },
         {
          "air_date": "2008-08-04",
          "episode": "4",
          "latitude": 30.2711286,
          "location": "Austin, Texas",
          "longitude": -97.7436995,
          "restaurant": "Casino El Camino",
          "season": 4,
          "title": "Burgers and Dogs"
         },
         {
          "air_date": "2008-08-04",
          "episode": "4",
          "latitude": 39.2908816,
          "location": "Baltimore, Maryland",
          "longitude": -76.610759,
          "restaurant": "G&A Restaurant",
          "season": 4,
          "title": "Burgers and Dogs"
         },
         {
          "air_date": "2008-08-11",
          "episode": "5",
          "latitude": 35.1490215,
          "location": "Memphis, Tennessee",
          "longitude": -90.0516285,
          "restaurant": "Uncle Lou's",
          "season": 4,
          "title": "Where the Locals Eat"
         },
         {
          "air_date": "2008-08-11",
          "episode": "5",
          "latitude": 36.9959815,
          "location": "Rescue, Virginia",
          "longitude": -76.5605083,
          "restaurant": "Captain Chuck A Mucks",
          "season": 4,
          "title": "Where the Locals Eat"
         },
         {
          "air_date": "2008-08-11",
          "episode": "5",
          "latitude": 41.258745899999994,
          "location": "Omaha, Nebraska",
          "longitude": -95.93837579999999,
          "restaurant": "Dixie Quicks",
          "season": 4,
          "title": "Where the Locals Eat"
         },
         {
          "air_date": "2008-08-18",
          "episode": "6",
          "latitude": 33.749098700000005,
          "location": "Atlanta, Georgia",
          "longitude": -84.39018490000001,
          "restaurant": "Cabbage Town Market",
          "season": 4,
          "title": "Totally Unexpected"
         },
         {
          "air_date": "2008-08-18",
          "episode": "6",
          "latitude": 29.424600199999997,
          "location": "San Antonio, Texas",
          "longitude": -98.4951405,
          "restaurant": "The Cove",
          "season": 4,
          "title": "Totally Unexpected"
         },
         {
          "air_date": "2008-08-18",
          "episode": "6",
          "latitude": 44.9772995,
          "location": "Minneapolis, Minnesota",
          "longitude": -93.2654692,
          "restaurant": "Bryant-Lake Bowl",
          "season": 4,
          "title": "Totally Unexpected"
         },
         {
          "air_date": "2008-09-15",
          "episode": "7",
          "latitude": 25.70633095,
          "location": "Kendale Lakes, Florida",
          "longitude": -80.40687177880208,
          "restaurant": "Jamaica Kitchen",
          "season": 4,
          "title": "A Taste of Everywhere"
         },
         {
          "air_date": "2008-09-15",
          "episode": "7",
          "latitude": 40.4416941,
          "location": "Pittsburgh, Pennsylvania",
          "longitude": -79.99008609999998,
          "restaurant": "Crystal Restaurant",
          "season": 4,
          "title": "A Taste of Everywhere"
         },
         {
          "air_date": "2008-09-15",
          "episode": "7",
          "latitude": 40.759619799999996,
          "location": "Salt Lake City, Utah",
          "longitude": -111.88679750000001,
          "restaurant": "Red Iguana",
          "season": 4,
          "title": "A Taste of Everywhere"
         },
         {
          "air_date": "2008-09-22",
          "episode": "8",
          "latitude": 33.749098700000005,
          "location": "Atlanta, Georgia",
          "longitude": -84.39018490000001,
          "restaurant": "Colonnade",
          "season": 4,
          "title": "Better Than Ever"
         },
         {
          "air_date": "2008-09-22",
          "episode": "8",
          "latitude": 30.6035255,
          "location": "Daphne, Alabama",
          "longitude": -87.9036047,
          "restaurant": "Manci's Antique Club",
          "season": 4,
          "title": "Better Than Ever"
         },
         {
          "air_date": "2008-09-22",
          "episode": "8",
          "latitude": 41.258745899999994,
          "location": "Omaha, Nebraska",
          "longitude": -95.93837579999999,
          "restaurant": "Amato's",
          "season": 4,
          "title": "Better Than Ever"
         },
         {
          "air_date": "2008-09-29",
          "episode": "9",
          "latitude": 30.3504751,
          "location": "Long Beach, Mississippi",
          "longitude": -89.15281759999999,
          "restaurant": "Darwell's Café",
          "season": 4,
          "title": "Big Flavor"
         },
         {
          "air_date": "2008-09-29",
          "episode": "9",
          "latitude": 39.2908816,
          "location": "Baltimore, Maryland",
          "longitude": -76.610759,
          "restaurant": "Brick Oven Pizza",
          "season": 4,
          "title": "Big Flavor"
         },
         {
          "air_date": "2008-09-29",
          "episode": "9",
          "latitude": 44.9772995,
          "location": "Minneapolis, Minnesota",
          "longitude": -93.2654692,
          "restaurant": "Victor's 1959 Café",
          "season": 4,
          "title": "Big Flavor"
         },
         {
          "air_date": "2008-10-06",
          "episode": "10",
          "latitude": 40.4416941,
          "location": "Pittsburgh, Pennsylvania",
          "longitude": -79.99008609999998,
          "restaurant": "Nadine's Restaurant",
          "season": 4,
          "title": "Cookin' It Old School"
         },
         {
          "air_date": "2008-10-06",
          "episode": "10",
          "latitude": 29.949932300000004,
          "location": "New Orleans, Louisiana",
          "longitude": -90.0701156,
          "restaurant": "Casamento's Restaurant",
          "season": 4,
          "title": "Cookin' It Old School"
         },
         {
          "air_date": "2008-10-06",
          "episode": "10",
          "latitude": 41.258745899999994,
          "location": "Omaha, Nebraska",
          "longitude": -95.93837579999999,
          "restaurant": "Big Mama's Kitchen & Catering",
          "season": 4,
          "title": "Cookin' It Old School"
         },
         {
          "air_date": "2008-10-13",
          "episode": "11",
          "latitude": 40.759619799999996,
          "location": "Salt Lake City, Utah",
          "longitude": -111.88679750000001,
          "restaurant": "Moochie's Meatballs & More",
          "season": 4,
          "title": "Grabbin'a Sandwich"
         },
         {
          "air_date": "2008-10-13",
          "episode": "11",
          "latitude": 41.875561600000005,
          "location": "Chicago, Illinois",
          "longitude": -87.6244212,
          "restaurant": "Cemitas Puebla",
          "season": 4,
          "title": "Grabbin'a Sandwich"
         },
         {
          "air_date": "2008-10-13",
          "episode": "11",
          "latitude": 32.7174209,
          "location": "San Diego, California",
          "longitude": -117.16277140000001,
          "restaurant": "Tioli's Crazee Burger",
          "season": 4,
          "title": "Grabbin'a Sandwich"
         },
         {
          "air_date": "2008-11-03",
          "episode": "12",
          "latitude": 45.0838098,
          "location": "White Bear Lake, Minnesota",
          "longitude": -93.0069304,
          "restaurant": "Donatelli's",
          "season": 4,
          "title": "Traditional Dishes"
         },
         {
          "air_date": "2008-11-03",
          "episode": "12",
          "latitude": 39.2908816,
          "location": "Baltimore, Maryland",
          "longitude": -76.610759,
          "restaurant": "Stoney Creek Inn",
          "season": 4,
          "title": "Traditional Dishes"
         },
         {
          "air_date": "2008-11-03",
          "episode": "12",
          "latitude": 35.1490215,
          "location": "Memphis, Tennessee",
          "longitude": -90.0516285,
          "restaurant": "Alcenia's",
          "season": 4,
          "title": "Traditional Dishes"
         },
         {
          "air_date": "2008-11-10",
          "episode": "13",
          "latitude": 40.759619799999996,
          "location": "Salt Lake City, Utah",
          "longitude": -111.88679750000001,
          "restaurant": "Lone Star Taqueria",
          "season": 4,
          "title": "Doin' Their Own Thing"
         },
         {
          "air_date": "2008-11-10",
          "episode": "13",
          "latitude": 44.9772995,
          "location": "Minneapolis, Minnesota",
          "longitude": -93.2654692,
          "restaurant": "Modern Café",
          "season": 4,
          "title": "Doin' Their Own Thing"
         },
         {
          "air_date": "2008-11-10",
          "episode": "13",
          "latitude": 41.258745899999994,
          "location": "Omaha, Nebraska",
          "longitude": -95.93837579999999,
          "restaurant": "Brewburger's",
          "season": 4,
          "title": "Doin' Their Own Thing"
         },
         {
          "air_date": "2008-11-10",
          "episode": "1",
          "latitude": 29.949932300000004,
          "location": "New Orleans, Louisiana",
          "longitude": -90.0701156,
          "restaurant": "Surrey's Café",
          "season": 5,
          "title": "What's For Breakfast"
         },
         {
          "air_date": "2008-11-10",
          "episode": "1",
          "latitude": 35.68699960000001,
          "location": "Santa Fe, New Mexico",
          "longitude": -105.9377997,
          "restaurant": "Harry's Roadhouse",
          "season": 5,
          "title": "What's For Breakfast"
         },
         {
          "air_date": "2008-11-10",
          "episode": "1",
          "latitude": 40.4416941,
          "location": "Pittsburgh, Pennsylvania",
          "longitude": -79.99008609999998,
          "restaurant": "Dor-Stop Restaurant",
          "season": 5,
          "title": "What's For Breakfast"
         },
         {
          "air_date": "2008-11-17",
          "episode": "2",
          "latitude": 40.5184013,
          "location": "Coraopolis, Pennsylvania",
          "longitude": -80.1667247,
          "restaurant": "LoBello's Spaghetti House",
          "season": 5,
          "title": "Real Deal Italian"
         },
         {
          "air_date": "2008-11-17",
          "episode": "2",
          "latitude": 39.2908816,
          "location": "Baltimore, Maryland",
          "longitude": -76.610759,
          "restaurant": "Di Pasquale's",
          "season": 5,
          "title": "Real Deal Italian"
         },
         {
          "air_date": "2008-11-17",
          "episode": "2",
          "latitude": 32.7174209,
          "location": "San Diego, California",
          "longitude": -117.16277140000001,
          "restaurant": "Pizzeria Luigi",
          "season": 5,
          "title": "Real Deal Italian"
         },
         {
          "air_date": "2008-11-24",
          "episode": "3",
          "latitude": 35.0841034,
          "location": "Albuquerque, New Mexico",
          "longitude": -106.6509851,
          "restaurant": "Sophia's Place",
          "season": 5,
          "title": "Not What You'd Expect"
         },
         {
          "air_date": "2008-11-24",
          "episode": "3",
          "latitude": 30.2711286,
          "location": "Austin, Texas",
          "longitude": -97.7436995,
          "restaurant": "Magnolia Café",
          "season": 5,
          "title": "Not What You'd Expect"
         },
         {
          "air_date": "2008-11-24",
          "episode": "3",
          "latitude": 41.875561600000005,
          "location": "Chicago, Illinois",
          "longitude": -87.6244212,
          "restaurant": "Glenn's Diner",
          "season": 5,
          "title": "Not What You'd Expect"
         },
         {
          "air_date": "2008-12-01",
          "episode": "4",
          "latitude": 40.759619799999996,
          "location": "Salt Lake City, Utah",
          "longitude": -111.88679750000001,
          "restaurant": "Ruth's Diner",
          "season": 5,
          "title": "Places You Sent Me"
         },
         {
          "air_date": "2008-12-01",
          "episode": "4",
          "latitude": 41.562317799999995,
          "location": "Middletown, Connecticut",
          "longitude": -72.6509061,
          "restaurant": "O'Rourke's Diner",
          "season": 5,
          "title": "Places You Sent Me"
         },
         {
          "air_date": "2008-12-01",
          "episode": "4",
          "latitude": 29.949932300000004,
          "location": "New Orleans, Louisiana",
          "longitude": -90.0701156,
          "restaurant": "Parasol's",
          "season": 5,
          "title": "Places You Sent Me"
         },
         {
          "air_date": "2009-01-05",
          "episode": "5",
          "latitude": 37.779026200000004,
          "location": "San Francisco, California",
          "longitude": -122.4199061,
          "restaurant": "Tommy's Joynt",
          "season": 5,
          "title": "Long Time Legends"
         },
         {
          "air_date": "2009-01-05",
          "episode": "5",
          "latitude": 41.258745899999994,
          "location": "Omaha, Nebraska",
          "longitude": -95.93837579999999,
          "restaurant": "Joe Tess Place",
          "season": 5,
          "title": "Long Time Legends"
         },
         {
          "air_date": "2009-01-05",
          "episode": "5",
          "latitude": 40.4416941,
          "location": "Pittsburgh, Pennsylvania",
          "longitude": -79.99008609999998,
          "restaurant": "Big Jim's",
          "season": 5,
          "title": "Long Time Legends"
         },
         {
          "air_date": "2009-01-12",
          "episode": "6",
          "latitude": 41.1175966,
          "location": "Norwalk, Connecticut",
          "longitude": -73.4078968,
          "restaurant": "Valencia Luncheria",
          "season": 5,
          "title": "Something from Everywhere"
         },
         {
          "air_date": "2009-01-12",
          "episode": "6",
          "latitude": 41.875561600000005,
          "location": "Chicago, Illinois",
          "longitude": -87.6244212,
          "restaurant": "The Original Vito & Nick's Pizzeria",
          "season": 5,
          "title": "Something from Everywhere"
         },
         {
          "air_date": "2009-01-12",
          "episode": "6",
          "latitude": 44.9772995,
          "location": "Minneapolis, Minnesota",
          "longitude": -93.2654692,
          "restaurant": "Emily's Lebanese Delicatessen",
          "season": 5,
          "title": "Something from Everywhere"
         },
         {
          "air_date": "2009-01-19",
          "episode": "7",
          "latitude": 40.759619799999996,
          "location": "Salt Lake City, Utah",
          "longitude": -111.88679750000001,
          "restaurant": "Pat's BBQ",
          "season": 5,
          "title": "Neighborhood Favorites"
         },
         {
          "air_date": "2009-01-19",
          "episode": "7",
          "latitude": 30.367419800000004,
          "location": "Gulfport, Mississippi",
          "longitude": -89.0928155,
          "restaurant": "Blow Fly Inn",
          "season": 5,
          "title": "Neighborhood Favorites"
         },
         {
          "air_date": "2009-01-19",
          "episode": "7",
          "latitude": 35.68699960000001,
          "location": "Santa Fe, New Mexico",
          "longitude": -105.9377997,
          "restaurant": "Tune-Up Café",
          "season": 5,
          "title": "Neighborhood Favorites"
         },
         {
          "air_date": "2009-01-26",
          "episode": "8",
          "latitude": 32.7174209,
          "location": "San Diego, California",
          "longitude": -117.16277140000001,
          "restaurant": "Hob Nob Hill",
          "season": 5,
          "title": "Just Like Yesterday"
         },
         {
          "air_date": "2009-01-26",
          "episode": "8",
          "latitude": 33.749098700000005,
          "location": "Atlanta, Georgia",
          "longitude": -84.39018490000001,
          "restaurant": "The Silver Skillet",
          "season": 5,
          "title": "Just Like Yesterday"
         },
         {
          "air_date": "2009-01-26",
          "episode": "8",
          "latitude": 41.875561600000005,
          "location": "Chicago, Illinois",
          "longitude": -87.6244212,
          "restaurant": "Tufano's Vernon Park Tap",
          "season": 5,
          "title": "Just Like Yesterday"
         },
         {
          "air_date": "2009-02-02",
          "episode": "9",
          "latitude": 35.0841034,
          "location": "Albuquerque, New Mexico",
          "longitude": -106.6509851,
          "restaurant": "Standard Diner",
          "season": 5,
          "title": "Return to Route 66"
         },
         {
          "air_date": "2009-02-02",
          "episode": "9",
          "latitude": 41.7697533,
          "location": "Willowbrook, Illinois",
          "longitude": -87.9358931,
          "restaurant": "Dell Rhea's Chicken Basket",
          "season": 5,
          "title": "Return to Route 66"
         },
         {
          "air_date": "2009-02-02",
          "episode": "9",
          "latitude": 35.19875220000001,
          "location": "Flagstaff, Arizona",
          "longitude": -111.6518229,
          "restaurant": "Salsa Brava",
          "season": 5,
          "title": "Return to Route 66"
         },
         {
          "air_date": "2009-02-09",
          "episode": "10",
          "latitude": 30.2711286,
          "location": "Austin, Texas",
          "longitude": -97.7436995,
          "restaurant": "Green Mesquite",
          "season": 5,
          "title": "BBQ & More"
         },
         {
          "air_date": "2009-02-09",
          "episode": "10",
          "latitude": 37.613825299999995,
          "location": "Pacifica, California",
          "longitude": -122.48691940000002,
          "restaurant": "Gorilla BBQ",
          "season": 5,
          "title": "BBQ & More"
         },
         {
          "air_date": "2009-02-09",
          "episode": "10",
          "latitude": 41.294306899999995,
          "location": "Fairfield, Connecticut",
          "longitude": -73.37486,
          "restaurant": "Wilson's Holy Smoke BBQ",
          "season": 5,
          "title": "BBQ & More"
         },
         {
          "air_date": "2009-02-16",
          "episode": "11",
          "latitude": 35.0841034,
          "location": "Albuquerque, New Mexico",
          "longitude": -106.6509851,
          "restaurant": "Cecilia's Café",
          "season": 5,
          "title": "Regional Classics"
         },
         {
          "air_date": "2009-02-16",
          "episode": "11",
          "latitude": 29.949932300000004,
          "location": "New Orleans, Louisiana",
          "longitude": -90.0701156,
          "restaurant": "Joey K's Restaurant & Bar",
          "season": 5,
          "title": "Regional Classics"
         },
         {
          "air_date": "2009-02-16",
          "episode": "11",
          "latitude": 40.4416941,
          "location": "Pittsburgh, Pennsylvania",
          "longitude": -79.99008609999998,
          "restaurant": "Kelly O's Diner",
          "season": 5,
          "title": "Regional Classics"
         },
         {
          "air_date": "2009-03-16",
          "episode": "12",
          "latitude": 41.294306899999995,
          "location": "Fairfield, Connecticut",
          "longitude": -73.37486,
          "restaurant": "Super Duper Weenie",
          "season": 5,
          "title": "All Kinds of Fast Food"
         },
         {
          "air_date": "2009-03-16",
          "episode": "12",
          "latitude": 41.258745899999994,
          "location": "Omaha, Nebraska",
          "longitude": -95.93837579999999,
          "restaurant": "California Tacos",
          "season": 5,
          "title": "All Kinds of Fast Food"
         },
         {
          "air_date": "2009-03-16",
          "episode": "12",
          "latitude": 35.68699960000001,
          "location": "Santa Fe, New Mexico",
          "longitude": -105.9377997,
          "restaurant": "Bert's Burger Bowl",
          "season": 5,
          "title": "All Kinds of Fast Food"
         },
         {
          "air_date": "2009-03-23",
          "episode": "13",
          "latitude": 38.25030750000001,
          "location": "Walnut Grove, California",
          "longitude": -121.50477362611844,
          "restaurant": "Giusti's",
          "season": 5,
          "title": "Family Favorites"
         },
         {
          "air_date": "2009-03-23",
          "episode": "13",
          "latitude": 33.5386858,
          "location": "Glendale, Arizona",
          "longitude": -112.18599409999999,
          "restaurant": "Haus Murphy's",
          "season": 5,
          "title": "Family Favorites"
         },
         {
          "air_date": "2009-03-23",
          "episode": "13",
          "latitude": 32.7762719,
          "location": "Dallas, Texas",
          "longitude": -96.7968559,
          "restaurant": "Louie's",
          "season": 5,
          "title": "Family Favorites"
         },
         {
          "air_date": "2009-04-06",
          "episode": "1",
          "latitude": 47.6038321,
          "location": "Seattle, Washington",
          "longitude": -122.3300624,
          "restaurant": "Bizzaro Café",
          "season": 6,
          "title": "Funky Joints"
         },
         {
          "air_date": "2009-04-06",
          "episode": "1",
          "latitude": 32.8579056,
          "location": "Watauga, Texas",
          "longitude": -97.25473709999999,
          "restaurant": "Chef Point Café",
          "season": 6,
          "title": "Funky Joints"
         },
         {
          "air_date": "2009-04-06",
          "episode": "1",
          "latitude": 38.5815719,
          "location": "Sacramento, California",
          "longitude": -121.49439960000001,
          "restaurant": "Jamie's Bar & Grill",
          "season": 6,
          "title": "Funky Joints"
         },
         {
          "air_date": "2009-04-13",
          "episode": "2",
          "latitude": 32.7174209,
          "location": "San Diego, California",
          "longitude": -117.16277140000001,
          "restaurant": "Bluewater Seafood Market & Grill",
          "season": 6,
          "title": "Their Own Way"
         },
         {
          "air_date": "2009-04-13",
          "episode": "2",
          "latitude": 35.19875220000001,
          "location": "Flagstaff, Arizona",
          "longitude": -111.6518229,
          "restaurant": "Brandy's Restaurant & Bakery",
          "season": 6,
          "title": "Their Own Way"
         },
         {
          "air_date": "2009-04-13",
          "episode": "2",
          "latitude": 41.875561600000005,
          "location": "Chicago, Illinois",
          "longitude": -87.6244212,
          "restaurant": "Kuma's Corner",
          "season": 6,
          "title": "Their Own Way"
         },
         {
          "air_date": "2009-04-20",
          "episode": "3",
          "latitude": 43.6166163,
          "location": "Boise, Idaho",
          "longitude": -116.20088600000001,
          "restaurant": "Bar Gernika",
          "season": 6,
          "title": "A Little Bit of Everywhere"
         },
         {
          "air_date": "2009-04-20",
          "episode": "3",
          "latitude": 38.5815719,
          "location": "Sacramento, California",
          "longitude": -121.49439960000001,
          "restaurant": "Café Rolle",
          "season": 6,
          "title": "A Little Bit of Everywhere"
         },
         {
          "air_date": "2009-04-20",
          "episode": "3",
          "latitude": 26.615890999999998,
          "location": "Lake Worth, Florida",
          "longitude": -80.06914350000001,
          "restaurant": "Havana Hideout",
          "season": 6,
          "title": "A Little Bit of Everywhere"
         },
         {
          "air_date": "2009-04-27",
          "episode": "4",
          "latitude": 33.5386858,
          "location": "Glendale, Arizona",
          "longitude": -112.18599409999999,
          "restaurant": "La Piazza Al Forno",
          "season": 6,
          "title": "A Burger, A Bowl and a Slice"
         },
         {
          "air_date": "2009-04-27",
          "episode": "4",
          "latitude": 47.6038321,
          "location": "Seattle, Washington",
          "longitude": -122.3300624,
          "restaurant": "Slim's Last Chance Chili Shack & Watering Hole",
          "season": 6,
          "title": "A Burger, A Bowl and a Slice"
         },
         {
          "air_date": "2009-04-27",
          "episode": "4",
          "latitude": 32.7762719,
          "location": "Dallas, Texas",
          "longitude": -96.7968559,
          "restaurant": "Twisted Root Beer Co.",
          "season": 6,
          "title": "A Burger, A Bowl and a Slice"
         },
         {
          "air_date": "2009-05-04",
          "episode": "5",
          "latitude": 45.5202471,
          "location": "Portland, Oregon",
          "longitude": -122.6741949,
          "restaurant": "Arleta Library, Bakery & Café",
          "season": 6,
          "title": "Biscuits, Bagels and BLTs"
         },
         {
          "air_date": "2009-05-04",
          "episode": "5",
          "latitude": 37.9744323,
          "location": "San Anselmo, California",
          "longitude": -122.56150320000002,
          "restaurant": "Bubba's Diner",
          "season": 6,
          "title": "Biscuits, Bagels and BLTs"
         },
         {
          "air_date": "2009-05-04",
          "episode": "5",
          "latitude": 26.5256179,
          "location": "Boynton Beach, Florida",
          "longitude": -80.0666026,
          "restaurant": "Flakowitz of Boynton Bakery & Deli Restaurant",
          "season": 6,
          "title": "Biscuits, Bagels and BLTs"
         },
         {
          "air_date": "2009-05-11",
          "episode": "6",
          "latitude": 35.68699960000001,
          "location": "Santa Fe, New Mexico",
          "longitude": -105.9377997,
          "restaurant": "Backroad Pizza",
          "season": 6,
          "title": "Who'Da Thunk It"
         },
         {
          "air_date": "2009-05-11",
          "episode": "6",
          "latitude": 32.701939,
          "location": "Arlington, Texas",
          "longitude": -97.105623790337,
          "restaurant": "Jamaica Gates Caribbean Cuisine",
          "season": 6,
          "title": "Who'Da Thunk It"
         },
         {
          "air_date": "2009-05-11",
          "episode": "6",
          "latitude": 43.6166163,
          "location": "Boise, Idaho",
          "longitude": -116.20088600000001,
          "restaurant": "Chef Lou's Westside Drive-In",
          "season": 6,
          "title": "Who'Da Thunk It"
         },
         {
          "air_date": "2009-05-25",
          "episode": "7",
          "latitude": 41.141485499999995,
          "location": "Westport, Connecticut",
          "longitude": -73.3578955,
          "restaurant": "Black Duck Café",
          "season": 6,
          "title": "Go-To Joints"
         },
         {
          "air_date": "2009-05-25",
          "episode": "7",
          "latitude": 45.5202471,
          "location": "Portland, Oregon",
          "longitude": -122.6741949,
          "restaurant": "Otto's Sausage Kitchen & Meat Market",
          "season": 6,
          "title": "Go-To Joints"
         },
         {
          "air_date": "2009-05-25",
          "episode": "7",
          "latitude": 37.9735346,
          "location": "San Rafael, California",
          "longitude": -122.5310874,
          "restaurant": "Sol Food Puerto Rican Cuisine",
          "season": 6,
          "title": "Go-To Joints"
         },
         {
          "air_date": "2009-06-01",
          "episode": "8",
          "latitude": 33.448436699999995,
          "location": "Phoenix, Arizona",
          "longitude": -112.07414170000001,
          "restaurant": "Giuseppe's Restaurant",
          "season": 6,
          "title": "Homestyle"
         },
         {
          "air_date": "2009-06-01",
          "episode": "8",
          "latitude": 47.24957979999999,
          "location": "Tacoma, Washington",
          "longitude": -122.43987460000001,
          "restaurant": "Southern Kitchen Restaurant",
          "season": 6,
          "title": "Homestyle"
         },
         {
          "air_date": "2009-06-01",
          "episode": "8",
          "latitude": 35.68699960000001,
          "location": "Santa Fe, New Mexico",
          "longitude": -105.9377997,
          "restaurant": "Zia Diner & Angel Food Catering",
          "season": 6,
          "title": "Homestyle"
         },
         {
          "air_date": "2009-06-08",
          "episode": "9",
          "latitude": 25.9331488,
          "location": "North Miami Beach, Florida",
          "longitude": -80.1625463,
          "restaurant": "Blue Marlin Fish House Restaurant",
          "season": 6,
          "title": "All Kinds of Classics"
         },
         {
          "air_date": "2009-06-08",
          "episode": "9",
          "latitude": 32.753177,
          "location": "Fort Worth, Texas",
          "longitude": -97.3327459,
          "restaurant": "Fred's Texas Café",
          "season": 6,
          "title": "All Kinds of Classics"
         },
         {
          "air_date": "2009-06-08",
          "episode": "9",
          "latitude": 45.5202471,
          "location": "Portland, Oregon",
          "longitude": -122.6741949,
          "restaurant": "Pine State Biscuits",
          "season": 6,
          "title": "All Kinds of Classics"
         },
         {
          "air_date": "2009-06-15",
          "episode": "10",
          "latitude": 47.6038321,
          "location": "Seattle, Washington",
          "longitude": -122.3300624,
          "restaurant": "Georgia Greek Restaurant & Deli",
          "season": 6,
          "title": "All Over The Map"
         },
         {
          "air_date": "2009-06-15",
          "episode": "10",
          "latitude": 33.448436699999995,
          "location": "Phoenix, Arizona",
          "longitude": -112.07414170000001,
          "restaurant": "Los Tacquitos Grill",
          "season": 6,
          "title": "All Over The Map"
         },
         {
          "air_date": "2009-06-15",
          "episode": "10",
          "latitude": 37.779026200000004,
          "location": "San Francisco, California",
          "longitude": -122.4199061,
          "restaurant": "Rocco's Café",
          "season": 6,
          "title": "All Over The Map"
         },
         {
          "air_date": "2009-06-22",
          "episode": "11",
          "latitude": 45.5202471,
          "location": "Portland, Oregon",
          "longitude": -122.6741949,
          "restaurant": "Blueplate Lunch Counter & Soda Fountain",
          "season": 6,
          "title": "Old Time Favorites"
         },
         {
          "air_date": "2009-06-22",
          "episode": "11",
          "latitude": 43.6166163,
          "location": "Boise, Idaho",
          "longitude": -116.20088600000001,
          "restaurant": "Don's Hilltop Kodiak Grill",
          "season": 6,
          "title": "Old Time Favorites"
         },
         {
          "air_date": "2009-06-22",
          "episode": "11",
          "latitude": 25.7742658,
          "location": "Miami, Florida",
          "longitude": -80.1936589,
          "restaurant": "La Camoronera Restaurant & Fish Market",
          "season": 6,
          "title": "Old Time Favorites"
         },
         {
          "air_date": "2009-06-29",
          "episode": "12",
          "latitude": 37.779026200000004,
          "location": "San Francisco, California",
          "longitude": -122.4199061,
          "restaurant": "Dottie's True Blue Café",
          "season": 6,
          "title": "Comfort Cookin'"
         },
         {
          "air_date": "2009-06-29",
          "episode": "12",
          "latitude": 33.448436699999995,
          "location": "Phoenix, Arizona",
          "longitude": -112.07414170000001,
          "restaurant": "Over Easy",
          "season": 6,
          "title": "Comfort Cookin'"
         },
         {
          "air_date": "2009-06-29",
          "episode": "12",
          "latitude": 43.0349931,
          "location": "Milwaukee, Wisconsin",
          "longitude": -87.92249699999999,
          "restaurant": "Comet Café",
          "season": 6,
          "title": "Comfort Cookin'"
         },
         {
          "air_date": "2009-07-27",
          "episode": "13",
          "latitude": 34.0536909,
          "location": "Los Angeles, California",
          "longitude": -118.2427666,
          "restaurant": "Polka Restaurant & Catering",
          "season": 6,
          "title": "Mama's Cookin'"
         },
         {
          "air_date": "2009-07-27",
          "episode": "13",
          "latitude": 32.7762719,
          "location": "Dallas, Texas",
          "longitude": -96.7968559,
          "restaurant": "Avila's Café",
          "season": 6,
          "title": "Mama's Cookin'"
         },
         {
          "air_date": "2009-07-27",
          "episode": "13",
          "latitude": 35.4729886,
          "location": "Oklahoma City",
          "longitude": -97.5170536,
          "restaurant": "Mama E's",
          "season": 6,
          "title": "Mama's Cookin'"
         },
         {
          "air_date": "2009-08-03",
          "episode": "1",
          "latitude": 45.5202471,
          "location": "Portland, Oregon",
          "longitude": -122.6741949,
          "restaurant": "Bunk Sandwiches",
          "season": 7,
          "title": "Upper Crust"
         },
         {
          "air_date": "2009-08-03",
          "episode": "1",
          "latitude": 26.0112014,
          "location": "Hollywood, Florida",
          "longitude": -80.1494901,
          "restaurant": "Sonny's Famous Steak Hogies",
          "season": 7,
          "title": "Upper Crust"
         },
         {
          "air_date": "2009-08-03",
          "episode": "1",
          "latitude": 41.875561600000005,
          "location": "Chicago, Illinois",
          "longitude": -87.6244212,
          "restaurant": "The Depot American Diner",
          "season": 7,
          "title": "Upper Crust"
         },
         {
          "air_date": "2009-08-10",
          "episode": "2",
          "latitude": 29.7589382,
          "location": "Houston, Texas",
          "longitude": -95.36769740000001,
          "restaurant": "Lankford Grocery",
          "season": 7,
          "title": "Burgers, Tacos & Dogs"
         },
         {
          "air_date": "2009-08-10",
          "episode": "2",
          "latitude": 34.200078399999995,
          "location": "Reseda, California",
          "longitude": -118.53698840000001,
          "restaurant": "Fab Hot Dogs",
          "season": 7,
          "title": "Burgers, Tacos & Dogs"
         },
         {
          "air_date": "2009-08-10",
          "episode": "2",
          "latitude": 43.0349931,
          "location": "Milwaukee, Wisconsin",
          "longitude": -87.92249699999999,
          "restaurant": "Cempazuchi",
          "season": 7,
          "title": "Burgers, Tacos & Dogs"
         },
         {
          "air_date": "2009-08-17",
          "episode": "3",
          "latitude": 43.6086295,
          "location": "Meridian, Idaho",
          "longitude": -116.392326,
          "restaurant": "Rick's Press Room & Grill",
          "season": 7,
          "title": "Name That Cook"
         },
         {
          "air_date": "2009-08-17",
          "episode": "3",
          "latitude": 35.4729886,
          "location": "Oklahoma City, Oklahoma",
          "longitude": -97.5170536,
          "restaurant": "Nic's Grill",
          "season": 7,
          "title": "Name That Cook"
         },
         {
          "air_date": "2009-08-17",
          "episode": "3",
          "latitude": 47.6038321,
          "location": "Seattle, Washington",
          "longitude": -122.3300624,
          "restaurant": "Pam's Kitchen",
          "season": 7,
          "title": "Name That Cook"
         },
         {
          "air_date": "2009-08-24",
          "episode": "4",
          "latitude": 32.701939,
          "location": "Arlington, Texas",
          "longitude": -97.105623790337,
          "restaurant": "Prince Lebanese Grill",
          "season": 7,
          "title": "Global Grub"
         },
         {
          "air_date": "2009-08-24",
          "episode": "4",
          "latitude": 41.875561600000005,
          "location": "Chicago, Illinois",
          "longitude": -87.6244212,
          "restaurant": "Tre Kronor",
          "season": 7,
          "title": "Global Grub"
         },
         {
          "air_date": "2009-08-24",
          "episode": "4",
          "latitude": 38.4404925,
          "location": "Santa Rosa, California",
          "longitude": -122.71410490000001,
          "restaurant": "La Texanita",
          "season": 7,
          "title": "Global Grub"
         },
         {
          "air_date": "2009-08-31",
          "episode": "5",
          "latitude": 45.5202471,
          "location": "Portland, Oregon",
          "longitude": -122.6741949,
          "restaurant": "Podnah's Pit Barbeque",
          "season": 7,
          "title": "Only At This Joint"
         },
         {
          "air_date": "2009-08-31",
          "episode": "5",
          "latitude": 43.6166163,
          "location": "Boise, Idaho",
          "longitude": -116.20088600000001,
          "restaurant": "Donnie Mac's Trailer Park Cuisine",
          "season": 7,
          "title": "Only At This Joint"
         },
         {
          "air_date": "2009-08-31",
          "episode": "5",
          "latitude": 26.318341999999998,
          "location": "Deerfield Beach, Florida",
          "longitude": -80.0996306,
          "restaurant": "Whale's Rib",
          "season": 7,
          "title": "Only At This Joint"
         },
         {
          "air_date": "2009-09-07",
          "episode": "6",
          "latitude": 35.7258795,
          "location": "Okarche, Oklahoma",
          "longitude": -97.9764411,
          "restaurant": "Eischen's Bar & Grill",
          "season": 7,
          "title": "You Picked ‘Em"
         },
         {
          "air_date": "2009-09-07",
          "episode": "6",
          "latitude": 34.0536909,
          "location": "Los Angeles, California",
          "longitude": -118.2427666,
          "restaurant": "Mom's Tamales",
          "season": 7,
          "title": "You Picked ‘Em"
         },
         {
          "air_date": "2009-09-07",
          "episode": "6",
          "latitude": 29.7589382,
          "location": "Houston, Texas",
          "longitude": -95.36769740000001,
          "restaurant": "Kenny & Ziggy's",
          "season": 7,
          "title": "You Picked ‘Em"
         },
         {
          "air_date": "2009-10-05",
          "episode": "7",
          "latitude": 25.7929198,
          "location": "Miami Beach, Florida",
          "longitude": -80.1353006,
          "restaurant": "Tap Tap Haitian Restaurant",
          "season": 7,
          "title": "You Can Say That Again"
         },
         {
          "air_date": "2009-10-05",
          "episode": "7",
          "latitude": 45.5202471,
          "location": "Portland, Oregon",
          "longitude": -122.6741949,
          "restaurant": "Pok Pok",
          "season": 7,
          "title": "You Can Say That Again"
         },
         {
          "air_date": "2009-10-05",
          "episode": "7",
          "latitude": 29.7589382,
          "location": "Houston, Texas",
          "longitude": -95.36769740000001,
          "restaurant": "Niko Niko's",
          "season": 7,
          "title": "You Can Say That Again"
         },
         {
          "air_date": "2009-10-12",
          "episode": "8",
          "latitude": 41.875561600000005,
          "location": "Chicago, Illinois",
          "longitude": -87.6244212,
          "restaurant": "Honky Tonk BBQ",
          "season": 7,
          "title": "Barbequed, Baked & Brined"
         },
         {
          "air_date": "2009-10-12",
          "episode": "8",
          "latitude": 43.6166163,
          "location": "Boise, Idaho",
          "longitude": -116.20088600000001,
          "restaurant": "Pizzalchik",
          "season": 7,
          "title": "Barbequed, Baked & Brined"
         },
         {
          "air_date": "2009-10-12",
          "episode": "8",
          "latitude": 41.5051613,
          "location": "Cleveland, Ohio",
          "longitude": -81.6934446,
          "restaurant": "Lucky's Café",
          "season": 7,
          "title": "Barbequed, Baked & Brined"
         },
         {
          "air_date": "2009-10-19",
          "episode": "9",
          "latitude": 35.4729886,
          "location": "Oklahoma City, Oklahoma",
          "longitude": -97.5170536,
          "restaurant": "Cattlemen's Steakhouse",
          "season": 7,
          "title": "Blast from the Past"
         },
         {
          "air_date": "2009-10-19",
          "episode": "9",
          "latitude": 42.3602534,
          "location": "Boston, Massachusetts",
          "longitude": -71.0582912,
          "restaurant": "Sam LaGrassa's",
          "season": 7,
          "title": "Blast from the Past"
         },
         {
          "air_date": "2009-10-19",
          "episode": "9",
          "latitude": 34.0536909,
          "location": "Los Angeles, California",
          "longitude": -118.2427666,
          "restaurant": "Nickel Diner",
          "season": 7,
          "title": "Blast from the Past"
         },
         {
          "air_date": "2009-10-26",
          "episode": "10",
          "latitude": 41.5051613,
          "location": "Cleveland, Ohio",
          "longitude": -81.6934446,
          "restaurant": "Parkview Nightclub",
          "season": 7,
          "title": "Dives Worth a Drive"
         },
         {
          "air_date": "2009-10-26",
          "episode": "10",
          "latitude": 42.4286321,
          "location": "Wadsworth, Illinois",
          "longitude": -87.92396509999999,
          "restaurant": "The Shanty",
          "season": 7,
          "title": "Dives Worth a Drive"
         },
         {
          "air_date": "2009-10-26",
          "episode": "10",
          "latitude": 43.0183913,
          "location": "East Amherst, New York",
          "longitude": -78.696697,
          "restaurant": "Grover's Bar & Grill",
          "season": 7,
          "title": "Dives Worth a Drive"
         },
         {
          "air_date": "2009-11-02",
          "episode": "11",
          "latitude": 41.8239891,
          "location": "Providence, Rhode Island",
          "longitude": -71.4128343,
          "restaurant": "Louis Family Restaurant",
          "season": 7,
          "title": "Family Style"
         },
         {
          "air_date": "2009-11-02",
          "episode": "11",
          "latitude": 29.7589382,
          "location": "Houston, Texas",
          "longitude": -95.36769740000001,
          "restaurant": "Café Pita+",
          "season": 7,
          "title": "Family Style"
         },
         {
          "air_date": "2009-11-02",
          "episode": "11",
          "latitude": 34.146941600000005,
          "location": "Glendale, California",
          "longitude": -118.24784709999999,
          "restaurant": "Mambos Café",
          "season": 7,
          "title": "Family Style"
         },
         {
          "air_date": "2009-11-09",
          "episode": "12",
          "latitude": 42.5278731,
          "location": "Peabody, Massachusetts",
          "longitude": -70.92866090000001,
          "restaurant": "The Little Depot Diner",
          "season": 7,
          "title": "Diners Times Three"
         },
         {
          "air_date": "2009-11-09",
          "episode": "12",
          "latitude": 37.050096,
          "location": "Santa Cruz, California",
          "longitude": -121.9905908,
          "restaurant": "Santa Cruz Diner",
          "season": 7,
          "title": "Diners Times Three"
         },
         {
          "air_date": "2009-11-09",
          "episode": "12",
          "latitude": 35.2225717,
          "location": "Norman, Oklahoma",
          "longitude": -97.4394816,
          "restaurant": "The Diner",
          "season": 7,
          "title": "Diners Times Three"
         },
         {
          "air_date": "2009-11-16",
          "episode": "13",
          "latitude": 42.8867166,
          "location": "Buffalo, New York",
          "longitude": -78.87839220000001,
          "restaurant": "Lake Effect Diner",
          "season": 7,
          "title": "Legacies"
         },
         {
          "air_date": "2009-11-16",
          "episode": "13",
          "latitude": 41.5051613,
          "location": "Cleveland, Ohio",
          "longitude": -81.6934446,
          "restaurant": "Geraci's Restaurant",
          "season": 7,
          "title": "Legacies"
         },
         {
          "air_date": "2009-11-16",
          "episode": "13",
          "latitude": 41.9438129,
          "location": "Attleboro, Massachusetts",
          "longitude": -71.2806515,
          "restaurant": "Morin's Hometown Bar & Grill",
          "season": 7,
          "title": "Legacies"
         },
         {
          "air_date": "2009-11-23",
          "episode": "1",
          "latitude": 42.3750997,
          "location": "Cambridge, Massachusetts",
          "longitude": -71.1056157,
          "restaurant": "Mr. Bartley's Gourmet Burgers",
          "season": 8,
          "title": "Burgers, Steaks & Chops"
         },
         {
          "air_date": "2009-11-23",
          "episode": "1",
          "latitude": 29.542729700000002,
          "location": "Kemah, Texas",
          "longitude": -95.0204837,
          "restaurant": "T-Bone Tom's Steakhouse",
          "season": 8,
          "title": "Burgers, Steaks & Chops"
         },
         {
          "air_date": "2009-11-23",
          "episode": "1",
          "latitude": 37.779026200000004,
          "location": "San Francisco, California",
          "longitude": -122.4199061,
          "restaurant": "Tee Off Bar & Grill",
          "season": 8,
          "title": "Burgers, Steaks & Chops"
         },
         {
          "air_date": "2010-01-11",
          "episode": "2",
          "latitude": 43.038668,
          "location": "North Tonawanda, New York",
          "longitude": -78.86420340000001,
          "restaurant": "Pizza Junction",
          "season": 8,
          "title": "Pizza, Pork & Paprikash"
         },
         {
          "air_date": "2010-01-11",
          "episode": "2",
          "latitude": 41.5051613,
          "location": "Cleveland, Ohio",
          "longitude": -81.6934446,
          "restaurant": "Sterle's Slovenian Country House",
          "season": 8,
          "title": "Pizza, Pork & Paprikash"
         },
         {
          "air_date": "2010-01-11",
          "episode": "2",
          "latitude": 37.779026200000004,
          "location": "San Francisco, California",
          "longitude": -122.4199061,
          "restaurant": "Q Restaurant",
          "season": 8,
          "title": "Pizza, Pork & Paprikash"
         },
         {
          "air_date": "2010-01-18",
          "episode": "3",
          "latitude": 29.5571825,
          "location": "Rosenberg, Texas",
          "longitude": -95.8085623,
          "restaurant": "Bob's Taco Station",
          "season": 8,
          "title": "Stacked, Stuffed & Loaded"
         },
         {
          "air_date": "2010-01-18",
          "episode": "3",
          "latitude": 41.4501021,
          "location": "Narragansett, Rhode Island",
          "longitude": -71.4495005,
          "restaurant": "Crazy Burger Café & Juice Bar",
          "season": 8,
          "title": "Stacked, Stuffed & Loaded"
         },
         {
          "air_date": "2010-01-18",
          "episode": "3",
          "latitude": 34.1366877,
          "location": "Eagle Rock, California",
          "longitude": -118.20767959999999,
          "restaurant": "The Oinkster",
          "season": 8,
          "title": "Stacked, Stuffed & Loaded"
         },
         {
          "air_date": "2010-01-25",
          "episode": "4",
          "latitude": 37.8314089,
          "location": "Emeryville, California",
          "longitude": -122.28652659999999,
          "restaurant": "Rudy's Can't Fail Cafe",
          "season": 8,
          "title": "Triple D Goes Tailgatin'"
         },
         {
          "air_date": "2010-01-25",
          "episode": "4",
          "latitude": 37.8708393,
          "location": "Berkeley, California",
          "longitude": -122.27286389999999,
          "restaurant": "900 Grayson Restaurant",
          "season": 8,
          "title": "Triple D Goes Tailgatin'"
         },
         {
          "air_date": "2010-01-25",
          "episode": "4",
          "latitude": 37.8708393,
          "location": "Berkeley, California",
          "longitude": -122.27286389999999,
          "restaurant": "Rick & Ann's Restaurant",
          "season": 8,
          "title": "Triple D Goes Tailgatin'"
         },
         {
          "air_date": "2010-02-01",
          "episode": "5",
          "latitude": 41.875561600000005,
          "location": "Chicago, Illinois",
          "longitude": -87.6244212,
          "restaurant": "Taste of Peru",
          "season": 8,
          "title": "Home And Away"
         },
         {
          "air_date": "2010-02-01",
          "episode": "5",
          "latitude": 35.4729886,
          "location": "Oklahoma City, Oklahoma",
          "longitude": -97.5170536,
          "restaurant": "Ingrid's Kitchen",
          "season": 8,
          "title": "Home And Away"
         },
         {
          "air_date": "2010-02-01",
          "episode": "5",
          "latitude": 42.8867166,
          "location": "Buffalo, New York",
          "longitude": -78.87839220000001,
          "restaurant": "Blackthorn Restaurant & Pub",
          "season": 8,
          "title": "Home And Away"
         },
         {
          "air_date": "2010-02-08",
          "episode": "6",
          "latitude": 35.2270869,
          "location": "Charlotte, North Carolina",
          "longitude": -80.8431268,
          "restaurant": "South 21 Drive-In",
          "season": 8,
          "title": "By Request"
         },
         {
          "air_date": "2010-02-08",
          "episode": "6",
          "latitude": 29.7589382,
          "location": "Houston, Texas",
          "longitude": -95.36769740000001,
          "restaurant": "Red Lion Pub & Restaurant",
          "season": 8,
          "title": "By Request"
         },
         {
          "air_date": "2010-02-08",
          "episode": "6",
          "latitude": 41.481993200000005,
          "location": "Lakewood, Ohio",
          "longitude": -81.7981908,
          "restaurant": "Melt Bar & Grilled",
          "season": 8,
          "title": "By Request"
         },
         {
          "air_date": "2010-02-15",
          "episode": "7",
          "latitude": 34.000749299999995,
          "location": "Columbia, South Carolina",
          "longitude": -81.03433129999999,
          "restaurant": "Pawley's Front Porch",
          "season": 8,
          "title": "And The Kicker Is..."
         },
         {
          "air_date": "2010-02-15",
          "episode": "7",
          "latitude": 42.8867166,
          "location": "Buffalo, New York",
          "longitude": -78.87839220000001,
          "restaurant": "Sophia Restaurant",
          "season": 8,
          "title": "And The Kicker Is..."
         },
         {
          "air_date": "2010-02-15",
          "episode": "7",
          "latitude": 37.8708393,
          "location": "Berkeley, California",
          "longitude": -122.27286389999999,
          "restaurant": "Bette's Oceanview Diner",
          "season": 8,
          "title": "And The Kicker Is..."
         },
         {
          "air_date": "2010-02-22",
          "episode": "8",
          "latitude": 41.8239891,
          "location": "Providence, Rhode Island",
          "longitude": -71.4128343,
          "restaurant": "The Liberty Elm Diner",
          "season": 8,
          "title": "Comfort Food Classics"
         },
         {
          "air_date": "2010-02-22",
          "episode": "8",
          "latitude": 37.3361905,
          "location": "San Jose, California",
          "longitude": -121.89058329999999,
          "restaurant": "Naglee Park Garage",
          "season": 8,
          "title": "Comfort Food Classics"
         },
         {
          "air_date": "2010-02-22",
          "episode": "8",
          "latitude": 35.2270869,
          "location": "Charlotte, North Carolina",
          "longitude": -80.8431268,
          "restaurant": "Dish",
          "season": 8,
          "title": "Comfort Food Classics"
         },
         {
          "air_date": "2010-03-22",
          "episode": "9",
          "latitude": 42.5681176,
          "location": "Chaffee, New York",
          "longitude": -78.4789091,
          "restaurant": "Earl's Drive-In",
          "season": 8,
          "title": "Twists And Traditions"
         },
         {
          "air_date": "2010-03-22",
          "episode": "9",
          "latitude": 37.050096,
          "location": "Santa Cruz, California",
          "longitude": -121.9905908,
          "restaurant": "Aldo's Harbor Restaurant",
          "season": 8,
          "title": "Twists And Traditions"
         },
         {
          "air_date": "2010-03-22",
          "episode": "9",
          "latitude": 41.5051613,
          "location": "Cleveland, Ohio",
          "longitude": -81.6934446,
          "restaurant": "Momocho",
          "season": 8,
          "title": "Twists And Traditions"
         },
         {
          "air_date": "2010-03-29",
          "episode": "10",
          "latitude": 39.5261206,
          "location": "Reno, Nevada",
          "longitude": -119.81265810000001,
          "restaurant": "Dish Café & Catering",
          "season": 8,
          "title": "Fresh And Funky"
         },
         {
          "air_date": "2010-03-29",
          "episode": "10",
          "latitude": 35.2270869,
          "location": "Charlotte, North Carolina",
          "longitude": -80.8431268,
          "restaurant": "Landmark Restaurant",
          "season": 8,
          "title": "Fresh And Funky"
         },
         {
          "air_date": "2010-03-29",
          "episode": "10",
          "latitude": 37.779026200000004,
          "location": "San Francisco, California",
          "longitude": -122.4199061,
          "restaurant": "Pier 23 Café",
          "season": 8,
          "title": "Fresh And Funky"
         },
         {
          "air_date": "2010-04-05",
          "episode": "11",
          "latitude": 21.3866667,
          "location": "Waipahu, Hawaii",
          "longitude": -158.00916669999998,
          "restaurant": "Highway Inn & Ho'okipa Catering",
          "season": 8,
          "title": "Triple D Goes Hawaiian"
         },
         {
          "air_date": "2010-04-05",
          "episode": "11",
          "latitude": 21.304547,
          "location": "Honolulu, Hawaii",
          "longitude": -157.8556764,
          "restaurant": "Hank's Haute Dogs",
          "season": 8,
          "title": "Triple D Goes Hawaiian"
         },
         {
          "air_date": "2010-04-05",
          "episode": "11",
          "latitude": 21.304547,
          "location": "Honolulu, Hawaii",
          "longitude": -157.8556764,
          "restaurant": "Nico's Pier 38",
          "season": 8,
          "title": "Triple D Goes Hawaiian"
         },
         {
          "air_date": "2010-04-05",
          "episode": "11",
          "latitude": 21.3339504,
          "location": "Kapolei, Hawaii",
          "longitude": -158.07718530000002,
          "restaurant": "Germaine's Luau",
          "season": 8,
          "title": "Triple D Goes Hawaiian"
         },
         {
          "air_date": "2010-04-27",
          "episode": "1",
          "latitude": 33.8915985,
          "location": "Manhattan Beach, California",
          "longitude": -118.39512409999999,
          "restaurant": "North End Café",
          "season": 9,
          "title": "Surf ‘n Turf"
         },
         {
          "air_date": "2010-04-27",
          "episode": "1",
          "latitude": 39.5261206,
          "location": "Reno, Nevada",
          "longitude": -119.81265810000001,
          "restaurant": "Gold ‘N Silver Inn",
          "season": 9,
          "title": "Surf ‘n Turf"
         },
         {
          "air_date": "2010-04-27",
          "episode": "1",
          "latitude": 30.342165,
          "location": "Atlantic Beach, Florida",
          "longitude": -81.37037027731958,
          "restaurant": "Singleton's Seafood Shack",
          "season": 9,
          "title": "Surf ‘n Turf"
         },
         {
          "air_date": "2010-05-03",
          "episode": "2",
          "latitude": 33.898684100000004,
          "location": "Lexington, South Carolina",
          "longitude": -81.275054,
          "restaurant": "The Farmer's Shed",
          "season": 9,
          "title": "Homegrown & Homemade"
         },
         {
          "air_date": "2010-05-03",
          "episode": "2",
          "latitude": 21.450830800000002,
          "location": "Mililani, Hawaii",
          "longitude": -158.00957830000002,
          "restaurant": "Poke Stop at Mililana Mauka Llc.",
          "season": 9,
          "title": "Homegrown & Homemade"
         },
         {
          "air_date": "2010-05-03",
          "episode": "2",
          "latitude": 42.81909025,
          "location": "Lackawanna, New York",
          "longitude": -78.833717479075,
          "restaurant": "Mulberry Café",
          "season": 9,
          "title": "Homegrown & Homemade"
         },
         {
          "air_date": "2010-05-10",
          "episode": "3",
          "latitude": 39.5261206,
          "location": "Reno, Nevada",
          "longitude": -119.81265810000001,
          "restaurant": "Louis' Basque Corner",
          "season": 9,
          "title": "Globetrottin'"
         },
         {
          "air_date": "2010-05-10",
          "episode": "3",
          "latitude": 30.3321838,
          "location": "Jacksonville, Florida",
          "longitude": -81.655651,
          "restaurant": "13 Gypsies",
          "season": 9,
          "title": "Globetrottin'"
         },
         {
          "air_date": "2010-05-10",
          "episode": "3",
          "latitude": 34.0536909,
          "location": "Los Angeles, California",
          "longitude": -118.2427666,
          "restaurant": "Gloria's Café",
          "season": 9,
          "title": "Globetrottin'"
         },
         {
          "air_date": "2010-05-17",
          "episode": "4",
          "latitude": 38.4138005,
          "location": "Kenwood, California",
          "longitude": -122.54609350000001,
          "restaurant": "Café Citti",
          "season": 9,
          "title": "Bringin' It Home"
         },
         {
          "air_date": "2010-05-17",
          "episode": "4",
          "latitude": 35.2270869,
          "location": "Charlotte, North Carolina",
          "longitude": -80.8431268,
          "restaurant": "Cabo Fish Taco",
          "season": 9,
          "title": "Bringin' It Home"
         },
         {
          "air_date": "2010-05-17",
          "episode": "4",
          "latitude": 21.304547,
          "location": "Honolulu, Hawaii",
          "longitude": -157.8556764,
          "restaurant": "Murphy's Bar & Grill",
          "season": 9,
          "title": "Bringin' It Home"
         },
         {
          "air_date": "2010-05-24",
          "episode": "5",
          "latitude": 33.7690164,
          "location": "Long Beach, California",
          "longitude": -118.1916048,
          "restaurant": "At Last Café",
          "season": 9,
          "title": "Porkapalooza"
         },
         {
          "air_date": "2010-05-24",
          "episode": "5",
          "latitude": 39.106707799999995,
          "location": "Bellevue, Kentucky",
          "longitude": -84.48264820000001,
          "restaurant": "Virgil's Café",
          "season": 9,
          "title": "Porkapalooza"
         },
         {
          "air_date": "2010-05-24",
          "episode": "5",
          "latitude": 35.9522852,
          "location": "Nolensville, Tennessee",
          "longitude": -86.66944129999999,
          "restaurant": "Martin's Bar-B-Que Joint",
          "season": 9,
          "title": "Porkapalooza"
         },
         {
          "air_date": "2010-05-31",
          "episode": "6",
          "latitude": 39.1014537,
          "location": "Cincinnati, Ohio",
          "longitude": -84.5124602,
          "restaurant": "Terry's Turf Club",
          "season": 9,
          "title": "Grilled, Smoked & Sauced"
         },
         {
          "air_date": "2010-05-31",
          "episode": "6",
          "latitude": 38.511080299999996,
          "location": "Sonoma, California",
          "longitude": -122.8473388,
          "restaurant": "Schellville Grille",
          "season": 9,
          "title": "Grilled, Smoked & Sauced"
         },
         {
          "air_date": "2010-05-31",
          "episode": "6",
          "latitude": 35.2270869,
          "location": "Charlotte, North Carolina",
          "longitude": -80.8431268,
          "restaurant": "Jake's Good Eats",
          "season": 9,
          "title": "Grilled, Smoked & Sauced"
         },
         {
          "air_date": "2010-06-07",
          "episode": "7",
          "latitude": 39.327962,
          "location": "Truckee, California",
          "longitude": -120.1832533,
          "restaurant": "Jax At The Trax",
          "season": 9,
          "title": "Comfort Food With Attitude"
         },
         {
          "air_date": "2010-06-07",
          "episode": "7",
          "latitude": 30.342165,
          "location": "Atlantic Beach, Florida",
          "longitude": -81.37037027731958,
          "restaurant": "Culhane's Irish Pub",
          "season": 9,
          "title": "Comfort Food With Attitude"
         },
         {
          "air_date": "2010-06-07",
          "episode": "7",
          "latitude": 39.1014537,
          "location": "Cincinnati, Ohio",
          "longitude": -84.5124602,
          "restaurant": "Blue Ash Chili Restaurant",
          "season": 9,
          "title": "Comfort Food With Attitude"
         },
         {
          "air_date": "2010-06-21",
          "episode": "8",
          "latitude": 34.0536909,
          "location": "Los Angeles, California",
          "longitude": -118.2427666,
          "restaurant": "Don Chow Tacos",
          "season": 9,
          "title": "Fast Food Their Way"
         },
         {
          "air_date": "2010-06-21",
          "episode": "8",
          "latitude": 21.304547,
          "location": "Honolulu, Hawaii",
          "longitude": -157.8556764,
          "restaurant": "Rainbow Drive-In",
          "season": 9,
          "title": "Fast Food Their Way"
         },
         {
          "air_date": "2010-06-21",
          "episode": "8",
          "latitude": 46.77293220000001,
          "location": "Duluth, Minnesota",
          "longitude": -92.1251218,
          "restaurant": "Northern Waters Smokehaus",
          "season": 9,
          "title": "Fast Food Their Way"
         },
         {
          "air_date": "2010-06-28",
          "episode": "9",
          "latitude": 31.218286300000003,
          "location": "St. Simons Island, Georgia",
          "longitude": -81.36120770000001,
          "restaurant": "Blackwater Grill",
          "season": 9,
          "title": "Farm To Table"
         },
         {
          "air_date": "2010-06-28",
          "episode": "9",
          "latitude": 38.894893200000006,
          "location": "Washington D.C.",
          "longitude": -77.0365529,
          "restaurant": "Comet Ping Pong",
          "season": 9,
          "title": "Farm To Table"
         },
         {
          "air_date": "2010-06-28",
          "episode": "9",
          "latitude": 38.052576,
          "location": "Versailles, Kentucky",
          "longitude": -84.7299464,
          "restaurant": "Wallace Station",
          "season": 9,
          "title": "Farm To Table"
         },
         {
          "air_date": "2010-07-12",
          "episode": "10",
          "latitude": 39.1432057,
          "location": "North Kansas City, Missouri",
          "longitude": -94.5733988,
          "restaurant": "Smokin' Guns BBQ",
          "season": 9,
          "title": "Kansas City Barbeque Tour"
         },
         {
          "air_date": "2010-07-12",
          "episode": "10",
          "latitude": 39.0277832,
          "location": "Mission, Kansas",
          "longitude": -94.65579140000001,
          "restaurant": "RJ's Bob-Be-Que Shack",
          "season": 9,
          "title": "Kansas City Barbeque Tour"
         },
         {
          "air_date": "2010-07-12",
          "episode": "10",
          "latitude": 39.0277832,
          "location": "Mission, Kansas",
          "longitude": -94.65579140000001,
          "restaurant": "Johnny's Bar-B-Q",
          "season": 9,
          "title": "Kansas City Barbeque Tour"
         },
         {
          "air_date": "2010-07-12",
          "episode": "10",
          "latitude": 39.1134562,
          "location": "Kansas City, Kansas",
          "longitude": -94.626497,
          "restaurant": "Woodyard Bar-B-Que",
          "season": 9,
          "title": "Kansas City Barbeque Tour"
         },
         {
          "air_date": "2010-07-19",
          "episode": "11",
          "latitude": 39.100105,
          "location": "Kansas City, Missouri",
          "longitude": -94.5781416,
          "restaurant": "Swagger Fine Spirits & Food",
          "season": 9,
          "title": "Burgers ‘n More"
         },
         {
          "air_date": "2010-07-19",
          "episode": "11",
          "latitude": 39.327962,
          "location": "Truckee, California",
          "longitude": -120.1832533,
          "restaurant": "Burger Me!",
          "season": 9,
          "title": "Burgers ‘n More"
         },
         {
          "air_date": "2010-07-19",
          "episode": "11",
          "latitude": 36.1622296,
          "location": "Nashville, Tennessee",
          "longitude": -86.7743531,
          "restaurant": "Athens Family Restaurant",
          "season": 9,
          "title": "Burgers ‘n More"
         },
         {
          "air_date": "2010-07-26",
          "episode": "12",
          "latitude": 33.7038145,
          "location": "Fountain Valley, California",
          "longitude": -117.96273490000002,
          "restaurant": "Paul's Coffee Shop",
          "season": 9,
          "title": "You Called It"
         },
         {
          "air_date": "2010-07-26",
          "episode": "12",
          "latitude": 38.2009055,
          "location": "Frankfort, Kentucky",
          "longitude": -84.8732836,
          "restaurant": "Rick's White Light Diner",
          "season": 9,
          "title": "You Called It"
         },
         {
          "air_date": "2010-07-26",
          "episode": "12",
          "latitude": 46.7216102,
          "location": "Cloquet, Minnesota",
          "longitude": -92.45935659999999,
          "restaurant": "Gordy's Hi-Hat",
          "season": 9,
          "title": "You Called It"
         },
         {
          "air_date": "2010-08-09",
          "episode": "13",
          "latitude": 36.1622296,
          "location": "Nashville, Tennessee",
          "longitude": -86.7743531,
          "restaurant": "Arnold's Country Kitchen",
          "season": 9,
          "title": "Old Time Attitude"
         },
         {
          "air_date": "2010-08-09",
          "episode": "13",
          "latitude": 31.218286300000003,
          "location": "St. Simons Island, Georgia",
          "longitude": -81.36120770000001,
          "restaurant": "Southern Soul Barbeque",
          "season": 9,
          "title": "Old Time Attitude"
         },
         {
          "air_date": "2010-08-09",
          "episode": "13",
          "latitude": 43.322181,
          "location": "Wells, Maine",
          "longitude": -70.580978,
          "restaurant": "Maine Diner",
          "season": 9,
          "title": "Old Time Attitude"
         },
         {
          "air_date": "2010-08-30",
          "episode": "1",
          "latitude": 44.9772995,
          "location": "Minneapolis, Minnesota",
          "longitude": -93.2654692,
          "restaurant": "Kramarczuk's",
          "season": 10,
          "title": "Family Joints"
         },
         {
          "air_date": "2010-08-30",
          "episode": "1",
          "latitude": 39.100105,
          "location": "Kansas City, Missouri",
          "longitude": -94.5781416,
          "restaurant": "Happy Gillis Café & Hangout",
          "season": 10,
          "title": "Family Joints"
         },
         {
          "air_date": "2010-08-30",
          "episode": "1",
          "latitude": 38.5064731,
          "location": "Lesage, West Virginia",
          "longitude": -82.2984823,
          "restaurant": "Hillbilly Hot Dogs",
          "season": 10,
          "title": "Family Joints"
         },
         {
          "air_date": "2010-09-09",
          "episode": "2",
          "latitude": 33.8347516,
          "location": "Anaheim, California",
          "longitude": -117.911732,
          "restaurant": "Mama Cozza's",
          "season": 10,
          "title": "Tried and True"
         },
         {
          "air_date": "2010-09-09",
          "episode": "2",
          "latitude": 38.894893200000006,
          "location": "Washington D.C.",
          "longitude": -77.0365529,
          "restaurant": "Tune In Restaurant",
          "season": 10,
          "title": "Tried and True"
         },
         {
          "air_date": "2010-09-09",
          "episode": "2",
          "latitude": 43.088448,
          "location": "Kittery, Maine",
          "longitude": -70.736847,
          "restaurant": "Bob's Clam Hut",
          "season": 10,
          "title": "Tried and True"
         },
         {
          "air_date": "2010-09-13",
          "episode": "3",
          "latitude": 42.3750997,
          "location": "Cambridge, Massachusetts",
          "longitude": -71.1056157,
          "restaurant": "Greek Corner Restaurant",
          "season": 10,
          "title": "Timeless"
         },
         {
          "air_date": "2010-09-13",
          "episode": "3",
          "latitude": 36.1622296,
          "location": "Nashville, Tennessee",
          "longitude": -86.7743531,
          "restaurant": "Bro's Cajun Cuisine",
          "season": 10,
          "title": "Timeless"
         },
         {
          "air_date": "2010-09-13",
          "episode": "3",
          "latitude": 38.9959461,
          "location": "Silver Spring, Maryland",
          "longitude": -77.02762309999999,
          "restaurant": "The General Store",
          "season": 10,
          "title": "Timeless"
         },
         {
          "air_date": "2010-09-20",
          "episode": "4",
          "latitude": 38.0464066,
          "location": "Lexington, Kentucky",
          "longitude": -84.4970393,
          "restaurant": "Parkette Drive In",
          "season": 10,
          "title": "You Found ‘Em"
         },
         {
          "air_date": "2010-09-20",
          "episode": "4",
          "latitude": 30.3321838,
          "location": "Jacksonville, Florida",
          "longitude": -81.655651,
          "restaurant": "Metro Diner",
          "season": 10,
          "title": "You Found ‘Em"
         },
         {
          "air_date": "2010-09-20",
          "episode": "4",
          "latitude": 44.9772995,
          "location": "Minneapolis, Minnesota",
          "longitude": -93.2654692,
          "restaurant": "Al's Breakfast",
          "season": 10,
          "title": "You Found ‘Em"
         },
         {
          "air_date": "2010-09-27",
          "episode": "5",
          "latitude": 42.5195292,
          "location": "Salem, Massachusetts",
          "longitude": -70.89672259999999,
          "restaurant": "The Lobster Shanty",
          "season": 10,
          "title": "Wings, Dogs and Claws"
         },
         {
          "air_date": "2010-09-27",
          "episode": "5",
          "latitude": 39.100105,
          "location": "Kansas City, Missouri",
          "longitude": -94.5781416,
          "restaurant": "The Brick",
          "season": 10,
          "title": "Wings, Dogs and Claws"
         },
         {
          "air_date": "2010-09-27",
          "episode": "5",
          "latitude": 38.894893200000006,
          "location": "Washington D.C.",
          "longitude": -77.0365529,
          "restaurant": "Oohh's & Aahh's Gourmet Deli",
          "season": 10,
          "title": "Wings, Dogs and Claws"
         },
         {
          "air_date": "2010-10-04",
          "episode": "6",
          "latitude": 38.0464066,
          "location": "Lexington, Kentucky",
          "longitude": -84.4970393,
          "restaurant": "J.J. McBrewster's",
          "season": 10,
          "title": "Sauced and Spiced"
         },
         {
          "air_date": "2010-10-04",
          "episode": "6",
          "latitude": 46.77293220000001,
          "location": "Duluth, Minnesota",
          "longitude": -92.1251218,
          "restaurant": "At Sara's Table Chester Creek Café",
          "season": 10,
          "title": "Sauced and Spiced"
         },
         {
          "air_date": "2010-10-04",
          "episode": "6",
          "latitude": 36.304917700000004,
          "location": "Hendersonville, Tennessee",
          "longitude": -86.621443,
          "restaurant": "Café Rakka",
          "season": 10,
          "title": "Sauced and Spiced"
         },
         {
          "air_date": "2010-10-25",
          "episode": "7",
          "latitude": 42.3750973,
          "location": "East Boston, Massachusetts",
          "longitude": -71.03921729999999,
          "restaurant": "Rino's Place",
          "season": 10,
          "title": "Made to Order"
         },
         {
          "air_date": "2010-10-25",
          "episode": "7",
          "latitude": 44.9504037,
          "location": "St. Paul, Minnesota",
          "longitude": -93.10150259999999,
          "restaurant": "The Blue Door Pub",
          "season": 10,
          "title": "Made to Order"
         },
         {
          "air_date": "2010-10-25",
          "episode": "7",
          "latitude": 40.6220478,
          "location": "Linden, New Jersey",
          "longitude": -74.2445902,
          "restaurant": "Bay Way Diner",
          "season": 10,
          "title": "Made to Order"
         },
         {
          "air_date": "2010-11-01",
          "episode": "8",
          "latitude": 47.6579425,
          "location": "Spokane, Washington",
          "longitude": -117.42122649999999,
          "restaurant": "Chaps Coffee Co.",
          "season": 10,
          "title": "Fresh, Filled and Fried"
         },
         {
          "air_date": "2010-11-01",
          "episode": "8",
          "latitude": 39.9527237,
          "location": "Philadelphia, Pennsylvania",
          "longitude": -75.16352619999999,
          "restaurant": "Good Dog Bar & Restaurant",
          "season": 10,
          "title": "Fresh, Filled and Fried"
         },
         {
          "air_date": "2010-11-01",
          "episode": "8",
          "latitude": 43.6610277,
          "location": "Portland, Maine",
          "longitude": -70.25485959999999,
          "restaurant": "Porthole Restaurant",
          "season": 10,
          "title": "Fresh, Filled and Fried"
         },
         {
          "air_date": "2010-11-08",
          "episode": "9",
          "latitude": 38.882334,
          "location": "Falls Church, Virginia",
          "longitude": -77.17109140000001,
          "restaurant": "LaCaraquena",
          "season": 10,
          "title": "Gone Global"
         },
         {
          "air_date": "2010-11-08",
          "episode": "9",
          "latitude": 36.1622296,
          "location": "Nashville, Tennessee",
          "longitude": -86.7743531,
          "restaurant": "Savarino's Cucina",
          "season": 10,
          "title": "Gone Global"
         },
         {
          "air_date": "2010-11-08",
          "episode": "9",
          "latitude": 34.1508718,
          "location": "Sherman Oaks, California",
          "longitude": -118.4489865,
          "restaurant": "Brats Brothers",
          "season": 10,
          "title": "Gone Global"
         },
         {
          "air_date": "2010-11-15",
          "episode": "10",
          "latitude": 39.1765386,
          "location": "Cape May, New Jersey",
          "longitude": -74.80121190000001,
          "restaurant": "George's Place",
          "season": 10,
          "title": "A Triple D Thanksgiving"
         },
         {
          "air_date": "2010-11-15",
          "episode": "10",
          "latitude": 43.6610277,
          "location": "Portland, Maine",
          "longitude": -70.25485959999999,
          "restaurant": "Becky's Diner",
          "season": 10,
          "title": "A Triple D Thanksgiving"
         },
         {
          "air_date": "2010-11-15",
          "episode": "10",
          "latitude": 29.949932300000004,
          "location": "New Orleans, Louisiana",
          "longitude": -90.0701156,
          "restaurant": "Sammy's Food Service & Deli",
          "season": 10,
          "title": "A Triple D Thanksgiving"
         },
         {
          "air_date": "2010-11-26",
          "episode": "11",
          "latitude": 37.8708393,
          "location": "Berkeley, California",
          "longitude": -122.27286389999999,
          "restaurant": "Meal Ticket",
          "season": 10,
          "title": "Sweet ‘n Savory"
         },
         {
          "air_date": "2010-11-26",
          "episode": "11",
          "latitude": 38.890396100000004,
          "location": "Arlington, Virginia",
          "longitude": -77.0841585,
          "restaurant": "Metro 29 Diner",
          "season": 10,
          "title": "Sweet ‘n Savory"
         },
         {
          "air_date": "2010-11-26",
          "episode": "11",
          "latitude": 46.77293220000001,
          "location": "Duluth, Minnesota",
          "longitude": -92.1251218,
          "restaurant": "Duluth Grill",
          "season": 10,
          "title": "Sweet ‘n Savory"
         },
         {
          "air_date": "2010-12-13",
          "episode": "12",
          "latitude": 40.1784471,
          "location": "Belmar, New Jersey",
          "longitude": -74.0218037,
          "restaurant": "10th Avenue Burrito",
          "season": 10,
          "title": "Wings ‘n Things"
         },
         {
          "air_date": "2010-12-13",
          "episode": "12",
          "latitude": 47.6742994,
          "location": "Coeur d'Alene, Idaho",
          "longitude": -116.7811531,
          "restaurant": "Capone's Pub",
          "season": 10,
          "title": "Wings ‘n Things"
         },
         {
          "air_date": "2010-12-13",
          "episode": "12",
          "latitude": 36.1622296,
          "location": "Nashville, Tennessee",
          "longitude": -86.7743531,
          "restaurant": "Jamaicaway",
          "season": 10,
          "title": "Wings ‘n Things"
         },
         {
          "air_date": "2010-12-18",
          "episode": "13",
          "latitude": 47.6579425,
          "location": "Spokane, Washington",
          "longitude": -117.42122649999999,
          "restaurant": "Elk Public House",
          "season": 10,
          "title": "Sandwiches Plus"
         },
         {
          "air_date": "2010-12-18",
          "episode": "13",
          "latitude": 44.9772995,
          "location": "Minneapolis, Minnesota",
          "longitude": -93.2654692,
          "restaurant": "Colossal Café",
          "season": 10,
          "title": "Sandwiches Plus"
         },
         {
          "air_date": "2010-12-18",
          "episode": "13",
          "latitude": 38.9917797,
          "location": "Wildwood, New Jersey",
          "longitude": -74.81488940000001,
          "restaurant": "Maui's Dog House",
          "season": 10,
          "title": "Sandwiches Plus"
         },
         {
          "air_date": "2011-01-03",
          "episode": "1",
          "latitude": 38.894893200000006,
          "location": "Washington D.C.",
          "longitude": -77.0365529,
          "restaurant": "Tortilla Café",
          "season": 11,
          "title": "From Pork to Tofu"
         },
         {
          "air_date": "2011-01-03",
          "episode": "1",
          "latitude": 39.9527237,
          "location": "Philadelphia, Pennsylvania",
          "longitude": -75.16352619999999,
          "restaurant": "Memphis Taproom",
          "season": 11,
          "title": "From Pork to Tofu"
         },
         {
          "air_date": "2011-01-03",
          "episode": "1",
          "latitude": 38.5815719,
          "location": "Sacramento, California",
          "longitude": -121.49439960000001,
          "restaurant": "The Golden Bear",
          "season": 11,
          "title": "From Pork to Tofu"
         },
         {
          "air_date": "2011-01-10",
          "episode": "2",
          "latitude": 29.949932300000004,
          "location": "New Orleans, Louisiana",
          "longitude": -90.0701156,
          "restaurant": "Mahoney's Po-Boy Shop",
          "season": 11,
          "title": "Po' Boys, Pasta & Pork"
         },
         {
          "air_date": "2011-01-10",
          "episode": "2",
          "latitude": 47.6579425,
          "location": "Spokane, Washington",
          "longitude": -117.42122649999999,
          "restaurant": "Hill's Restaurant & Lounge",
          "season": 11,
          "title": "Po' Boys, Pasta & Pork"
         },
         {
          "air_date": "2011-01-10",
          "episode": "2",
          "latitude": 45.1888539,
          "location": "Champlin, Minnesota",
          "longitude": -93.3974538,
          "restaurant": "Q Fanatic BBQ",
          "season": 11,
          "title": "Po' Boys, Pasta & Pork"
         },
         {
          "air_date": "2011-01-17",
          "episode": "3",
          "latitude": 40.74982429999999,
          "location": "Queens, New York",
          "longitude": -73.7976337,
          "restaurant": "Sage General Store",
          "season": 11,
          "title": "Funky Finds"
         },
         {
          "air_date": "2011-01-17",
          "episode": "3",
          "latitude": 39.0509468,
          "location": "Stone Harbor, New Jersey",
          "longitude": -74.7579418,
          "restaurant": "Quahog's Seafood Shack",
          "season": 11,
          "title": "Funky Finds"
         },
         {
          "air_date": "2011-01-17",
          "episode": "3",
          "latitude": 38.4404925,
          "location": "Santa Rosa, California",
          "longitude": -122.71410490000001,
          "restaurant": "W.O.W. – Worth Our Weight",
          "season": 11,
          "title": "Funky Finds"
         },
         {
          "air_date": "2011-01-24",
          "episode": "4",
          "latitude": 30.358230499999998,
          "location": "Mandeville, Louisiana",
          "longitude": -90.0657477,
          "restaurant": "Louie & The Red Head Lady",
          "season": 11,
          "title": "Quirky Classics"
         },
         {
          "air_date": "2011-01-24",
          "episode": "4",
          "latitude": 39.9527237,
          "location": "Philadelphia, Pennsylvania",
          "longitude": -75.16352619999999,
          "restaurant": "Honey's Sit-N-Eat",
          "season": 11,
          "title": "Quirky Classics"
         },
         {
          "air_date": "2011-01-24",
          "episode": "4",
          "latitude": 47.6579425,
          "location": "Spokane, Washington",
          "longitude": -117.42122649999999,
          "restaurant": "Picabu Neighborhood Bistro",
          "season": 11,
          "title": "Quirky Classics"
         },
         {
          "air_date": "2011-01-31",
          "episode": "5",
          "latitude": 40.65224600000001,
          "location": "Merrick, New York",
          "longitude": -73.55127940021694,
          "restaurant": "The Pit Stop",
          "season": 11,
          "title": "A Little Twisted"
         },
         {
          "air_date": "2011-01-31",
          "episode": "5",
          "latitude": 38.5815719,
          "location": "Sacramento, California",
          "longitude": -121.49439960000001,
          "restaurant": "Gatsby's Diner",
          "season": 11,
          "title": "A Little Twisted"
         },
         {
          "air_date": "2011-01-31",
          "episode": "5",
          "latitude": 46.7207737,
          "location": "Superior, Wisconsin",
          "longitude": -92.10407959999999,
          "restaurant": "Anchor Bar",
          "season": 11,
          "title": "A Little Twisted"
         },
         {
          "air_date": "2011-02-07",
          "episode": "6",
          "latitude": 30.2751945,
          "location": "Slidell, Louisiana",
          "longitude": -89.7811745,
          "restaurant": "La Pines Café",
          "season": 11,
          "title": "Signature Sandwiches"
         },
         {
          "air_date": "2011-02-07",
          "episode": "6",
          "latitude": 39.7392364,
          "location": "Denver, Colorado",
          "longitude": -104.98486229999999,
          "restaurant": "Steuben's Food Service",
          "season": 11,
          "title": "Signature Sandwiches"
         },
         {
          "air_date": "2011-02-07",
          "episode": "6",
          "latitude": 39.7683331,
          "location": "Indianapolis, Indiana",
          "longitude": -86.1583502,
          "restaurant": "3 Sisters Café",
          "season": 11,
          "title": "Signature Sandwiches"
         },
         {
          "air_date": "2011-02-28",
          "episode": "7",
          "latitude": 47.6742994,
          "location": "Coeur d'Alene, Idaho",
          "longitude": -116.7811531,
          "restaurant": "Jimmy's Down the Street",
          "season": 11,
          "title": "Favorites With A Twist"
         },
         {
          "air_date": "2011-02-28",
          "episode": "7",
          "latitude": 37.804455700000005,
          "location": "Oakland, California",
          "longitude": -122.27135630000001,
          "restaurant": "Aunt Mary's Café",
          "season": 11,
          "title": "Favorites With A Twist"
         },
         {
          "air_date": "2011-02-28",
          "episode": "7",
          "latitude": 41.78126995,
          "location": "Manchester, Connecticut",
          "longitude": -72.53062934076324,
          "restaurant": "Corey's Catsup & Mustard",
          "season": 11,
          "title": "Favorites With A Twist"
         },
         {
          "air_date": "2011-03-07",
          "episode": "8",
          "latitude": 40.2962183,
          "location": "Pineville, Pennsylvania",
          "longitude": -75.0057242,
          "restaurant": "Pineville Tavern",
          "season": 11,
          "title": "Soup & Sandwiches"
         },
         {
          "air_date": "2011-03-07",
          "episode": "8",
          "latitude": 39.7683331,
          "location": "Indianapolis, Indiana",
          "longitude": -86.1583502,
          "restaurant": "Indy's Historic Steer-In Restaurant",
          "season": 11,
          "title": "Soup & Sandwiches"
         },
         {
          "air_date": "2011-03-07",
          "episode": "8",
          "latitude": 38.5815719,
          "location": "Sacramento, California",
          "longitude": -121.49439960000001,
          "restaurant": "Dad's Kitchen",
          "season": 11,
          "title": "Soup & Sandwiches"
         },
         {
          "air_date": "2011-03-14",
          "episode": "9",
          "latitude": 40.74982429999999,
          "location": "Queens, New York",
          "longitude": -73.7976337,
          "restaurant": "Ben's Best Deli",
          "season": 11,
          "title": "From Crepes to Kreplach"
         },
         {
          "air_date": "2011-03-14",
          "episode": "9",
          "latitude": 40.0149856,
          "location": "Boulder, Colorado",
          "longitude": -105.2705456,
          "restaurant": "Foolish Craig's Café",
          "season": 11,
          "title": "From Crepes to Kreplach"
         },
         {
          "air_date": "2011-03-14",
          "episode": "9",
          "latitude": 47.6579425,
          "location": "Spokane, Washington",
          "longitude": -117.42122649999999,
          "restaurant": "Waddell's Pub & Grille",
          "season": 11,
          "title": "From Crepes to Kreplach"
         },
         {
          "air_date": "2011-03-21",
          "episode": "10",
          "latitude": 29.949932300000004,
          "location": "New Orleans, Louisiana",
          "longitude": -90.0701156,
          "restaurant": "Katie's Restaurant",
          "season": 11,
          "title": "Fully Loaded"
         },
         {
          "air_date": "2011-03-21",
          "episode": "10",
          "latitude": 39.978801700000005,
          "location": "Carmel, Indiana",
          "longitude": -86.11892569999999,
          "restaurant": "Jersey Café",
          "season": 11,
          "title": "Fully Loaded"
         },
         {
          "air_date": "2011-03-21",
          "episode": "10",
          "latitude": 41.1670412,
          "location": "Bridgeport, Connecticut",
          "longitude": -73.2048348,
          "restaurant": "Merritt Canteen Inc.",
          "season": 11,
          "title": "Fully Loaded"
         },
         {
          "air_date": "2011-03-28",
          "episode": "11",
          "latitude": 38.511080299999996,
          "location": "Sonoma, California",
          "longitude": -122.8473388,
          "restaurant": "Sunflower Café",
          "season": 11,
          "title": "From Mozz to Matzo Balls"
         },
         {
          "air_date": "2011-03-28",
          "episode": "11",
          "latitude": 40.75649,
          "location": "Williston Park, New York",
          "longitude": -73.64485129999998,
          "restaurant": "Hildebrandt's",
          "season": 11,
          "title": "From Mozz to Matzo Balls"
         },
         {
          "air_date": "2011-03-28",
          "episode": "11",
          "latitude": 39.7392364,
          "location": "Denver, Colorado",
          "longitude": -104.98486229999999,
          "restaurant": "The Bagel Delicatessen & Restaurant",
          "season": 11,
          "title": "From Mozz to Matzo Balls"
         },
         {
          "air_date": "2011-04-04",
          "episode": "12",
          "latitude": 39.7683331,
          "location": "Indianapolis, Indiana",
          "longitude": -86.1583502,
          "restaurant": "The Barking Dog",
          "season": 11,
          "title": "Signature Twists"
         },
         {
          "air_date": "2011-04-04",
          "episode": "12",
          "latitude": 38.5249065,
          "location": "Winters, California",
          "longitude": -121.9708017,
          "restaurant": "Putah Creek Café",
          "season": 11,
          "title": "Signature Twists"
         },
         {
          "air_date": "2011-04-04",
          "episode": "12",
          "latitude": 29.949932300000004,
          "location": "New Orleans, Louisiana",
          "longitude": -90.0701156,
          "restaurant": "The Old Coffee Pot Restaurant",
          "season": 11,
          "title": "Signature Twists"
         },
         {
          "air_date": "2011-04-11",
          "episode": "13",
          "latitude": 38.6298355,
          "location": "Healdsburg, California",
          "longitude": -122.85900211842106,
          "restaurant": "Jimtown Store",
          "season": 11,
          "title": "Porktastic"
         },
         {
          "air_date": "2011-04-11",
          "episode": "13",
          "latitude": 29.424600199999997,
          "location": "San Antonio, Texas",
          "longitude": -98.4951405,
          "restaurant": "Dough Pizzeria Napoletana",
          "season": 11,
          "title": "Porktastic"
         },
         {
          "air_date": "2011-04-11",
          "episode": "13",
          "latitude": 39.7392364,
          "location": "Denver, Colorado",
          "longitude": -104.98486229999999,
          "restaurant": "Sam's No. 3",
          "season": 11,
          "title": "Porktastic"
         },
         {
          "air_date": "2011-05-09",
          "episode": "1",
          "latitude": 40.74982429999999,
          "location": "Queens, New York",
          "longitude": -73.7976337,
          "restaurant": "The Sparrow Tavern",
          "season": 12,
          "title": "Bar Food and Bon Bons"
         },
         {
          "air_date": "2011-05-09",
          "episode": "1",
          "latitude": 38.707687,
          "location": "Geyserville, California",
          "longitude": -122.90249640000002,
          "restaurant": "Catelli's",
          "season": 12,
          "title": "Bar Food and Bon Bons"
         },
         {
          "air_date": "2011-05-09",
          "episode": "1",
          "latitude": 39.7683331,
          "location": "Indianapolis, Indiana",
          "longitude": -86.1583502,
          "restaurant": "Zest",
          "season": 12,
          "title": "Bar Food and Bon Bons"
         },
         {
          "air_date": "2011-05-16",
          "episode": "2",
          "latitude": 39.90699075,
          "location": "Brighton, Colorado",
          "longitude": -104.83740644981584,
          "restaurant": "Lauer-Krauts",
          "season": 12,
          "title": "From Kraut to Couscous"
         },
         {
          "air_date": "2011-05-16",
          "episode": "2",
          "latitude": 29.424600199999997,
          "location": "San Antonio, Texas",
          "longitude": -98.4951405,
          "restaurant": "Moroccan Bites",
          "season": 12,
          "title": "From Kraut to Couscous"
         },
         {
          "air_date": "2011-05-16",
          "episode": "2",
          "latitude": 27.947759499999997,
          "location": "Tampa, Florida",
          "longitude": -82.458444,
          "restaurant": "California Tacos To Go",
          "season": 12,
          "title": "From Kraut to Couscous"
         },
         {
          "air_date": "2011-05-23",
          "episode": "3",
          "latitude": 37.779026200000004,
          "location": "San Francisco, California",
          "longitude": -122.4199061,
          "restaurant": "HRD Coffee Shop",
          "season": 12,
          "title": "You Can Only Get It Here"
         },
         {
          "air_date": "2011-05-23",
          "episode": "3",
          "latitude": 39.7683331,
          "location": "Indianapolis, Indiana",
          "longitude": -86.1583502,
          "restaurant": "The Tamale Place",
          "season": 12,
          "title": "You Can Only Get It Here"
         },
         {
          "air_date": "2011-05-23",
          "episode": "3",
          "latitude": 41.875561600000005,
          "location": "Chicago, Illinois",
          "longitude": -87.6244212,
          "restaurant": "Garifuna Flava",
          "season": 12,
          "title": "You Can Only Get It Here"
         },
         {
          "air_date": "2011-09-12",
          "episode": "4",
          "latitude": 29.424600199999997,
          "location": "San Antonio, Texas",
          "longitude": -98.4951405,
          "restaurant": "Bun ‘N Barrel",
          "season": 12,
          "title": "Grillin' and Smokin'"
         },
         {
          "air_date": "2011-09-12",
          "episode": "4",
          "latitude": 39.7392364,
          "location": "Denver, Colorado",
          "longitude": -104.98486229999999,
          "restaurant": "Tocabe American Indian Eatery",
          "season": 12,
          "title": "Grillin' and Smokin'"
         },
         {
          "air_date": "2011-09-12",
          "episode": "4",
          "latitude": 27.770379600000002,
          "location": "St. Petersburg, Florida",
          "longitude": -82.66950849999999,
          "restaurant": "Munch's Restaurant & Sundries",
          "season": 12,
          "title": "Grillin' and Smokin'"
         },
         {
          "air_date": "2011-09-19",
          "episode": "5",
          "latitude": 37.779026200000004,
          "location": "San Francisco, California",
          "longitude": -122.4199061,
          "restaurant": "Broken Record",
          "season": 12,
          "title": "Southern Flavor"
         },
         {
          "air_date": "2011-09-19",
          "episode": "5",
          "latitude": 39.7392364,
          "location": "Denver, Colorado",
          "longitude": -104.98486229999999,
          "restaurant": "Bang!",
          "season": 12,
          "title": "Southern Flavor"
         },
         {
          "air_date": "2011-09-19",
          "episode": "5",
          "latitude": 27.4989278,
          "location": "Bradenton, Florida",
          "longitude": -82.5748194,
          "restaurant": "Jose's Real Cuban Food",
          "season": 12,
          "title": "Southern Flavor"
         },
         {
          "air_date": "2011-09-26",
          "episode": "6",
          "latitude": 40.0149856,
          "location": "Boulder, Colorado",
          "longitude": -105.2705456,
          "restaurant": "The Sink",
          "season": 12,
          "title": "Gettin' Fresh"
         },
         {
          "air_date": "2011-09-26",
          "episode": "6",
          "latitude": 41.875561600000005,
          "location": "Chicago, Illinois",
          "longitude": -87.6244212,
          "restaurant": "Nana Organic",
          "season": 12,
          "title": "Gettin' Fresh"
         },
         {
          "air_date": "2011-09-26",
          "episode": "6",
          "latitude": 36.846292299999995,
          "location": "Norfolk, Virginia",
          "longitude": -76.2929252,
          "restaurant": "Get Fresh Café",
          "season": 12,
          "title": "Gettin' Fresh"
         },
         {
          "air_date": "2011-10-03",
          "episode": "7",
          "latitude": 27.947759499999997,
          "location": "Tampa, Florida",
          "longitude": -82.458444,
          "restaurant": "Tampa Bay Brewing Co.",
          "season": 12,
          "title": "Homemade & Homebrewed"
         },
         {
          "air_date": "2011-10-03",
          "episode": "7",
          "latitude": 39.61282429999999,
          "location": "Mooresville, Indiana",
          "longitude": -86.37416,
          "restaurant": "Zydeco's",
          "season": 12,
          "title": "Homemade & Homebrewed"
         },
         {
          "air_date": "2011-10-03",
          "episode": "7",
          "latitude": 41.875561600000005,
          "location": "Chicago, Illinois",
          "longitude": -87.6244212,
          "restaurant": "Chilam Balam",
          "season": 12,
          "title": "Homemade & Homebrewed"
         },
         {
          "air_date": "2011-10-10",
          "episode": "8",
          "latitude": 41.875561600000005,
          "location": "Chicago, Illinois",
          "longitude": -87.6244212,
          "restaurant": "Irazu",
          "season": 12,
          "title": "Latin Street Food"
         },
         {
          "air_date": "2011-10-10",
          "episode": "8",
          "latitude": 29.424600199999997,
          "location": "San Antonio, Texas",
          "longitude": -98.4951405,
          "restaurant": "Beto's Comida Latina",
          "season": 12,
          "title": "Latin Street Food"
         },
         {
          "air_date": "2011-10-10",
          "episode": "8",
          "latitude": 40.74982429999999,
          "location": "Queens, New York",
          "longitude": -73.7976337,
          "restaurant": "Tortilleria Nixtamal",
          "season": 12,
          "title": "Latin Street Food"
         },
         {
          "air_date": "2011-10-17",
          "episode": "9",
          "latitude": 29.424600199999997,
          "location": "San Antonio, Texas",
          "longitude": -98.4951405,
          "restaurant": "Taco Taco Mexican Restaurant",
          "season": 12,
          "title": "Slammin' Sammies"
         },
         {
          "air_date": "2011-10-17",
          "episode": "9",
          "latitude": 36.8529841,
          "location": "Virginia Beach, Virginia",
          "longitude": -75.9774183,
          "restaurant": "Whitner's Barbeque",
          "season": 12,
          "title": "Slammin' Sammies"
         },
         {
          "air_date": "2011-10-17",
          "episode": "9",
          "latitude": 41.875561600000005,
          "location": "Chicago, Illinois",
          "longitude": -87.6244212,
          "restaurant": "DMK Burger Bar",
          "season": 12,
          "title": "Slammin' Sammies"
         },
         {
          "air_date": "2011-10-24",
          "episode": "10",
          "latitude": 36.8529841,
          "location": "Virginia Beach, Virginia",
          "longitude": -75.9774183,
          "restaurant": "Rigoletto Italian Bakery & Café",
          "season": 12,
          "title": "Global Comfort"
         },
         {
          "air_date": "2011-10-24",
          "episode": "10",
          "latitude": 41.741406,
          "location": "Burbank, Illinois",
          "longitude": -87.7686078,
          "restaurant": "Chuck's Southern Comforts Café",
          "season": 12,
          "title": "Global Comfort"
         },
         {
          "air_date": "2011-10-24",
          "episode": "10",
          "latitude": 29.424600199999997,
          "location": "San Antonio, Texas",
          "longitude": -98.4951405,
          "restaurant": "El Bohio",
          "season": 12,
          "title": "Global Comfort"
         },
         {
          "air_date": "2011-10-31",
          "episode": "11",
          "latitude": 29.424600199999997,
          "location": "San Antonio, Texas",
          "longitude": -98.4951405,
          "restaurant": "Magnolia Pancake Haus",
          "season": 12,
          "title": "Breakfast, Lunch & Dinner"
         },
         {
          "air_date": "2011-10-31",
          "episode": "11",
          "latitude": 27.947759499999997,
          "location": "Tampa, Florida",
          "longitude": -82.458444,
          "restaurant": "Taco Bus",
          "season": 12,
          "title": "Breakfast, Lunch & Dinner"
         },
         {
          "air_date": "2011-10-31",
          "episode": "11",
          "latitude": 36.8529841,
          "location": "Virginia Beach, Virginia",
          "longitude": -75.9774183,
          "restaurant": "Beach Pub",
          "season": 12,
          "title": "Breakfast, Lunch & Dinner"
         },
         {
          "air_date": "2011-11-07",
          "episode": "12",
          "latitude": 42.331550899999996,
          "location": "Detroit, Michigan",
          "longitude": -83.04664029999999,
          "restaurant": "Supino Pizzeria",
          "season": 12,
          "title": "Pizza, Pancakes & Pork"
         },
         {
          "air_date": "2011-11-07",
          "episode": "12",
          "latitude": 41.875561600000005,
          "location": "Chicago, Illinois",
          "longitude": -87.6244212,
          "restaurant": "Big & Littles",
          "season": 12,
          "title": "Pizza, Pancakes & Pork"
         },
         {
          "air_date": "2011-11-07",
          "episode": "12",
          "latitude": 36.8529841,
          "location": "Virginia Beach, Virginia",
          "longitude": -75.9774183,
          "restaurant": "Citrus Breakfast & Lunch",
          "season": 12,
          "title": "Pizza, Pancakes & Pork"
         },
         {
          "air_date": "2011-11-21",
          "episode": "13",
          "latitude": 42.3928151,
          "location": "Hamtramck, Michigan",
          "longitude": -83.0496438,
          "restaurant": "Polish Village Café",
          "season": 12,
          "title": "Old to New"
         },
         {
          "air_date": "2011-11-21",
          "episode": "13",
          "latitude": 36.8529841,
          "location": "Virginia Beach, Virginia",
          "longitude": -75.9774183,
          "restaurant": "Leaping Lizards Café",
          "season": 12,
          "title": "Old to New"
         },
         {
          "air_date": "2011-11-21",
          "episode": "13",
          "latitude": 49.2608724,
          "location": "Vancouver, British Columbia",
          "longitude": -123.11395290000002,
          "restaurant": "Jethros Fine Grub",
          "season": 12,
          "title": "Old to New"
         },
         {
          "air_date": "2011-11-28",
          "episode": "1",
          "latitude": 49.2608724,
          "location": "Vancouver, British Columbia",
          "longitude": -123.11395290000002,
          "restaurant": "Fresh Local Wild",
          "season": 13,
          "title": "Seafood & Sammies"
         },
         {
          "air_date": "2011-11-28",
          "episode": "1",
          "latitude": 42.331550899999996,
          "location": "Detroit, Michigan",
          "longitude": -83.04664029999999,
          "restaurant": "Traffic Jam & Snug",
          "season": 13,
          "title": "Seafood & Sammies"
         },
         {
          "air_date": "2011-11-28",
          "episode": "1",
          "latitude": 41.875561600000005,
          "location": "Chicago, Illinois",
          "longitude": -87.6244212,
          "restaurant": "Panozzo's Italian Market",
          "season": 13,
          "title": "Seafood & Sammies"
         },
         {
          "air_date": "2011-12-05",
          "episode": "2",
          "latitude": 49.320713299999994,
          "location": "North Vancouver, British Columbia",
          "longitude": -123.0737831,
          "restaurant": "Tomahawk Restaurant",
          "season": 13,
          "title": "Coast to Coast Classics"
         },
         {
          "air_date": "2011-12-05",
          "episode": "2",
          "latitude": 27.947759499999997,
          "location": "Tampa, Florida",
          "longitude": -82.458444,
          "restaurant": "Danny's All American Diner",
          "season": 13,
          "title": "Coast to Coast Classics"
         },
         {
          "air_date": "2011-12-12",
          "episode": "3",
          "latitude": 42.735863,
          "location": "Clarkston, Michigan",
          "longitude": -83.4188304,
          "restaurant": "Clarkston Union Bar & Kitchen",
          "season": 13,
          "title": "Kid Rock's Detroit Tour"
         },
         {
          "air_date": "2011-12-12",
          "episode": "3",
          "latitude": 42.735863,
          "location": "Clarkston, Michigan",
          "longitude": -83.4188304,
          "restaurant": "Union Woodshop",
          "season": 13,
          "title": "Kid Rock's Detroit Tour"
         },
         {
          "air_date": "2011-12-12",
          "episode": "3",
          "latitude": 42.666825700000004,
          "location": "Webberville, Michigan",
          "longitude": -84.174432,
          "restaurant": "Michigan Brewing Co.",
          "season": 13,
          "title": "Kid Rock's Detroit Tour"
         },
         {
          "air_date": "2011-12-19",
          "episode": "4",
          "latitude": 49.2608724,
          "location": "Vancouver, British Columbia",
          "longitude": -123.11395290000002,
          "restaurant": "Red Wagon Café",
          "season": 13,
          "title": "Southern Staples"
         },
         {
          "air_date": "2011-12-19",
          "episode": "4",
          "latitude": 33.0206179,
          "location": "Summerville, South Carolina",
          "longitude": -80.1747537,
          "restaurant": "Perfectly Franks",
          "season": 13,
          "title": "Southern Staples"
         },
         {
          "air_date": "2011-12-19",
          "episode": "4",
          "latitude": 40.7896239,
          "location": "Manhattan, New York",
          "longitude": -73.9598939,
          "restaurant": "Mama's Food Shop",
          "season": 13,
          "title": "Southern Staples"
         },
         {
          "air_date": "2011-12-26",
          "episode": "5",
          "latitude": 34.4221319,
          "location": "Santa Barbara, California",
          "longitude": -119.7026673,
          "restaurant": "Lito's Mexican Restaurant",
          "season": 13,
          "title": "Scratch Made Classics"
         },
         {
          "air_date": "2011-12-26",
          "episode": "5",
          "latitude": 49.2608724,
          "location": "Vancouver, British Columbia",
          "longitude": -123.11395290000002,
          "restaurant": "Save On Meats",
          "season": 13,
          "title": "Scratch Made Classics"
         },
         {
          "air_date": "2011-12-26",
          "episode": "5",
          "latitude": 40.7896239,
          "location": "Manhattan, New York",
          "longitude": -73.9598939,
          "restaurant": "The Redhead",
          "season": 13,
          "title": "Scratch Made Classics"
         },
         {
          "air_date": "2012-01-16",
          "episode": "6",
          "latitude": 40.74982429999999,
          "location": "Queens, New York",
          "longitude": -73.7976337,
          "restaurant": "Rincon Criollo",
          "season": 13,
          "title": "Meat Madness"
         },
         {
          "air_date": "2012-01-16",
          "episode": "6",
          "latitude": 32.7876012,
          "location": "Charleston, South Carolina",
          "longitude": -79.9402728,
          "restaurant": "Tattooed Moose",
          "season": 13,
          "title": "Meat Madness"
         },
         {
          "air_date": "2012-01-16",
          "episode": "6",
          "latitude": 49.2608724,
          "location": "Vancouver, British Columbia",
          "longitude": -123.11395290000002,
          "restaurant": "Falconetti's",
          "season": 13,
          "title": "Meat Madness"
         },
         {
          "air_date": "2012-01-23",
          "episode": "7",
          "latitude": 40.7896239,
          "location": "Manhattan, New York",
          "longitude": -73.9598939,
          "restaurant": "John's of 12th Street",
          "season": 13,
          "title": "Global Traditions"
         },
         {
          "air_date": "2012-01-23",
          "episode": "7",
          "latitude": 34.4221319,
          "location": "Santa Barbara, California",
          "longitude": -119.7026673,
          "restaurant": "Mac's Fish & Chip Shop",
          "season": 13,
          "title": "Global Traditions"
         },
         {
          "air_date": "2012-01-30",
          "episode": "8",
          "latitude": 32.7876012,
          "location": "Charleston, South Carolina",
          "longitude": -79.9402728,
          "restaurant": "The Early Bird Diner",
          "season": 13,
          "title": "Multitaskers"
         },
         {
          "air_date": "2012-01-30",
          "episode": "8",
          "latitude": 39.2574114,
          "location": "Dundalk, Maryland",
          "longitude": -76.5236745,
          "restaurant": "Boulevard Diner",
          "season": 13,
          "title": "Multitaskers"
         },
         {
          "air_date": "2012-01-30",
          "episode": "8",
          "latitude": 34.1976308,
          "location": "Oxnard, California",
          "longitude": -119.18038179999999,
          "restaurant": "The Kitchen",
          "season": 13,
          "title": "Multitaskers"
         },
         {
          "air_date": "2012-02-06",
          "episode": "9",
          "latitude": 40.6501038,
          "location": "Brooklyn, New York",
          "longitude": -73.9495823,
          "restaurant": "Sidecar",
          "season": 13,
          "title": "Family Matters"
         },
         {
          "air_date": "2012-02-06",
          "episode": "9",
          "latitude": 49.2608724,
          "location": "Vancouver, British Columbia",
          "longitude": -123.11395290000002,
          "restaurant": "Peaceful Restaurant",
          "season": 13,
          "title": "Family Matters"
         },
         {
          "air_date": "2012-02-06",
          "episode": "9",
          "latitude": 36.8529841,
          "location": "Virginia Beach, Virginia",
          "longitude": -75.9774183,
          "restaurant": "Flip Flops Grill & Chill",
          "season": 13,
          "title": "Family Matters"
         },
         {
          "air_date": "2012-02-13",
          "episode": "10",
          "latitude": 34.4221319,
          "location": "Santa Barbara, California",
          "longitude": -119.7026673,
          "restaurant": "Norton's Pastrami & Deli",
          "season": 13,
          "title": "Old Faves, New Craves"
         },
         {
          "air_date": "2012-02-13",
          "episode": "10",
          "latitude": 49.2608724,
          "location": "Vancouver, British Columbia",
          "longitude": -123.11395290000002,
          "restaurant": "Meat & Bread",
          "season": 13,
          "title": "Old Faves, New Craves"
         },
         {
          "air_date": "2012-02-13",
          "episode": "10",
          "latitude": 32.7876012,
          "location": "Charleston, South Carolina",
          "longitude": -79.9402728,
          "restaurant": "Fuel Cantina",
          "season": 13,
          "title": "Old Faves, New Craves"
         },
         {
          "air_date": "2012-02-20",
          "episode": "11",
          "latitude": 40.6501038,
          "location": "Brooklyn, New York",
          "longitude": -73.9495823,
          "restaurant": "Defonte's Sandwich Shop",
          "season": 13,
          "title": "Long Standing Legacies"
         },
         {
          "air_date": "2012-02-20",
          "episode": "11",
          "latitude": 32.7876012,
          "location": "Charleston, South Carolina",
          "longitude": -79.9402728,
          "restaurant": "The Glass Onion",
          "season": 13,
          "title": "Long Standing Legacies"
         },
         {
          "air_date": "2012-02-20",
          "episode": "11",
          "latitude": 38.9786401,
          "location": "Annapolis, Maryland",
          "longitude": -76.492786,
          "restaurant": "Galway Bay Irish Pub",
          "season": 13,
          "title": "Long Standing Legacies"
         },
         {
          "air_date": "2012-02-27",
          "episode": "12",
          "latitude": 39.2128338,
          "location": "Elkridge, Maryland",
          "longitude": -76.7137155,
          "restaurant": "R&R Taqueria",
          "season": 13,
          "title": "Time Tested Treasures"
         },
         {
          "air_date": "2012-02-27",
          "episode": "12",
          "latitude": 44.9772995,
          "location": "Minneapolis, Minnesota",
          "longitude": -93.2654692,
          "restaurant": "Nye's Polonaise Room",
          "season": 13,
          "title": "Time Tested Treasures"
         },
         {
          "air_date": "2012-02-27",
          "episode": "12",
          "latitude": 36.8678592,
          "location": "Portsmouth, Virginia",
          "longitude": -76.37559852679193,
          "restaurant": "Moseberth's Fried Chicken",
          "season": 13,
          "title": "Time Tested Treasures"
         },
         {
          "air_date": "2012-03-05",
          "episode": "13",
          "latitude": 39.2908816,
          "location": "Baltimore, Maryland",
          "longitude": -76.610759,
          "restaurant": "Joe Squared Pizza",
          "season": 13,
          "title": "Outside the Box"
         },
         {
          "air_date": "2012-03-05",
          "episode": "13",
          "latitude": 32.7762719,
          "location": "Dallas, Texas",
          "longitude": -96.7968559,
          "restaurant": "Pepe's and Mito's",
          "season": 13,
          "title": "Outside the Box"
         },
         {
          "air_date": "2012-03-05",
          "episode": "13",
          "latitude": 34.4221319,
          "location": "Santa Barbara, California",
          "longitude": -119.7026673,
          "restaurant": "Savoy Café & Deli",
          "season": 13,
          "title": "Outside the Box"
         },
         {
          "air_date": "2012-04-02",
          "episode": "1",
          "latitude": 44.9772995,
          "location": "Minneapolis, Minnesota",
          "longitude": -93.2654692,
          "restaurant": "Pizzeria Lola",
          "season": 14,
          "title": "Triple D All Stars"
         },
         {
          "air_date": "2012-04-02",
          "episode": "1",
          "latitude": 30.6665525,
          "location": "Georgetown, Texas",
          "longitude": -97.6779637977368,
          "restaurant": "Monument Cafe",
          "season": 14,
          "title": "Triple D All Stars"
         },
         {
          "air_date": "2012-04-09",
          "episode": "2",
          "latitude": 30.2711286,
          "location": "Austin, Texas",
          "longitude": -97.7436995,
          "restaurant": "Luke's Inside Out",
          "season": 14,
          "title": "Streamlined Sammies"
         },
         {
          "air_date": "2012-04-09",
          "episode": "2",
          "latitude": 44.9772995,
          "location": "Minneapolis, Minnesota",
          "longitude": -93.2654692,
          "restaurant": "Smack Shack at The 1029 Bar",
          "season": 14,
          "title": "Streamlined Sammies"
         },
         {
          "air_date": "2012-04-09",
          "episode": "2",
          "latitude": 32.7762719,
          "location": "Dallas, Texas",
          "longitude": -96.7968559,
          "restaurant": "Maple & Motor",
          "season": 14,
          "title": "Streamlined Sammies"
         },
         {
          "air_date": "2012-04-16",
          "episode": "3",
          "latitude": 44.9772995,
          "location": "Minneapolis, Minnesota",
          "longitude": -93.2654692,
          "restaurant": "Broders' Cucina Italiana",
          "season": 14,
          "title": "Crankin' Up the Classics"
         },
         {
          "air_date": "2012-04-16",
          "episode": "3",
          "latitude": 32.701939,
          "location": "Arlington, Texas",
          "longitude": -97.105623790337,
          "restaurant": "Chop House Burgers",
          "season": 14,
          "title": "Crankin' Up the Classics"
         },
         {
          "air_date": "2012-04-23",
          "episode": "4",
          "latitude": 34.4458248,
          "location": "Ventura, California",
          "longitude": -119.07793590000001,
          "restaurant": "Pete's Breakfast House",
          "season": 14,
          "title": "Passin' The Baton"
         },
         {
          "air_date": "2012-04-23",
          "episode": "4",
          "latitude": 39.2908816,
          "location": "Baltimore, Maryland",
          "longitude": -76.610759,
          "restaurant": "Sip & Bite Restaurant",
          "season": 14,
          "title": "Passin' The Baton"
         },
         {
          "air_date": "2012-04-30",
          "episode": "5",
          "latitude": 44.9772995,
          "location": "Minneapolis, Minnesota",
          "longitude": -93.2654692,
          "restaurant": "Marla's Caribbean Cuisine",
          "season": 14,
          "title": "Big Time Flavor"
         },
         {
          "air_date": "2012-04-30",
          "episode": "5",
          "latitude": 32.7762719,
          "location": "Dallas, Texas",
          "longitude": -96.7968559,
          "restaurant": "Cane Rosso",
          "season": 14,
          "title": "Big Time Flavor"
         },
         {
          "air_date": "2012-04-30",
          "episode": "5",
          "latitude": 30.2711286,
          "location": "Austin, Texas",
          "longitude": -97.7436995,
          "restaurant": "Counter Cafe",
          "season": 14,
          "title": "Big Time Flavor"
         },
         {
          "air_date": "2012-05-07",
          "episode": "6",
          "latitude": 45.0564041,
          "location": "Stillwater, Minnesota",
          "longitude": -92.81349820000001,
          "restaurant": "Smalley's Caribbean Barbeque",
          "season": 14,
          "title": "Unexpected Eats"
         },
         {
          "air_date": "2012-05-07",
          "episode": "6",
          "latitude": 38.4404925,
          "location": "Santa Rosa, California",
          "longitude": -122.71410490000001,
          "restaurant": "Johnny Garlic's",
          "season": 14,
          "title": "Unexpected Eats"
         },
         {
          "air_date": "2012-05-07",
          "episode": "6",
          "latitude": 36.8678592,
          "location": "Portsmouth, Virginia",
          "longitude": -76.37559852679193,
          "restaurant": "Harvey's Hot Dogs II",
          "season": 14,
          "title": "Unexpected Eats"
         },
         {
          "air_date": "2012-05-28",
          "episode": "7",
          "latitude": 32.7762719,
          "location": "Dallas, Texas",
          "longitude": -96.7968559,
          "restaurant": "Pecan Lodge",
          "season": 14,
          "title": "BBQ Road Show"
         },
         {
          "air_date": "2012-05-28",
          "episode": "7",
          "latitude": 36.1672559,
          "location": "Las Vegas, Nevada",
          "longitude": -115.1485163,
          "restaurant": "John Mull's Meats and Road Kill Grill",
          "season": 14,
          "title": "BBQ Road Show"
         },
         {
          "air_date": "2012-06-04",
          "episode": "8",
          "latitude": 36.1672559,
          "location": "Las Vegas, Nevada",
          "longitude": -115.1485163,
          "restaurant": "Naked City Pizza",
          "season": 14,
          "title": "All Vegas, All the Time"
         },
         {
          "air_date": "2012-06-04",
          "episode": "8",
          "latitude": 36.1672559,
          "location": "Las Vegas, Nevada",
          "longitude": -115.1485163,
          "restaurant": "Forte European Tapas Bar & Bistro",
          "season": 14,
          "title": "All Vegas, All the Time"
         },
         {
          "air_date": "2012-06-04",
          "episode": "8",
          "latitude": 36.1672559,
          "location": "Las Vegas, Nevada",
          "longitude": -115.1485163,
          "restaurant": "UNLV",
          "season": 14,
          "title": "All Vegas, All the Time"
         },
         {
          "air_date": "2012-06-11",
          "episode": "9",
          "latitude": 36.1672559,
          "location": "Las Vegas, Nevada",
          "longitude": -115.1485163,
          "restaurant": "Lola's – A Louisiana Kitchen",
          "season": 14,
          "title": "Serious Sandwiches"
         },
         {
          "air_date": "2012-06-11",
          "episode": "9",
          "latitude": 30.2711286,
          "location": "Austin, Texas",
          "longitude": -97.7436995,
          "restaurant": "Noble Pig Sandwiches",
          "season": 14,
          "title": "Serious Sandwiches"
         },
         {
          "air_date": "2012-06-11",
          "episode": "9",
          "latitude": 44.9504037,
          "location": "St. Paul, Minnesota",
          "longitude": -93.10150259999999,
          "restaurant": "Casper & Runyon's Nook",
          "season": 14,
          "title": "Serious Sandwiches"
         },
         {
          "air_date": "2012-06-18",
          "episode": "10",
          "latitude": 36.1672559,
          "location": "Las Vegas, Nevada",
          "longitude": -115.1485163,
          "restaurant": "Bachi Burger",
          "season": 14,
          "title": "International Eats"
         },
         {
          "air_date": "2012-06-18",
          "episode": "10",
          "latitude": 32.9481789,
          "location": "Richardson, Texas",
          "longitude": -96.7297206,
          "restaurant": "Afrah",
          "season": 14,
          "title": "International Eats"
         },
         {
          "air_date": "2012-06-18",
          "episode": "10",
          "latitude": 40.7896239,
          "location": "Manhattan, New York",
          "longitude": -73.9598939,
          "restaurant": "Gazala's Place",
          "season": 14,
          "title": "International Eats"
         },
         {
          "air_date": "2012-06-25",
          "episode": "11",
          "latitude": 41.875561600000005,
          "location": "Chicago, Illinois",
          "longitude": -87.6244212,
          "restaurant": "Hopleaf Bar",
          "season": 14,
          "title": "Belly Up"
         },
         {
          "air_date": "2012-06-25",
          "episode": "11",
          "latitude": 30.2711286,
          "location": "Austin, Texas",
          "longitude": -97.7436995,
          "restaurant": "Foreign & Domestic",
          "season": 14,
          "title": "Belly Up"
         },
         {
          "air_date": "2012-07-02",
          "episode": "12",
          "latitude": 21.304547,
          "location": "Honolulu, Hawaii",
          "longitude": -157.8556764,
          "restaurant": "Jawaiian Irie Jerk Restaurant",
          "season": 14,
          "title": "Dynamic Dishes"
         },
         {
          "air_date": "2012-07-02",
          "episode": "12",
          "latitude": 32.701939,
          "location": "Arlington, Texas",
          "longitude": -97.105623790337,
          "restaurant": "Taste of Europe",
          "season": 14,
          "title": "Dynamic Dishes"
         },
         {
          "air_date": "2012-07-02",
          "episode": "12",
          "latitude": 36.1672559,
          "location": "Las Vegas, Nevada",
          "longitude": -115.1485163,
          "restaurant": "Yayo Taco",
          "season": 14,
          "title": "Dynamic Dishes"
         },
         {
          "air_date": "2012-07-30",
          "episode": "13",
          "latitude": 21.394833,
          "location": "Kailua, Hawaii",
          "longitude": -157.7298913466187,
          "restaurant": "Camille's on Wheels",
          "season": 14,
          "title": "Coast to Coast Chow"
         },
         {
          "air_date": "2012-07-30",
          "episode": "13",
          "latitude": 41.875561600000005,
          "location": "Chicago, Illinois",
          "longitude": -87.6244212,
          "restaurant": "Chicago Brauhaus",
          "season": 14,
          "title": "Coast to Coast Chow"
         },
         {
          "air_date": "2012-07-30",
          "episode": "13",
          "latitude": 32.7876012,
          "location": "Charleston, South Carolina",
          "longitude": -79.9402728,
          "restaurant": "Dixie Supply Bakery & Cafe",
          "season": 14,
          "title": "Coast to Coast Chow"
         },
         {
          "air_date": "2012-08-05",
          "episode": "1",
          "latitude": 21.418554999999998,
          "location": "Kaneohe, Hawaii",
          "longitude": -157.80418400000002,
          "restaurant": "He'eia Kea Pier General Store and Deli",
          "season": 15,
          "title": "Unconventional Comforts"
         },
         {
          "air_date": "2012-08-05",
          "episode": "1",
          "latitude": 41.9633641,
          "location": "Norridge, Illinois",
          "longitude": -87.82728399999999,
          "restaurant": "Rex Italian Foods",
          "season": 15,
          "title": "Unconventional Comforts"
         },
         {
          "air_date": "2012-08-05",
          "episode": "1",
          "latitude": 34.823987,
          "location": "Hernando, Mississippi",
          "longitude": -89.9937018,
          "restaurant": "Memphis Street Cafe",
          "season": 15,
          "title": "Unconventional Comforts"
         },
         {
          "air_date": "2012-08-13",
          "episode": "2",
          "latitude": 41.875561600000005,
          "location": "Chicago, Illinois",
          "longitude": -87.6244212,
          "restaurant": "bopNgrill",
          "season": 15,
          "title": "Goin' the Extra Mile"
         },
         {
          "air_date": "2012-08-13",
          "episode": "2",
          "latitude": 21.346304,
          "location": "Waimanalo, Hawaii",
          "longitude": -157.7211,
          "restaurant": "Sweet Home Waimanalo",
          "season": 15,
          "title": "Goin' the Extra Mile"
         },
         {
          "air_date": "2012-08-19",
          "episode": "3",
          "latitude": 41.875561600000005,
          "location": "Chicago, Illinois",
          "longitude": -87.6244212,
          "restaurant": "90 Miles Cuban Cafe",
          "season": 15,
          "title": "Savory Standouts"
         },
         {
          "air_date": "2012-08-19",
          "episode": "3",
          "latitude": 38.9786401,
          "location": "Annapolis, Maryland",
          "longitude": -76.492786,
          "restaurant": "Davis' Pub",
          "season": 15,
          "title": "Savory Standouts"
         },
         {
          "air_date": "2012-08-27",
          "episode": "4",
          "latitude": 34.955371899999996,
          "location": "Horn Lake, Mississippi",
          "longitude": -90.0348139,
          "restaurant": "Memphis Barbecue Co.",
          "season": 15,
          "title": "Surf 'N' Turf Jackpot"
         },
         {
          "air_date": "2012-08-27",
          "episode": "4",
          "latitude": 21.304547,
          "location": "Honolulu, Hawaii",
          "longitude": -157.8556764,
          "restaurant": "Fresh Catch",
          "season": 15,
          "title": "Surf 'N' Turf Jackpot"
         },
         {
          "air_date": "2012-09-03",
          "episode": "5",
          "latitude": 42.3750973,
          "location": "East Boston, Massachusetts",
          "longitude": -71.03921729999999,
          "restaurant": "Italian Express Pizzeria",
          "season": 15,
          "title": "Massachusetts Madness"
         },
         {
          "air_date": "2012-09-03",
          "episode": "5",
          "latitude": 42.3317642,
          "location": "Brookline, Massachusetts",
          "longitude": -71.1211635,
          "restaurant": "Cutty's",
          "season": 15,
          "title": "Massachusetts Madness"
         },
         {
          "air_date": "2012-09-24",
          "episode": "6",
          "latitude": 42.3750997,
          "location": "Cambridge, Massachusetts",
          "longitude": -71.1056157,
          "restaurant": "Tupelo",
          "season": 15,
          "title": "East Coast Comfort"
         },
         {
          "air_date": "2012-09-24",
          "episode": "6",
          "latitude": 41.701064200000005,
          "location": "Fall River, Massachusetts",
          "longitude": -71.15463670000001,
          "restaurant": "Patti's Pierogis",
          "season": 15,
          "title": "East Coast Comfort"
         },
         {
          "air_date": "2012-09-24",
          "episode": "6",
          "latitude": 41.8239891,
          "location": "Providence, Rhode Island",
          "longitude": -71.4128343,
          "restaurant": "Angelo's Civito Farnese",
          "season": 15,
          "title": "East Coast Comfort"
         },
         {
          "air_date": "2012-09-24",
          "episode": "6",
          "latitude": 41.8239891,
          "location": "Providence, Rhode Island",
          "longitude": -71.4128343,
          "restaurant": "Mediterraneo Caffe",
          "season": 15,
          "title": "East Coast Comfort"
         },
         {
          "air_date": "2012-10-01",
          "episode": "7",
          "latitude": 35.1490215,
          "location": "Memphis, Tennessee",
          "longitude": -90.0516285,
          "restaurant": "South Of Beale (SOB)",
          "season": 15,
          "title": "Flavortown Medley"
         },
         {
          "air_date": "2012-10-01",
          "episode": "7",
          "latitude": 21.5935975,
          "location": "Haleiwa, Hawaii",
          "longitude": -158.1044696531065,
          "restaurant": "Big Wave Shrimp Truck",
          "season": 15,
          "title": "Flavortown Medley"
         },
         {
          "air_date": "2012-10-01",
          "episode": "7",
          "latitude": 39.2908816,
          "location": "Baltimore, Maryland",
          "longitude": -76.610759,
          "restaurant": "Chaps Pit Beef",
          "season": 15,
          "title": "Flavortown Medley"
         },
         {
          "air_date": "2012-10-08",
          "episode": "8",
          "latitude": 42.3602534,
          "location": "Boston, Massachusetts",
          "longitude": -71.0582912,
          "restaurant": "Boston Burger Company",
          "season": 15,
          "title": "Burgers, Noodles and Quahogs"
         },
         {
          "air_date": "2012-10-08",
          "episode": "8",
          "latitude": 41.5456578,
          "location": "Middletown, Rhode Island",
          "longitude": -71.2914388,
          "restaurant": "Anthony's Seafood",
          "season": 15,
          "title": "Burgers, Noodles and Quahogs"
         },
         {
          "air_date": "2012-10-08",
          "episode": "8",
          "latitude": 38.6529545,
          "location": "St. Louis, Missouri",
          "longitude": -90.24111656024635,
          "restaurant": "Guerilla Street Food",
          "season": 15,
          "title": "Burgers, Noodles and Quahogs"
         },
         {
          "air_date": "2012-10-15",
          "episode": "9",
          "latitude": 35.1490215,
          "location": "Memphis, Tennessee",
          "longitude": -90.0516285,
          "restaurant": "The Elegant Farmer",
          "season": 15,
          "title": "Handcrafted"
         },
         {
          "air_date": "2012-10-15",
          "episode": "9",
          "latitude": 41.813711600000005,
          "location": "East Providence, Rhode Island",
          "longitude": -71.37005450000001,
          "restaurant": "Italian Corner",
          "season": 15,
          "title": "Handcrafted"
         },
         {
          "air_date": "2012-10-22",
          "episode": "10",
          "latitude": 38.6529545,
          "location": "St. Louis, Missouri",
          "longitude": -90.24111656024635,
          "restaurant": "Anthonino's Taverna",
          "season": 15,
          "title": "All Family, All the Time"
         },
         {
          "air_date": "2012-10-22",
          "episode": "10",
          "latitude": 35.1490215,
          "location": "Memphis, Tennessee",
          "longitude": -90.0516285,
          "restaurant": "Three Angels Diner",
          "season": 15,
          "title": "All Family, All the Time"
         },
         {
          "air_date": "2012-10-22",
          "episode": "10",
          "latitude": 21.5935975,
          "location": "Haleiwa, Hawaii",
          "longitude": -158.1044696531065,
          "restaurant": "Opal Thai Food",
          "season": 15,
          "title": "All Family, All the Time"
         },
         {
          "air_date": "2012-10-29",
          "episode": "11",
          "latitude": 41.4501021,
          "location": "Narragansett, Rhode Island",
          "longitude": -71.4495005,
          "restaurant": "Aunt Carrie's",
          "season": 15,
          "title": "Food Done Right"
         },
         {
          "air_date": "2012-10-29",
          "episode": "11",
          "latitude": 38.6529545,
          "location": "St. Louis, Missouri",
          "longitude": -90.24111656024635,
          "restaurant": "The Shaved Duck",
          "season": 15,
          "title": "Food Done Right"
         },
         {
          "air_date": "2012-10-29",
          "episode": "11",
          "latitude": 42.3750973,
          "location": "East Boston, Massachusetts",
          "longitude": -71.03921729999999,
          "restaurant": "Angela's Cafe",
          "season": 15,
          "title": "Food Done Right"
         },
         {
          "air_date": "2012-11-05",
          "episode": "12",
          "latitude": 38.6529545,
          "location": "St. Louis, Missouri",
          "longitude": -90.24111656024635,
          "restaurant": "Dressel's Public House",
          "season": 15,
          "title": "Pubs and Grub"
         },
         {
          "air_date": "2012-11-05",
          "episode": "12",
          "latitude": 36.0307227,
          "location": "Kill Devil Hills, North Carolina",
          "longitude": -75.67601009999998,
          "restaurant": "Outer Banks Brewing Station",
          "season": 15,
          "title": "Pubs and Grub"
         },
         {
          "air_date": "2012-11-05",
          "episode": "12",
          "latitude": 41.7809588,
          "location": "Cranston, Rhode Island",
          "longitude": -71.4371257,
          "restaurant": "Edgewood Cafe",
          "season": 15,
          "title": "Pubs and Grub"
         },
         {
          "air_date": "2012-11-12",
          "episode": "13",
          "latitude": 43.0481221,
          "location": "Syracuse, New York",
          "longitude": -76.1474244,
          "restaurant": "Kitty Hoynes",
          "season": 15,
          "title": "Turn On Traditional"
         },
         {
          "air_date": "2012-11-12",
          "episode": "13",
          "latitude": 38.661953000000004,
          "location": "Chesterfield, Missouri",
          "longitude": -90.56432579999999,
          "restaurant": "Espino's Mexican Bar and Grill",
          "season": 15,
          "title": "Turn On Traditional"
         },
         {
          "air_date": "2012-11-12",
          "episode": "13",
          "latitude": 42.3602534,
          "location": "Boston, Massachusetts",
          "longitude": -71.0582912,
          "restaurant": "Yankee Lobster Company",
          "season": 15,
          "title": "Turn On Traditional"
         },
         {
          "air_date": "2012-12-10",
          "episode": "1",
          "latitude": 38.592339,
          "location": "Webster Groves, Missouri",
          "longitude": -90.3564329,
          "restaurant": "Highway 61 Roadhouse and Kitchen",
          "season": 16,
          "title": "Authentic Eats"
         },
         {
          "air_date": "2012-12-10",
          "episode": "1",
          "latitude": 43.0481221,
          "location": "Syracuse, New York",
          "longitude": -76.1474244,
          "restaurant": "Byblos Mediterranean Cafe",
          "season": 16,
          "title": "Authentic Eats"
         },
         {
          "air_date": "2012-12-17",
          "episode": "2",
          "latitude": 35.957392299999995,
          "location": "Nags Head, North Carolina",
          "longitude": -75.624062,
          "restaurant": "Brine and Bottle",
          "season": 16,
          "title": "Fully Focused"
         },
         {
          "air_date": "2012-12-17",
          "episode": "2",
          "latitude": 43.0481221,
          "location": "Syracuse, New York",
          "longitude": -76.1474244,
          "restaurant": "Pastabilities",
          "season": 16,
          "title": "Fully Focused"
         },
         {
          "air_date": "2012-12-24",
          "episode": "3",
          "latitude": 40.7433066,
          "location": "Hoboken, New Jersey",
          "longitude": -74.0323752,
          "restaurant": "La Isla Restaurant",
          "season": 16,
          "title": "Far Out"
         },
         {
          "air_date": "2012-12-24",
          "episode": "3",
          "latitude": 43.0481221,
          "location": "Syracuse, New York",
          "longitude": -76.1474244,
          "restaurant": "Funk 'n Waffles",
          "season": 16,
          "title": "Far Out"
         },
         {
          "air_date": "2012-12-24",
          "episode": "3",
          "latitude": 36.169608000000004,
          "location": "Duck, North Carolina",
          "longitude": -75.7551854,
          "restaurant": "Cravings",
          "season": 16,
          "title": "Far Out"
         },
         {
          "air_date": "2013-01-07",
          "episode": "4",
          "latitude": 35.9082257,
          "location": "Manteo, North Carolina",
          "longitude": -75.6757303,
          "restaurant": "Ortegaz' Southwestern Grill",
          "season": 16,
          "title": "Matches Made in Heaven"
         },
         {
          "air_date": "2013-01-07",
          "episode": "4",
          "latitude": 40.6501038,
          "location": "Brooklyn, New York",
          "longitude": -73.9495823,
          "restaurant": "The Smoke Joint",
          "season": 16,
          "title": "Matches Made in Heaven"
         },
         {
          "air_date": "2013-01-14",
          "episode": "5",
          "latitude": 36.202939,
          "location": "Jarvisburg, North Carolina",
          "longitude": -75.8665816,
          "restaurant": "The Weeping Radish",
          "season": 16,
          "title": "Savory Sensations"
         },
         {
          "air_date": "2013-01-14",
          "episode": "5",
          "latitude": 40.6501038,
          "location": "Brooklyn, New York",
          "longitude": -73.9495823,
          "restaurant": "Jimmy's Diner",
          "season": 16,
          "title": "Savory Sensations"
         },
         {
          "air_date": "2013-01-21",
          "episode": "6",
          "latitude": 40.7409242,
          "location": "Chatham, New Jersey",
          "longitude": -74.38367109999999,
          "restaurant": "Marie's Italian Specialties",
          "season": 16,
          "title": "Hometown Haunts"
         },
         {
          "air_date": "2013-01-21",
          "episode": "6",
          "latitude": 47.0451022,
          "location": "Olympia, Washington",
          "longitude": -122.89500749999999,
          "restaurant": "Darby's Cafe",
          "season": 16,
          "title": "Hometown Haunts"
         },
         {
          "air_date": "2013-02-11",
          "episode": "7",
          "latitude": 43.0481221,
          "location": "Syracuse, New York",
          "longitude": -76.1474244,
          "restaurant": "Empire Brewing Company",
          "season": 16,
          "title": "Land to Sea"
         },
         {
          "air_date": "2013-02-11",
          "episode": "7",
          "latitude": 36.0664318,
          "location": "Kitty Hawk, North Carolina",
          "longitude": -75.6935448,
          "restaurant": "Black Pelican Oceanfront Restaurant",
          "season": 16,
          "title": "Land to Sea"
         },
         {
          "air_date": "2013-02-11",
          "episode": "7",
          "latitude": 47.0451022,
          "location": "Olympia, Washington",
          "longitude": -122.89500749999999,
          "restaurant": "Fish Tale Brew Pub",
          "season": 16,
          "title": "Land to Sea"
         },
         {
          "air_date": "2013-02-18",
          "episode": "8",
          "latitude": 47.184900899999995,
          "location": "Puyallup, Washington",
          "longitude": -122.2921406,
          "restaurant": "Crockett's Public House",
          "season": 16,
          "title": "Decadent Dishes"
         },
         {
          "air_date": "2013-02-18",
          "episode": "8",
          "latitude": 40.6501038,
          "location": "Brooklyn, New York",
          "longitude": -73.9495823,
          "restaurant": "Pies 'N' Thighs",
          "season": 16,
          "title": "Decadent Dishes"
         },
         {
          "air_date": "2013-02-24",
          "episode": "9",
          "latitude": 43.0481221,
          "location": "Syracuse, New York",
          "longitude": -76.1474244,
          "restaurant": "Eva's European Sweets",
          "season": 16,
          "title": "Eurocentric"
         },
         {
          "air_date": "2013-02-24",
          "episode": "9",
          "latitude": 47.24957979999999,
          "location": "Tacoma, Washington",
          "longitude": -122.43987460000001,
          "restaurant": "Bruno's European Restaurant",
          "season": 16,
          "title": "Eurocentric"
         },
         {
          "air_date": "2013-02-24",
          "episode": "9",
          "latitude": 43.6534817,
          "location": "Toronto, Ontario, Canada",
          "longitude": -79.38393470000001,
          "restaurant": "Hey Meatball",
          "season": 16,
          "title": "Eurocentric"
         },
         {
          "air_date": "2013-03-04",
          "episode": "10",
          "latitude": 47.24957979999999,
          "location": "Tacoma, Washington",
          "longitude": -122.43987460000001,
          "restaurant": "Crown Bar",
          "season": 16,
          "title": "Hittin' the Grill"
         },
         {
          "air_date": "2013-03-04",
          "episode": "10",
          "latitude": 34.0536909,
          "location": "Los Angeles, California",
          "longitude": -118.2427666,
          "restaurant": "The Golden State",
          "season": 16,
          "title": "Hittin' the Grill"
         },
         {
          "air_date": "2013-03-11",
          "episode": "11",
          "latitude": 34.0536909,
          "location": "Los Angeles, California",
          "longitude": -118.2427666,
          "restaurant": "Beer Belly",
          "season": 16,
          "title": "Unlikely Partners"
         },
         {
          "air_date": "2013-03-11",
          "episode": "11",
          "latitude": 43.6534817,
          "location": "Toronto, Ontario, Canada",
          "longitude": -79.38393470000001,
          "restaurant": "Lakeview Restaurant",
          "season": 16,
          "title": "Unlikely Partners"
         },
         {
          "air_date": "2013-03-18",
          "episode": "12",
          "latitude": 35.957392299999995,
          "location": "Nags Head, North Carolina",
          "longitude": -75.624062,
          "restaurant": "Tortugas' Lie",
          "season": 16,
          "title": "Layers of Flavor"
         },
         {
          "air_date": "2013-03-18",
          "episode": "12",
          "latitude": 43.6534817,
          "location": "Toronto, Ontario, Canada",
          "longitude": -79.38393470000001,
          "restaurant": "The Ace",
          "season": 16,
          "title": "Layers of Flavor"
         },
         {
          "air_date": "2013-03-25",
          "episode": "13",
          "latitude": 33.685696899999996,
          "location": "Irvine, California",
          "longitude": -117.82598190000002,
          "restaurant": "Chomp Chomp Nation",
          "season": 16,
          "title": "Real Deal Roots"
         },
         {
          "air_date": "2013-03-25",
          "episode": "13",
          "latitude": 43.6534817,
          "location": "Toronto, Ontario, Canada",
          "longitude": -79.38393470000001,
          "restaurant": "Caplansky's",
          "season": 16,
          "title": "Real Deal Roots"
         },
         {
          "air_date": "2013-04-22",
          "episode": "1",
          "latitude": 47.24957979999999,
          "location": "Tacoma, Washington",
          "longitude": -122.43987460000001,
          "restaurant": "Dirty Oscar's Annex",
          "season": 17,
          "title": "Tacos and Tots"
         },
         {
          "air_date": "2013-04-22",
          "episode": "1",
          "latitude": 39.7392364,
          "location": "Denver, Colorado",
          "longitude": -104.98486229999999,
          "restaurant": "Highland Tavern",
          "season": 17,
          "title": "Tacos and Tots"
         },
         {
          "air_date": "2013-04-29",
          "episode": "2",
          "latitude": 39.9527237,
          "location": "Philadelphia, Pennsylvania",
          "longitude": -75.16352619999999,
          "restaurant": "Sidecar Bar and Grille",
          "season": 17,
          "title": "Chicken, Chili and Chowder"
         },
         {
          "air_date": "2013-04-29",
          "episode": "2",
          "latitude": 34.181648200000005,
          "location": "Burbank, California",
          "longitude": -118.3258554,
          "restaurant": "Chili John's",
          "season": 17,
          "title": "Chicken, Chili and Chowder"
         },
         {
          "air_date": "2013-04-29",
          "episode": "2",
          "latitude": 43.6534817,
          "location": "Toronto, Ontario, Canada",
          "longitude": -79.38393470000001,
          "restaurant": "Stockyards Smokehouse and Larder",
          "season": 17,
          "title": "Chicken, Chili and Chowder"
         },
         {
          "air_date": "2013-05-06",
          "episode": "3",
          "latitude": 39.7392364,
          "location": "Denver, Colorado",
          "longitude": -104.98486229999999,
          "restaurant": "Atomic Cowboy",
          "season": 17,
          "title": "Dynamic Duos"
         },
         {
          "air_date": "2013-05-06",
          "episode": "3",
          "latitude": 33.4942189,
          "location": "Scottsdale, Arizona",
          "longitude": -111.92601840000002,
          "restaurant": "Perk Eatery",
          "season": 17,
          "title": "Dynamic Duos"
         },
         {
          "air_date": "2013-05-13",
          "episode": "4",
          "latitude": 39.9527237,
          "location": "Philadelphia, Pennsylvania",
          "longitude": -75.16352619999999,
          "restaurant": "South Philadelphia Tap Room",
          "season": 17,
          "title": "Traditional Gone Wild"
         },
         {
          "air_date": "2013-05-13",
          "episode": "4",
          "latitude": 33.448436699999995,
          "location": "Phoenix, Arizona",
          "longitude": -112.07414170000001,
          "restaurant": "St. Francis",
          "season": 17,
          "title": "Traditional Gone Wild"
         },
         {
          "air_date": "2013-05-20",
          "episode": "5",
          "latitude": 33.448436699999995,
          "location": "Phoenix, Arizona",
          "longitude": -112.07414170000001,
          "restaurant": "Barrio Cafe",
          "season": 17,
          "title": "Peppers, Pork and Poutine"
         },
         {
          "air_date": "2013-05-20",
          "episode": "5",
          "latitude": 43.6534817,
          "location": "Toronto, Ontario, Canada",
          "longitude": -79.38393470000001,
          "restaurant": "Rosedale Diner",
          "season": 17,
          "title": "Peppers, Pork and Poutine"
         },
         {
          "air_date": "2013-05-27",
          "episode": "6",
          "latitude": 39.7392364,
          "location": "Denver, Colorado",
          "longitude": -104.98486229999999,
          "restaurant": "Hops & Pie",
          "season": 17,
          "title": "Kings and Queens of 'Cue"
         },
         {
          "air_date": "2013-05-27",
          "episode": "6",
          "latitude": 33.894927,
          "location": "Compton, California",
          "longitude": -118.226624,
          "restaurant": "Bludso's BBQ",
          "season": 17,
          "title": "Kings and Queens of 'Cue"
         },
         {
          "air_date": "2013-05-27",
          "episode": "6",
          "latitude": 39.9527237,
          "location": "Philadelphia, Pennsylvania",
          "longitude": -75.16352619999999,
          "restaurant": "Percy Street Barbecue",
          "season": 17,
          "title": "Kings and Queens of 'Cue"
         },
         {
          "air_date": "2013-06-17",
          "episode": "7",
          "latitude": 39.9527237,
          "location": "Philadelphia, Pennsylvania",
          "longitude": -75.16352619999999,
          "restaurant": "Standard Tap",
          "season": 17,
          "title": "A Festival of Flavor"
         },
         {
          "air_date": "2013-06-17",
          "episode": "7",
          "latitude": 33.4255056,
          "location": "Tempe, Arizona",
          "longitude": -111.9400125,
          "restaurant": "Curry Corner",
          "season": 17,
          "title": "A Festival of Flavor"
         },
         {
          "air_date": "2013-06-17",
          "episode": "7",
          "latitude": 39.7392364,
          "location": "Denver, Colorado",
          "longitude": -104.98486229999999,
          "restaurant": "Prohibition",
          "season": 17,
          "title": "A Festival of Flavor"
         },
         {
          "air_date": "2013-06-24",
          "episode": "8",
          "latitude": 39.9527237,
          "location": "Philadelphia, Pennsylvania",
          "longitude": -75.16352619999999,
          "restaurant": "Jamaican Jerk Hut",
          "season": 17,
          "title": "Timeless Traditions"
         },
         {
          "air_date": "2013-06-24",
          "episode": "8",
          "latitude": 33.4942189,
          "location": "Scottsdale, Arizona",
          "longitude": -111.92601840000002,
          "restaurant": "DeFalco's Italian Eatery, Grocery & Deli",
          "season": 17,
          "title": "Timeless Traditions"
         },
         {
          "air_date": "2013-06-24",
          "episode": "8",
          "latitude": 39.7392364,
          "location": "Denver, Colorado",
          "longitude": -104.98486229999999,
          "restaurant": "CoraFaye's Café",
          "season": 17,
          "title": "Timeless Traditions"
         },
         {
          "air_date": "2013-07-01",
          "episode": "9",
          "latitude": 39.9527237,
          "location": "Philadelphia, Pennsylvania",
          "longitude": -75.16352619999999,
          "restaurant": "Geechee Girl Rice Cafe",
          "season": 17,
          "title": "From Pound Cake to Pot Pie"
         },
         {
          "air_date": "2013-07-01",
          "episode": "9",
          "latitude": 33.0692223,
          "location": "Leucadia, California",
          "longitude": -117.302681,
          "restaurant": "Haggo's Organic Taco",
          "season": 17,
          "title": "From Pound Cake to Pot Pie"
         },
         {
          "air_date": "2013-07-01",
          "episode": "9",
          "latitude": 33.448436699999995,
          "location": "Phoenix, Arizona",
          "longitude": -112.07414170000001,
          "restaurant": "The Duce",
          "season": 17,
          "title": "From Pound Cake to Pot Pie"
         },
         {
          "air_date": "2013-07-08",
          "episode": "10",
          "latitude": 34.0536909,
          "location": "Los Angeles, California",
          "longitude": -118.2427666,
          "restaurant": "The Park's Finest BBQ",
          "season": 17,
          "title": "L.A. Eats"
         },
         {
          "air_date": "2013-07-08",
          "episode": "10",
          "latitude": 34.0536909,
          "location": "Los Angeles, California",
          "longitude": -118.2427666,
          "restaurant": "Eastside Market Italian Deli",
          "season": 17,
          "title": "L.A. Eats"
         },
         {
          "air_date": "2013-08-05",
          "episode": "11",
          "latitude": 32.7448067,
          "location": "Ocean Beach, California",
          "longitude": -117.2476067,
          "restaurant": "Hodad's",
          "season": 17,
          "title": "All San Diego, All the Time"
         },
         {
          "air_date": "2013-08-05",
          "episode": "11",
          "latitude": 32.7448067,
          "location": "Ocean Beach, California",
          "longitude": -117.2476067,
          "restaurant": "OB Noodle House",
          "season": 17,
          "title": "All San Diego, All the Time"
         },
         {
          "air_date": "2013-08-05",
          "episode": "11",
          "latitude": 32.7483876,
          "location": "North Park, California",
          "longitude": -117.1301564,
          "restaurant": "Pizzeria Luigi",
          "season": 17,
          "title": "All San Diego, All the Time"
         },
         {
          "air_date": "2013-08-12",
          "episode": "12",
          "latitude": 45.5317928,
          "location": "Troutdale, Oregon",
          "longitude": -122.391155,
          "restaurant": "Shirley's Tippy Canoe",
          "season": 17,
          "title": "From the Heart"
         },
         {
          "air_date": "2013-08-12",
          "episode": "12",
          "latitude": 33.158093300000004,
          "location": "Carlsbad, California",
          "longitude": -117.3505966,
          "restaurant": "Spirito's Italian Diner",
          "season": 17,
          "title": "From the Heart"
         },
         {
          "air_date": "2013-08-12",
          "episode": "12",
          "latitude": 37.779026200000004,
          "location": "San Francisco, California",
          "longitude": -122.4199061,
          "restaurant": "Nopalito",
          "season": 17,
          "title": "From the Heart"
         },
         {
          "air_date": "2013-08-19",
          "episode": "13",
          "latitude": 37.779026200000004,
          "location": "San Francisco, California",
          "longitude": -122.4199061,
          "restaurant": "Pica Pica",
          "season": 17,
          "title": "That's Fresh"
         },
         {
          "air_date": "2013-08-19",
          "episode": "13",
          "latitude": 45.5202471,
          "location": "Portland, Oregon",
          "longitude": -122.6741949,
          "restaurant": "Edelweiss Sausage & Delicatessen",
          "season": 17,
          "title": "That's Fresh"
         },
         {
          "air_date": "2013-08-26",
          "episode": "1",
          "latitude": 32.7174209,
          "location": "San Diego, California",
          "longitude": -117.16277140000001,
          "restaurant": "Crest Café",
          "season": 18,
          "title": "Neighborhood Knockouts"
         },
         {
          "air_date": "2013-08-26",
          "episode": "1",
          "latitude": 37.779026200000004,
          "location": "San Francisco, California",
          "longitude": -122.4199061,
          "restaurant": "Show Dogs",
          "season": 18,
          "title": "Neighborhood Knockouts"
         },
         {
          "air_date": "2013-08-26",
          "episode": "1",
          "latitude": 45.5202471,
          "location": "Portland, Oregon",
          "longitude": -122.6741949,
          "restaurant": "Industrial Café & Saloon",
          "season": 18,
          "title": "Neighborhood Knockouts"
         },
         {
          "air_date": "2013-09-02",
          "episode": "2",
          "latitude": 37.504936,
          "location": "San Carlos, California",
          "longitude": -122.2618236,
          "restaurant": "The Refuge",
          "season": 18,
          "title": "Meat Lover's Paradise"
         },
         {
          "air_date": "2013-09-02",
          "episode": "2",
          "latitude": 45.5202471,
          "location": "Portland, Oregon",
          "longitude": -122.6741949,
          "restaurant": "The Country Cat",
          "season": 18,
          "title": "Meat Lover's Paradise"
         },
         {
          "air_date": "2013-09-09",
          "episode": "3",
          "latitude": 37.779026200000004,
          "location": "San Francisco, California",
          "longitude": -122.4199061,
          "restaurant": "Miller's East Coast Deli",
          "season": 18,
          "title": "Servin' Up San Francisco"
         },
         {
          "air_date": "2013-09-09",
          "episode": "3",
          "latitude": 37.779026200000004,
          "location": "San Francisco, California",
          "longitude": -122.4199061,
          "restaurant": "Koja Kitchen Food Truck",
          "season": 18,
          "title": "Servin' Up San Francisco"
         },
         {
          "air_date": "2013-09-09",
          "episode": "3",
          "latitude": 37.779026200000004,
          "location": "San Francisco, California",
          "longitude": -122.4199061,
          "restaurant": "The Front Porch",
          "season": 18,
          "title": "Servin' Up San Francisco"
         },
         {
          "air_date": "2013-09-16",
          "episode": "4",
          "latitude": 37.779026200000004,
          "location": "San Francisco, California",
          "longitude": -122.4199061,
          "restaurant": "Senor Sisig Food Truck",
          "season": 18,
          "title": "Cannoli, Fritters and Wings"
         },
         {
          "air_date": "2013-09-16",
          "episode": "4",
          "latitude": 39.766098,
          "location": "Wheat Ridge, Colorado",
          "longitude": -105.07720630000001,
          "restaurant": "A Taste of Home Cooking",
          "season": 18,
          "title": "Cannoli, Fritters and Wings"
         },
         {
          "air_date": "2013-09-16",
          "episode": "4",
          "latitude": 45.5202471,
          "location": "Portland, Oregon",
          "longitude": -122.6741949,
          "restaurant": "PDX671 Food Trailer",
          "season": 18,
          "title": "Cannoli, Fritters and Wings"
         },
         {
          "air_date": "2013-10-21",
          "episode": "5",
          "latitude": 35.68699960000001,
          "location": "Santa Fe, New Mexico",
          "longitude": -105.9377997,
          "restaurant": "Casa Chimayo Restaurant",
          "season": 18,
          "title": "Aces of Authenticity"
         },
         {
          "air_date": "2013-10-21",
          "episode": "5",
          "latitude": 45.5202471,
          "location": "Portland, Oregon",
          "longitude": -122.6741949,
          "restaurant": "Frank's Noodle House",
          "season": 18,
          "title": "Aces of Authenticity"
         },
         {
          "air_date": "2013-10-21",
          "episode": "5",
          "latitude": 35.0841034,
          "location": "Albuquerque, New Mexico",
          "longitude": -106.6509851,
          "restaurant": "Torinos",
          "season": 18,
          "title": "Aces of Authenticity"
         },
         {
          "air_date": "2013-10-28",
          "episode": "6",
          "latitude": 35.68699960000001,
          "location": "Santa Fe, New Mexico",
          "longitude": -105.9377997,
          "restaurant": "Jambo Cafe",
          "season": 18,
          "title": "Sammies and Stew"
         },
         {
          "air_date": "2013-10-28",
          "episode": "6",
          "latitude": 35.0841034,
          "location": "Albuquerque, New Mexico",
          "longitude": -106.6509851,
          "restaurant": "Bocadillos",
          "season": 18,
          "title": "Sammies and Stew"
         },
         {
          "air_date": "2013-11-18",
          "episode": "7",
          "latitude": 35.68699960000001,
          "location": "Santa Fe, New Mexico",
          "longitude": -105.9377997,
          "restaurant": "Back Street Bistro",
          "season": 18,
          "title": "All Kinds of Gobble Gobble"
         },
         {
          "air_date": "2013-11-18",
          "episode": "7",
          "latitude": 35.0841034,
          "location": "Albuquerque, New Mexico",
          "longitude": -106.6509851,
          "restaurant": "Golden Crown Panaderia",
          "season": 18,
          "title": "All Kinds of Gobble Gobble"
         },
         {
          "air_date": "2013-11-18",
          "episode": "7",
          "latitude": 39.100105,
          "location": "Kansas City, Missouri",
          "longitude": -94.5781416,
          "restaurant": "Danny Edward's BBQ",
          "season": 18,
          "title": "All Kinds of Gobble Gobble"
         },
         {
          "air_date": "2013-11-25",
          "episode": "8",
          "latitude": 45.5202471,
          "location": "Portland, Oregon",
          "longitude": -122.6741949,
          "restaurant": "Tin Shed Garden Cafe",
          "season": 18,
          "title": "Comfort and Soul"
         },
         {
          "air_date": "2013-11-25",
          "episode": "8",
          "latitude": 35.0841034,
          "location": "Albuquerque, New Mexico",
          "longitude": -106.6509851,
          "restaurant": "Nexus Brewery",
          "season": 18,
          "title": "Comfort and Soul"
         },
         {
          "air_date": "2013-11-25",
          "episode": "8",
          "latitude": 39.100105,
          "location": "Kansas City, Missouri",
          "longitude": -94.5781416,
          "restaurant": "BB's Lawnside BBQ",
          "season": 18,
          "title": "Comfort and Soul"
         },
         {
          "air_date": "2013-12-02",
          "episode": "9",
          "latitude": 39.100105,
          "location": "Kansas City, Missouri",
          "longitude": -94.5781416,
          "restaurant": "Succotash",
          "season": 18,
          "title": "Pork, Pasta and Barbecue"
         },
         {
          "air_date": "2013-12-02",
          "episode": "9",
          "latitude": 39.100105,
          "location": "Kansas City, Missouri",
          "longitude": -94.5781416,
          "restaurant": "Cupini's",
          "season": 18,
          "title": "Pork, Pasta and Barbecue"
         },
         {
          "air_date": "2013-12-02",
          "episode": "9",
          "latitude": 35.0841034,
          "location": "Albuquerque, New Mexico",
          "longitude": -106.6509851,
          "restaurant": "The Cube",
          "season": 18,
          "title": "Pork, Pasta and Barbecue"
         },
         {
          "air_date": "2013-12-09",
          "episode": "10",
          "latitude": 22.893888399999998,
          "location": "Cabo San Lucas, Mexico",
          "longitude": -109.92006040000001,
          "restaurant": "Asi y Asado",
          "season": 18,
          "title": "South of the Border"
         },
         {
          "air_date": "2013-12-09",
          "episode": "10",
          "latitude": 22.893888399999998,
          "location": "Cabo San Lucas, Mexico",
          "longitude": -109.92006040000001,
          "restaurant": "Solomon's Landing",
          "season": 18,
          "title": "South of the Border"
         },
         {
          "air_date": "2013-12-09",
          "episode": "10",
          "latitude": 22.893888399999998,
          "location": "Cabo San Lucas, Mexico",
          "longitude": -109.92006040000001,
          "restaurant": "Tiki Bar",
          "season": 18,
          "title": "South of the Border"
         },
         {
          "air_date": "2013-12-16",
          "episode": "11",
          "latitude": 36.304917700000004,
          "location": "Hendersonville, Tennessee",
          "longitude": -86.621443,
          "restaurant": "Center Point Pit Barbecue",
          "season": 18,
          "title": "Tennessee Holiday Traditions"
         },
         {
          "air_date": "2013-12-16",
          "episode": "11",
          "latitude": 36.1622296,
          "location": "Nashville, Tennessee",
          "longitude": -86.7743531,
          "restaurant": "Mas Tacos por Favor",
          "season": 18,
          "title": "Tennessee Holiday Traditions"
         },
         {
          "air_date": "2013-12-23",
          "episode": "12",
          "latitude": 36.1622296,
          "location": "Nashville, Tennessee",
          "longitude": -86.7743531,
          "restaurant": "The Grilled Cheeserie",
          "season": 18,
          "title": "Family Time"
         },
         {
          "air_date": "2013-12-23",
          "episode": "12",
          "latitude": 36.1622296,
          "location": "Nashville, Tennessee",
          "longitude": -86.7743531,
          "restaurant": "Caffe Nonna",
          "season": 18,
          "title": "Family Time"
         },
         {
          "air_date": "2013-12-23",
          "episode": "12",
          "latitude": 39.100105,
          "location": "Kansas City, Missouri",
          "longitude": -94.5781416,
          "restaurant": "Blue Koi",
          "season": 18,
          "title": "Family Time"
         },
         {
          "air_date": "2013-12-30",
          "episode": "13",
          "latitude": 39.100105,
          "location": "Kansas City, Missouri",
          "longitude": -94.5781416,
          "restaurant": "Pot Pie",
          "season": 18,
          "title": "Soup, Salad and Seafood"
         },
         {
          "air_date": "2013-12-30",
          "episode": "13",
          "latitude": 35.925193,
          "location": "Franklin, Tennessee",
          "longitude": -86.8689365,
          "restaurant": "55 South",
          "season": 18,
          "title": "Soup, Salad and Seafood"
         },
         {
          "air_date": "2013-12-30",
          "episode": "13",
          "latitude": 36.1622296,
          "location": "Nashville, Tennessee",
          "longitude": -86.7743531,
          "restaurant": "Phat Bites",
          "season": 18,
          "title": "Soup, Salad and Seafood"
         },
         {
          "air_date": "2014-02-07",
          "episode": "1",
          "latitude": 40.576240999999996,
          "location": "Ferndale, California",
          "longitude": -124.263944,
          "restaurant": "Pretzel Cart",
          "season": 19,
          "title": "Guy's Hometown Tour"
         },
         {
          "air_date": "2014-02-07",
          "episode": "1",
          "latitude": 40.597407000000004,
          "location": "Fortuna, California",
          "longitude": -124.156034,
          "restaurant": "Clendenen's Cider Works",
          "season": 19,
          "title": "Guy's Hometown Tour"
         },
         {
          "air_date": "2014-02-07",
          "episode": "1",
          "latitude": 40.640867799999995,
          "location": "Loleta, California",
          "longitude": -124.22447290000001,
          "restaurant": "Loleta Cheese Shop",
          "season": 19,
          "title": "Guy's Hometown Tour"
         },
         {
          "air_date": "2014-02-07",
          "episode": "1",
          "latitude": 40.576240999999996,
          "location": "Ferndale, California",
          "longitude": -124.263944,
          "restaurant": "Ferndale Meat Co.",
          "season": 19,
          "title": "Guy's Hometown Tour"
         },
         {
          "air_date": "2014-02-07",
          "episode": "1",
          "latitude": 40.576240999999996,
          "location": "Ferndale, California",
          "longitude": -124.263944,
          "restaurant": "Ivanhoe",
          "season": 19,
          "title": "Guy's Hometown Tour"
         },
         {
          "air_date": "2014-02-07",
          "episode": "1",
          "latitude": 40.576240999999996,
          "location": "Ferndale, California",
          "longitude": -124.263944,
          "restaurant": "Humboldt Sweets",
          "season": 19,
          "title": "Guy's Hometown Tour"
         },
         {
          "air_date": "2014-02-14",
          "episode": "2",
          "latitude": 40.7896239,
          "location": "Manhattan, New York",
          "longitude": -73.9598939,
          "restaurant": "Black Tree",
          "season": 19,
          "title": "All Things NY"
         },
         {
          "air_date": "2014-02-14",
          "episode": "2",
          "latitude": 40.74982429999999,
          "location": "Queens, New York",
          "longitude": -73.7976337,
          "restaurant": "Queen's Comfort",
          "season": 19,
          "title": "All Things NY"
         },
         {
          "air_date": "2014-02-14",
          "episode": "2",
          "latitude": 40.80207120000001,
          "location": "Eureka, California",
          "longitude": -124.16367290000001,
          "restaurant": "Paul's Live From New York",
          "season": 19,
          "title": "All Things NY"
         },
         {
          "air_date": "2014-02-21",
          "episode": "3",
          "latitude": 40.74982429999999,
          "location": "Queens, New York",
          "longitude": -73.7976337,
          "restaurant": "Bun-Ker Vietnamese",
          "season": 19,
          "title": "Big Time Bites"
         },
         {
          "air_date": "2014-02-21",
          "episode": "3",
          "latitude": 40.7896239,
          "location": "Manhattan, New York",
          "longitude": -73.9598939,
          "restaurant": "Brindle Room",
          "season": 19,
          "title": "Big Time Bites"
         },
         {
          "air_date": "2014-02-21",
          "episode": "3",
          "latitude": 40.80207120000001,
          "location": "Eureka, California",
          "longitude": -124.16367290000001,
          "restaurant": "Brick & Fire",
          "season": 19,
          "title": "Big Time Bites"
         },
         {
          "air_date": "2014-02-28",
          "episode": "4",
          "latitude": 25.7742658,
          "location": "Miami, Florida",
          "longitude": -80.1936589,
          "restaurant": "Sakaya Kitchen",
          "season": 19,
          "title": "Keepin' It Real"
         },
         {
          "air_date": "2014-02-28",
          "episode": "4",
          "latitude": 40.7896239,
          "location": "Manhattan, New York",
          "longitude": -73.9598939,
          "restaurant": "Don Antonio By Starita",
          "season": 19,
          "title": "Keepin' It Real"
         },
         {
          "air_date": "2014-02-28",
          "episode": "4",
          "latitude": 40.80207120000001,
          "location": "Eureka, California",
          "longitude": -124.16367290000001,
          "restaurant": "Bless My Soul",
          "season": 19,
          "title": "Keepin' It Real"
         },
         {
          "air_date": "2014-03-07",
          "episode": "5",
          "latitude": 40.7896239,
          "location": "Manhattan, New York",
          "longitude": -73.9598939,
          "restaurant": "Duck's Eatery",
          "season": 19,
          "title": "Dynamite Duos"
         },
         {
          "air_date": "2014-03-07",
          "episode": "5",
          "latitude": 25.7742658,
          "location": "Miami, Florida",
          "longitude": -80.1936589,
          "restaurant": "Whisk Gourmet",
          "season": 19,
          "title": "Dynamite Duos"
         },
         {
          "air_date": "2014-03-07",
          "episode": "5",
          "latitude": 40.80207120000001,
          "location": "Eureka, California",
          "longitude": -124.16367290000001,
          "restaurant": "Café Nooner",
          "season": 19,
          "title": "Dynamite Duos"
         },
         {
          "air_date": "2014-03-14",
          "episode": "6",
          "latitude": 24.5625566,
          "location": "Key West, Florida",
          "longitude": -81.77243680000001,
          "restaurant": "Garbo's Grill",
          "season": 19,
          "title": "Kickin It in Key West"
         },
         {
          "air_date": "2014-03-14",
          "episode": "6",
          "latitude": 24.5625566,
          "location": "Key West, Florida",
          "longitude": -81.77243680000001,
          "restaurant": "Dj's Clam Shack",
          "season": 19,
          "title": "Kickin It in Key West"
         },
         {
          "air_date": "2014-03-14",
          "episode": "6",
          "latitude": 24.5625566,
          "location": "Key West, Florida",
          "longitude": -81.77243680000001,
          "restaurant": "Badboy Burrito",
          "season": 19,
          "title": "Kickin It in Key West"
         },
         {
          "air_date": "2014-04-25",
          "episode": "7",
          "latitude": 40.759619799999996,
          "location": "Salt Lake City, Utah",
          "longitude": -111.88679750000001,
          "restaurant": "Maxwell's East Coast Eatery",
          "season": 19,
          "title": "From Meatballs to Lollipops"
         },
         {
          "air_date": "2014-04-25",
          "episode": "7",
          "latitude": 40.5664878,
          "location": "Sandy, Utah",
          "longitude": -111.838904,
          "restaurant": "Tin Roof Grill",
          "season": 19,
          "title": "From Meatballs to Lollipops"
         },
         {
          "air_date": "2014-04-25",
          "episode": "7",
          "latitude": 25.7742658,
          "location": "Miami, Florida",
          "longitude": -80.1936589,
          "restaurant": "Latin House Grill",
          "season": 19,
          "title": "From Meatballs to Lollipops"
         },
         {
          "air_date": "2014-05-09",
          "episode": "8",
          "latitude": 40.646063500000004,
          "location": "Park City, Utah",
          "longitude": -111.4979741,
          "restaurant": "The Silver Star Café",
          "season": 19,
          "title": "Cross Country Comfort Food"
         },
         {
          "air_date": "2014-05-09",
          "episode": "8",
          "latitude": 40.646063500000004,
          "location": "Park City, Utah",
          "longitude": -111.4979741,
          "restaurant": "Sammy's Bistro",
          "season": 19,
          "title": "Cross Country Comfort Food"
         },
         {
          "air_date": "2014-05-09",
          "episode": "8",
          "latitude": 25.7742658,
          "location": "Miami, Florida",
          "longitude": -80.1936589,
          "restaurant": "Blue Collar",
          "season": 19,
          "title": "Cross Country Comfort Food"
         },
         {
          "air_date": "2014-05-16",
          "episode": "9",
          "latitude": 40.759619799999996,
          "location": "Salt Lake City, Utah",
          "longitude": -111.88679750000001,
          "restaurant": "Artiso's",
          "season": 19,
          "title": "International Family Style"
         },
         {
          "air_date": "2014-05-16",
          "episode": "9",
          "latitude": 21.394833,
          "location": "Kailua, Hawaii",
          "longitude": -157.7298913466187,
          "restaurant": "Boot's and Kimo's Homestyle Kitchen",
          "season": 19,
          "title": "International Family Style"
         },
         {
          "air_date": "2014-05-16",
          "episode": "9",
          "latitude": 40.668836299999995,
          "location": "Holladay, Utah",
          "longitude": -111.82465570000001,
          "restaurant": "Oh Mai",
          "season": 19,
          "title": "International Family Style"
         },
         {
          "air_date": "2014-05-23",
          "episode": "10",
          "latitude": 21.418554999999998,
          "location": "Kaneohe, Hawaii",
          "longitude": -157.80418400000002,
          "restaurant": "Dean's Drive Inn",
          "season": 19,
          "title": "Island Flavor"
         },
         {
          "air_date": "2014-05-23",
          "episode": "10",
          "latitude": 21.382222199999998,
          "location": "Aiea, Hawaii",
          "longitude": -157.9336111,
          "restaurant": "The Alley Restaurant At Aiea Bowl",
          "season": 19,
          "title": "Island Flavor"
         },
         {
          "air_date": "2014-05-23",
          "episode": "10",
          "latitude": 21.3866667,
          "location": "Waipahu, Hawaii",
          "longitude": -158.00916669999998,
          "restaurant": "Elena's Restaurant",
          "season": 19,
          "title": "Island Flavor"
         },
         {
          "air_date": "2014-05-30",
          "episode": "11",
          "latitude": 25.7742658,
          "location": "Miami, Florida",
          "longitude": -80.1936589,
          "restaurant": "The Federal",
          "season": 19,
          "title": "Grillin, Chillin & Huli Huli Chicken"
         },
         {
          "air_date": "2014-05-30",
          "episode": "11",
          "latitude": 21.418554999999998,
          "location": "Kaneohe, Hawaii",
          "longitude": -157.80418400000002,
          "restaurant": "Mike's Huli Huli Chicken",
          "season": 19,
          "title": "Grillin, Chillin & Huli Huli Chicken"
         },
         {
          "air_date": "2014-05-30",
          "episode": "11",
          "latitude": 33.750037799999994,
          "location": "Orange County, California",
          "longitude": -117.87049309999999,
          "restaurant": "Tamarindo Truck",
          "season": 19,
          "title": "Grillin, Chillin & Huli Huli Chicken"
         },
         {
          "air_date": "2014-06-06",
          "episode": "12",
          "latitude": 36.223107899999995,
          "location": "Monterey, California",
          "longitude": -121.38774280000001,
          "restaurant": "Loulou's Griddle In The Middle",
          "season": 19,
          "title": "Righteous Bites"
         },
         {
          "air_date": "2014-06-06",
          "episode": "12",
          "latitude": 34.0536909,
          "location": "Los Angeles, California",
          "longitude": -118.2427666,
          "restaurant": "Fat Sal's Deli",
          "season": 19,
          "title": "Righteous Bites"
         },
         {
          "air_date": "2014-06-06",
          "episode": "12",
          "latitude": 21.382222199999998,
          "location": "Aiea, Hawaii",
          "longitude": -157.9336111,
          "restaurant": "The Alley Restaurant At Aiea Bowl",
          "season": 19,
          "title": "Righteous Bites"
         },
         {
          "air_date": "2014-04-14",
          "episode": "Special",
          "latitude": 36.1672559,
          "location": "Las Vegas, Nevada",
          "longitude": -115.1485163,
          "restaurant": "Bachi Burger",
          "season": 19,
          "title": "Vegas Greats"
         },
         {
          "air_date": "2014-04-14",
          "episode": "Special",
          "latitude": 36.1672559,
          "location": "Las Vegas, Nevada",
          "longitude": -115.1485163,
          "restaurant": "John Mull's Road Kill Grill",
          "season": 19,
          "title": "Vegas Greats"
         },
         {
          "air_date": "2014-04-14",
          "episode": "Special",
          "latitude": 36.1672559,
          "location": "Las Vegas, Nevada",
          "longitude": -115.1485163,
          "restaurant": "Naked City Pizza",
          "season": 19,
          "title": "Vegas Greats"
         },
         {
          "air_date": "2014-04-14",
          "episode": "Special",
          "latitude": 36.1672559,
          "location": "Las Vegas, Nevada",
          "longitude": -115.1485163,
          "restaurant": "Forte European Tapas Bar & Bistro",
          "season": 19,
          "title": "Vegas Greats"
         },
         {
          "air_date": "2014-04-14",
          "episode": "Special",
          "latitude": 36.1672559,
          "location": "Las Vegas, Nevada",
          "longitude": -115.1485163,
          "restaurant": "UNLV",
          "season": 19,
          "title": "Vegas Greats"
         },
         {
          "air_date": "2014-04-18",
          "episode": "Special",
          "latitude": 35.1490215,
          "location": "Memphis, Tennessee",
          "longitude": -90.0516285,
          "restaurant": "Uncle Lou's",
          "season": 19,
          "title": "Crazy for Chicken"
         },
         {
          "air_date": "2014-04-18",
          "episode": "Special",
          "latitude": 35.957392299999995,
          "location": "Nags Head, North Carolina",
          "longitude": -75.624062,
          "restaurant": "Tortugas' Lie",
          "season": 19,
          "title": "Crazy for Chicken"
         },
         {
          "air_date": "2014-04-18",
          "episode": "Special",
          "latitude": 41.875561600000005,
          "location": "Chicago, Illinois",
          "longitude": -87.6244212,
          "restaurant": "90 Miles Cuban Cafe",
          "season": 19,
          "title": "Crazy for Chicken"
         },
         {
          "air_date": "2014-04-18",
          "episode": "Special",
          "latitude": 29.424600199999997,
          "location": "San Antonio, Texas",
          "longitude": -98.4951405,
          "restaurant": "Taco Taco Cafe",
          "season": 19,
          "title": "Crazy for Chicken"
         },
         {
          "air_date": "2014-04-18",
          "episode": "Special",
          "latitude": 40.74982429999999,
          "location": "Queens, New York",
          "longitude": -73.7976337,
          "restaurant": "Rincon Criollo",
          "season": 19,
          "title": "Crazy for Chicken"
         },
         {
          "air_date": "2014-04-18",
          "episode": "Special",
          "latitude": 39.7392364,
          "location": "Denver, Colorado",
          "longitude": -104.98486229999999,
          "restaurant": "Tocabe American Indian Eatery",
          "season": 19,
          "title": "Crazy for Chicken"
         },
         {
          "air_date": "2014-04-18",
          "episode": "Special",
          "latitude": 32.7876012,
          "location": "Charleston, South Carolina",
          "longitude": -79.9402728,
          "restaurant": "The Glass Onion",
          "season": 19,
          "title": "Crazy for Chicken"
         },
         {
          "air_date": "2014-04-18",
          "episode": "Special",
          "latitude": 21.5935975,
          "location": "Haleiwa, Hawaii",
          "longitude": -158.1044696531065,
          "restaurant": "Opal Thai Food",
          "season": 19,
          "title": "Crazy for Chicken"
         },
         {
          "air_date": "2014-04-18",
          "episode": "Special",
          "latitude": 39.100105,
          "location": "Kansas City, Missouri",
          "longitude": -94.5781416,
          "restaurant": "PotPie",
          "season": 19,
          "title": "Crazy for Chicken"
         },
         {
          "air_date": "2014-04-18",
          "episode": "Special",
          "latitude": 45.0564041,
          "location": "Stillwater, Minnesota",
          "longitude": -92.81349820000001,
          "restaurant": "Smalley's Caribbean Barbeque",
          "season": 19,
          "title": "Crazy for Chicken"
         },
         {
          "air_date": "2014-06-21",
          "episode": "Special",
          "latitude": 35.1490215,
          "location": "Memphis, Tennessee",
          "longitude": -90.0516285,
          "restaurant": "Tom's Bar-B-Q",
          "season": 19,
          "title": "Grilling Greats"
         },
         {
          "air_date": "2014-06-21",
          "episode": "Special",
          "latitude": 30.2711286,
          "location": "Austin, Texas",
          "longitude": -97.7436995,
          "restaurant": "Luke's Inside Out",
          "season": 19,
          "title": "Grilling Greats"
         },
         {
          "air_date": "2014-06-21",
          "episode": "Special",
          "latitude": 43.6534817,
          "location": "Toronto, Ontario",
          "longitude": -79.38393470000001,
          "restaurant": "Caplansky's Deli",
          "season": 19,
          "title": "Grilling Greats"
         },
         {
          "air_date": "2014-06-21",
          "episode": "Special",
          "latitude": 27.947759499999997,
          "location": "Tampa, Florida",
          "longitude": -82.458444,
          "restaurant": "Danny's All-American Diner & Dairy Bar",
          "season": 19,
          "title": "Grilling Greats"
         },
         {
          "air_date": "2014-06-21",
          "episode": "Special",
          "latitude": 32.279312100000006,
          "location": "Taylor, Texas",
          "longitude": -99.88126120000001,
          "restaurant": "Louie Mueller's Barbecue",
          "season": 19,
          "title": "Grilling Greats"
         },
         {
          "air_date": "2014-06-21",
          "episode": "Special",
          "latitude": 43.6086295,
          "location": "Meridian, Idaho",
          "longitude": -116.392326,
          "restaurant": "Rick's Press Room Grill & Bar",
          "season": 19,
          "title": "Grilling Greats"
         },
         {
          "air_date": "2014-06-21",
          "episode": "Special",
          "latitude": 32.7762719,
          "location": "Dallas, Texas",
          "longitude": -96.7968559,
          "restaurant": "Maple & Motor",
          "season": 19,
          "title": "Grilling Greats"
         },
         {
          "air_date": "2014-06-21",
          "episode": "Special",
          "latitude": 21.304547,
          "location": "Honolulu, Hawaii",
          "longitude": -157.8556764,
          "restaurant": "Jawaiian Irie Jerk Restaurant",
          "season": 19,
          "title": "Grilling Greats"
         },
         {
          "air_date": "2014-09-05",
          "episode": "1",
          "latitude": 33.7746292,
          "location": "Garden Grove, California",
          "longitude": -117.9463717,
          "restaurant": "Sabroso Mexican Grill",
          "season": 20,
          "title": "California Cruisin"
         },
         {
          "air_date": "2014-09-05",
          "episode": "1",
          "latitude": 36.223107899999995,
          "location": "Monterey, California",
          "longitude": -121.38774280000001,
          "restaurant": "Monterey Fish House",
          "season": 20,
          "title": "California Cruisin"
         },
         {
          "air_date": "2014-09-05",
          "episode": "1",
          "latitude": 34.0536909,
          "location": "Los Angeles, California",
          "longitude": -118.2427666,
          "restaurant": "Rutt's Hawaiian Cafe",
          "season": 20,
          "title": "California Cruisin"
         },
         {
          "air_date": "2014-09-12",
          "episode": "2",
          "latitude": 43.479965,
          "location": "Jackson, Wyoming",
          "longitude": -110.76181499999998,
          "restaurant": "Sidewinder's American Grill",
          "season": 20,
          "title": "Stuffed and Twisted"
         },
         {
          "air_date": "2014-09-12",
          "episode": "2",
          "latitude": 36.223107899999995,
          "location": "Monterey, California",
          "longitude": -121.38774280000001,
          "restaurant": "Rosine's Restaurant",
          "season": 20,
          "title": "Stuffed and Twisted"
         },
         {
          "air_date": "2014-09-12",
          "episode": "2",
          "latitude": 42.3602534,
          "location": "Boston, Massachusetts",
          "longitude": -71.0582912,
          "restaurant": "Blunch",
          "season": 20,
          "title": "Stuffed and Twisted"
         },
         {
          "air_date": "2014-09-19",
          "episode": "3",
          "latitude": 43.479965,
          "location": "Jackson, Wyoming",
          "longitude": -110.76181499999998,
          "restaurant": "Pinky G's Pizzeria",
          "season": 20,
          "title": "Old Standards, New Styles"
         },
         {
          "air_date": "2014-09-19",
          "episode": "3",
          "latitude": 33.7690164,
          "location": "Long Beach, California",
          "longitude": -118.1916048,
          "restaurant": "The Starling Diner",
          "season": 20,
          "title": "Old Standards, New Styles"
         },
         {
          "air_date": "2014-09-19",
          "episode": "3",
          "latitude": 36.223107899999995,
          "location": "Monterey, California",
          "longitude": -121.38774280000001,
          "restaurant": "Cannery Row Brewing Company",
          "season": 20,
          "title": "Old Standards, New Styles"
         },
         {
          "air_date": "2014-09-26",
          "episode": "4",
          "latitude": 33.7690164,
          "location": "Long Beach, California",
          "longitude": -118.1916048,
          "restaurant": "Factory Gastrobar",
          "season": 20,
          "title": "From Standards to Standouts"
         },
         {
          "air_date": "2014-09-26",
          "episode": "4",
          "latitude": 43.479965,
          "location": "Jackson, Wyoming",
          "longitude": -110.76181499999998,
          "restaurant": "Pica's Mexican Taqueria",
          "season": 20,
          "title": "From Standards to Standouts"
         },
         {
          "air_date": "2014-09-26",
          "episode": "4",
          "latitude": 36.555238700000004,
          "location": "Carmel-by-the-Sea, California",
          "longitude": -121.92328789999999,
          "restaurant": "Little Napoli",
          "season": 20,
          "title": "From Standards to Standouts"
         },
         {
          "air_date": "2014-10-03",
          "episode": "5",
          "latitude": 36.223107899999995,
          "location": "Monterey, California",
          "longitude": -121.38774280000001,
          "restaurant": "Wild Plum Cafe & Bistro",
          "season": 20,
          "title": "All Day Dining"
         },
         {
          "air_date": "2014-10-03",
          "episode": "5",
          "latitude": 43.489211,
          "location": "Wilson, Wyoming",
          "longitude": -110.90168087291437,
          "restaurant": "Nora's Fish Creek Inn",
          "season": 20,
          "title": "All Day Dining"
         },
         {
          "air_date": "2014-10-03",
          "episode": "5",
          "latitude": 33.7690164,
          "location": "Long Beach, California",
          "longitude": -118.1916048,
          "restaurant": "Tavern on 2",
          "season": 20,
          "title": "All Day Dining"
         },
         {
          "air_date": "2014-09-05",
          "episode": "1",
          "latitude": 42.3602534,
          "location": "Boston, Massachusetts",
          "longitude": -71.0582912,
          "restaurant": "Cafe Polonia",
          "season": 21,
          "title": "Roadtrippin' in Beantown"
         },
         {
          "air_date": "2014-09-05",
          "episode": "1",
          "latitude": 42.3554344,
          "location": "Allston, Massachusetts",
          "longitude": -71.13212709999999,
          "restaurant": "Lone Star Taco Bar",
          "season": 21,
          "title": "Roadtrippin' in Beantown"
         },
         {
          "air_date": "2014-09-05",
          "episode": "1",
          "latitude": 42.3554344,
          "location": "Allston, Massachusetts",
          "longitude": -71.13212709999999,
          "restaurant": "Deep Ellum",
          "season": 21,
          "title": "Roadtrippin' in Beantown"
         },
         {
          "air_date": "2014-09-12",
          "episode": "2",
          "latitude": 42.3602534,
          "location": "Boston, Massachusetts",
          "longitude": -71.0582912,
          "restaurant": "Saus",
          "season": 21,
          "title": "Seriously Saucy"
         },
         {
          "air_date": "2014-09-12",
          "episode": "2",
          "latitude": 43.479965,
          "location": "Jackson, Wyoming",
          "longitude": -110.76181499999998,
          "restaurant": "Cafe Genevieve",
          "season": 21,
          "title": "Seriously Saucy"
         },
         {
          "air_date": "2014-09-12",
          "episode": "2",
          "latitude": 39.1014537,
          "location": "Cincinnati, Ohio",
          "longitude": -84.5124602,
          "restaurant": "Melt Eclectic Cafe",
          "season": 21,
          "title": "Seriously Saucy"
         },
         {
          "air_date": "2014-09-19",
          "episode": "3",
          "latitude": 42.3875968,
          "location": "Somerville, Massachusetts",
          "longitude": -71.0994968,
          "restaurant": "Trina's Starlite Lounge",
          "season": 21,
          "title": "Cross-Country Classics"
         },
         {
          "air_date": "2014-09-19",
          "episode": "3",
          "latitude": 46.7207737,
          "location": "Superior, Wisconsin",
          "longitude": -92.10407959999999,
          "restaurant": "Shorty's Pizza and Smoked Meat",
          "season": 21,
          "title": "Cross-Country Classics"
         },
         {
          "air_date": "2014-09-19",
          "episode": "3",
          "latitude": 38.75511285,
          "location": "Carmel, California",
          "longitude": -121.35330894827251,
          "restaurant": "From Scratch Restaurant",
          "season": 21,
          "title": "Cross-Country Classics"
         },
         {
          "air_date": "2014-09-26",
          "episode": "4",
          "latitude": 42.3602534,
          "location": "Boston, Massachusetts",
          "longitude": -71.0582912,
          "restaurant": "Casa Razdora",
          "season": 21,
          "title": "Worldwide Flavorfest"
         },
         {
          "air_date": "2014-09-26",
          "episode": "4",
          "latitude": 39.1014537,
          "location": "Cincinnati, Ohio",
          "longitude": -84.5124602,
          "restaurant": "Island Frydays",
          "season": 21,
          "title": "Worldwide Flavorfest"
         },
         {
          "air_date": "2014-09-26",
          "episode": "4",
          "latitude": 46.77293220000001,
          "location": "Duluth, Minnesota",
          "longitude": -92.1251218,
          "restaurant": "Pak's Green Corner",
          "season": 21,
          "title": "Worldwide Flavorfest"
         },
         {
          "air_date": "2014-10-03",
          "episode": "5",
          "latitude": 46.6079956,
          "location": "South Range, Wisconsin",
          "longitude": -91.98352340000001,
          "restaurant": "Kounty Quarthouse",
          "season": 21,
          "title": "Small Town Standouts"
         },
         {
          "air_date": "2014-10-03",
          "episode": "5",
          "latitude": 44.2191935,
          "location": "Junction City, Oregon",
          "longitude": -123.2047857,
          "restaurant": "Junkyard Extreme Burgers and Brats",
          "season": 21,
          "title": "Small Town Standouts"
         },
         {
          "air_date": "2014-10-03",
          "episode": "5",
          "latitude": 43.479965,
          "location": "Jackson, Wyoming",
          "longitude": -110.76181499999998,
          "restaurant": "Lotus Cafe",
          "season": 21,
          "title": "Small Town Standouts"
         },
         {
          "air_date": "2014-10-10",
          "episode": "6",
          "latitude": 39.1014537,
          "location": "Cincinnati, Ohio",
          "longitude": -84.5124602,
          "restaurant": "Taste of Belgium",
          "season": 21,
          "title": "One Street Wonders"
         },
         {
          "air_date": "2014-10-10",
          "episode": "6",
          "latitude": 39.1014537,
          "location": "Cincinnati, Ohio",
          "longitude": -84.5124602,
          "restaurant": "Senate Pub",
          "season": 21,
          "title": "One Street Wonders"
         },
         {
          "air_date": "2014-10-10",
          "episode": "6",
          "latitude": 39.1014537,
          "location": "Cincinnati, Ohio",
          "longitude": -84.5124602,
          "restaurant": "Bakersfield OTR",
          "season": 21,
          "title": "One Street Wonders"
         },
         {
          "air_date": "2014-10-31",
          "episode": "7",
          "latitude": 44.0505054,
          "location": "Eugene, Oregon",
          "longitude": -123.09505060000001,
          "restaurant": "Cornbread Cafe",
          "season": 21,
          "title": "Old School Joints"
         },
         {
          "air_date": "2014-10-31",
          "episode": "7",
          "latitude": 46.77293220000001,
          "location": "Duluth, Minnesota",
          "longitude": -92.1251218,
          "restaurant": "Gannucci's Italian Market",
          "season": 21,
          "title": "Old School Joints"
         },
         {
          "air_date": "2014-10-31",
          "episode": "7",
          "latitude": 46.4731565,
          "location": "Delta, Wisconsin",
          "longitude": -91.2705137,
          "restaurant": "Delta Diner",
          "season": 21,
          "title": "Old School Joints"
         },
         {
          "air_date": "2014-11-07",
          "episode": "8",
          "latitude": 44.0505054,
          "location": "Eugene, Oregon",
          "longitude": -123.09505060000001,
          "restaurant": "The Sandwich League",
          "season": 21,
          "title": "Meat In The Middle"
         },
         {
          "air_date": "2014-11-07",
          "episode": "8",
          "latitude": 46.2080081,
          "location": "Cable, Wisconsin",
          "longitude": -91.2921295,
          "restaurant": "The Brick House Cafe and Catering",
          "season": 21,
          "title": "Meat In The Middle"
         },
         {
          "air_date": "2014-11-07",
          "episode": "8",
          "latitude": 39.2908816,
          "location": "Baltimore, Maryland",
          "longitude": -76.610759,
          "restaurant": "Grano's Pasta Bar",
          "season": 21,
          "title": "Meat In The Middle"
         },
         {
          "air_date": "2014-11-14",
          "episode": "9",
          "latitude": 44.0505054,
          "location": "Eugene, Oregon",
          "longitude": -123.09505060000001,
          "restaurant": "Soup Nation",
          "season": 21,
          "title": "Soup-Centric"
         },
         {
          "air_date": "2014-11-14",
          "episode": "9",
          "latitude": 39.2908816,
          "location": "Baltimore, Maryland",
          "longitude": -76.610759,
          "restaurant": "Slainte Irish Pub and Restaurant",
          "season": 21,
          "title": "Soup-Centric"
         },
         {
          "air_date": "2014-11-14",
          "episode": "9",
          "latitude": 39.1014537,
          "location": "Cincinnati, Ohio",
          "longitude": -84.5124602,
          "restaurant": "Pho Lang Thang",
          "season": 21,
          "title": "Soup-Centric"
         },
         {
          "air_date": "2014-11-21",
          "episode": "10",
          "latitude": 39.2908816,
          "location": "Baltimore, Maryland",
          "longitude": -76.610759,
          "restaurant": "Jimmy's Famous Seafood",
          "season": 21,
          "title": "All Baltimore All The Time"
         },
         {
          "air_date": "2014-11-21",
          "episode": "10",
          "latitude": 39.2908816,
          "location": "Baltimore, Maryland",
          "longitude": -76.610759,
          "restaurant": "Clementine",
          "season": 21,
          "title": "All Baltimore All The Time"
         },
         {
          "air_date": "2014-11-21",
          "episode": "10",
          "latitude": 39.2908816,
          "location": "Baltimore, Maryland",
          "longitude": -76.610759,
          "restaurant": "Johnny Rad's",
          "season": 21,
          "title": "All Baltimore All The Time"
         },
         {
          "air_date": "2014-11-28",
          "episode": "11",
          "latitude": 41.5910641,
          "location": "Des Moines, Iowa",
          "longitude": -93.60371490000001,
          "restaurant": "Patton's Restaurant & Catering",
          "season": 21,
          "title": "Chicken Chowfest"
         },
         {
          "air_date": "2014-11-28",
          "episode": "11",
          "latitude": 44.0505054,
          "location": "Eugene, Oregon",
          "longitude": -123.09505060000001,
          "restaurant": "Papa's Soul Food Kitchen and BBQ",
          "season": 21,
          "title": "Chicken Chowfest"
         },
         {
          "air_date": "2014-11-28",
          "episode": "11",
          "latitude": 39.2908816,
          "location": "Baltimore, Maryland",
          "longitude": -76.610759,
          "restaurant": "Swallow at the Hollow",
          "season": 21,
          "title": "Chicken Chowfest"
         },
         {
          "air_date": "2014-12-05",
          "episode": "12",
          "latitude": 44.0505054,
          "location": "Eugene, Oregon",
          "longitude": -123.09505060000001,
          "restaurant": "Fisherman's Market",
          "season": 21,
          "title": "Fresh Fish & Funky Chicken"
         },
         {
          "air_date": "2014-12-05",
          "episode": "12",
          "latitude": 41.564533700000005,
          "location": "West Des Moines, Iowa",
          "longitude": -93.7595281,
          "restaurant": "Mi Patria Ecuadorian Restaurant",
          "season": 21,
          "title": "Fresh Fish & Funky Chicken"
         },
         {
          "air_date": "2014-12-05",
          "episode": "12",
          "latitude": 41.5910641,
          "location": "Des Moines, Iowa",
          "longitude": -93.60371490000001,
          "restaurant": "Smokey D's BBQ",
          "season": 21,
          "title": "Fresh Fish & Funky Chicken"
         },
         {
          "air_date": "2014-12-12",
          "episode": "13",
          "latitude": 39.4101171,
          "location": "Brigantine, New Jersey",
          "longitude": -74.3645906,
          "restaurant": "Ernest & Son",
          "season": 21,
          "title": "Oldies But Goodies"
         },
         {
          "air_date": "2014-12-12",
          "episode": "13",
          "latitude": 39.4920619,
          "location": "Leeds Point, New Jersey",
          "longitude": -74.42903790000001,
          "restaurant": "Oyster Creek Inn",
          "season": 21,
          "title": "Oldies But Goodies"
         },
         {
          "air_date": "2014-12-12",
          "episode": "13",
          "latitude": 41.5910641,
          "location": "Des Moines, Iowa",
          "longitude": -93.60371490000001,
          "restaurant": "George The Chili King Drive-In",
          "season": 21,
          "title": "Oldies But Goodies"
         },
         {
          "air_date": "2014-12-22",
          "episode": "14",
          "latitude": 33.898684100000004,
          "location": "Lexington, South Carolina",
          "longitude": -81.275054,
          "restaurant": "Farmer's Shed",
          "season": 21,
          "title": "Southern Spectacular"
         },
         {
          "air_date": "2014-12-22",
          "episode": "14",
          "latitude": 45.5202471,
          "location": "Portland, Oregon",
          "longitude": -122.6741949,
          "restaurant": "Pine State Biscuits",
          "season": 21,
          "title": "Southern Spectacular"
         },
         {
          "air_date": "2014-12-22",
          "episode": "14",
          "latitude": 38.6529545,
          "location": "St. Louis, Missouri",
          "longitude": -90.24111656024635,
          "restaurant": "Sweetie Pie's",
          "season": 21,
          "title": "Southern Spectacular"
         },
         {
          "air_date": "2014-12-22",
          "episode": "14",
          "latitude": 38.2009055,
          "location": "Frankfort, Kentucky",
          "longitude": -84.8732836,
          "restaurant": "Rick's White Light Diner",
          "season": 21,
          "title": "Southern Spectacular"
         },
         {
          "air_date": "2014-12-22",
          "episode": "14",
          "latitude": 39.61282429999999,
          "location": "Mooresville, Indiana",
          "longitude": -86.37416,
          "restaurant": "Zydeco's",
          "season": 21,
          "title": "Southern Spectacular"
         },
         {
          "air_date": "2014-12-23",
          "episode": "15",
          "latitude": 40.759619799999996,
          "location": "Salt Lake City, Utah",
          "longitude": -111.88679750000001,
          "restaurant": "Ruth's Diner",
          "season": 21,
          "title": "Best of Breakfast"
         },
         {
          "air_date": "2014-12-23",
          "episode": "15",
          "latitude": 42.8867166,
          "location": "Buffalo, New York",
          "longitude": -78.87839220000001,
          "restaurant": "Lake Effect Diner",
          "season": 21,
          "title": "Best of Breakfast"
         },
         {
          "air_date": "2014-12-23",
          "episode": "15",
          "latitude": 39.757620200000005,
          "location": "Barnegat Light, New Jersey",
          "longitude": -74.10624659999999,
          "restaurant": "Mustache Bill's",
          "season": 21,
          "title": "Best of Breakfast"
         },
         {
          "air_date": "2014-12-23",
          "episode": "15",
          "latitude": 44.9772995,
          "location": "Minneapolis, Minnesota",
          "longitude": -93.2654692,
          "restaurant": "Al's Breakfast",
          "season": 21,
          "title": "Best of Breakfast"
         },
         {
          "air_date": "2014-12-23",
          "episode": "15",
          "latitude": 30.358230499999998,
          "location": "Mandeville, Louisiana",
          "longitude": -90.0657477,
          "restaurant": "Louie & the Red Head Lady",
          "season": 21,
          "title": "Best of Breakfast"
         },
         {
          "air_date": "2014-12-23",
          "episode": "15",
          "latitude": 26.050783950000003,
          "location": "Dania Beach, Florida",
          "longitude": -80.14612392627231,
          "restaurant": "Grampa's Bakery & Restaurant",
          "season": 21,
          "title": "Best of Breakfast"
         },
         {
          "air_date": "2014-12-23",
          "episode": "15",
          "latitude": 38.4404925,
          "location": "Santa Rosa, California",
          "longitude": -122.71410490000001,
          "restaurant": "W.O.W – Worth Our Weight",
          "season": 21,
          "title": "Best of Breakfast"
         },
         {
          "air_date": "2014-12-23",
          "episode": "15",
          "latitude": 33.7690164,
          "location": "Long Beach, California",
          "longitude": -118.1916048,
          "restaurant": "Schooner or Later",
          "season": 21,
          "title": "Best of Breakfast"
         },
         {
          "air_date": "2014-12-23",
          "episode": "15",
          "latitude": 33.448436699999995,
          "location": "Phoenix, Arizona",
          "longitude": -112.07414170000001,
          "restaurant": "Matt's Big Breakfast",
          "season": 21,
          "title": "Best of Breakfast"
         },
         {
          "air_date": "2014-12-24",
          "episode": "16",
          "latitude": 36.8529841,
          "location": "Virginia Beach, Virginia",
          "longitude": -75.9774183,
          "restaurant": "Rigoletto Italian Bakery & Café",
          "season": 21,
          "title": "Memorable Moms"
         },
         {
          "air_date": "2014-12-24",
          "episode": "16",
          "latitude": 47.6038321,
          "location": "Seattle, Washington",
          "longitude": -122.3300624,
          "restaurant": "Voula's Offshore Cafe",
          "season": 21,
          "title": "Memorable Moms"
         },
         {
          "air_date": "2014-12-24",
          "episode": "16",
          "latitude": 40.4416941,
          "location": "Pittsburgh, Pennsylvania",
          "longitude": -79.99008609999998,
          "restaurant": "Nadine's Restaurant",
          "season": 21,
          "title": "Memorable Moms"
         },
         {
          "air_date": "2014-12-24",
          "episode": "16",
          "latitude": 40.4416941,
          "location": "Pittsburgh, Pennsylvania",
          "longitude": -79.99008609999998,
          "restaurant": "Kelly O's Diner",
          "season": 21,
          "title": "Memorable Moms"
         },
         {
          "air_date": "2014-12-24",
          "episode": "16",
          "latitude": 35.0841034,
          "location": "Albuquerque, New Mexico",
          "longitude": -106.6509851,
          "restaurant": "Monte Carlo Steak House",
          "season": 21,
          "title": "Memorable Moms"
         },
         {
          "air_date": "2014-12-24",
          "episode": "16",
          "latitude": 44.9772995,
          "location": "Minneapolis, Minnesota",
          "longitude": -93.2654692,
          "restaurant": "Emily's Lebanese Deli",
          "season": 21,
          "title": "Memorable Moms"
         },
         {
          "air_date": "2014-12-25",
          "episode": "17",
          "latitude": 35.7258795,
          "location": "Okarche, Oklahoma",
          "longitude": -97.9764411,
          "restaurant": "Eischen's Bar",
          "season": 21,
          "title": "Hometown Heroes"
         },
         {
          "air_date": "2014-12-25",
          "episode": "17",
          "latitude": 45.5202471,
          "location": "Portland, Oregon",
          "longitude": -122.6741949,
          "restaurant": "Otto's Sausage",
          "season": 21,
          "title": "Hometown Heroes"
         },
         {
          "air_date": "2014-12-25",
          "episode": "17",
          "latitude": 35.2270869,
          "location": "Charlotte, North Carolina",
          "longitude": -80.8431268,
          "restaurant": "South 21 Drive In",
          "season": 21,
          "title": "Hometown Heroes"
         },
         {
          "air_date": "2014-12-25",
          "episode": "17",
          "latitude": 44.9772995,
          "location": "Minneapolis, Minnesota",
          "longitude": -93.2654692,
          "restaurant": "Kramarczuk Sausage Company",
          "season": 21,
          "title": "Hometown Heroes"
         },
         {
          "air_date": "2014-12-25",
          "episode": "17",
          "latitude": 43.088448,
          "location": "Kittery, Maine",
          "longitude": -70.736847,
          "restaurant": "Bob's Clam Hut",
          "season": 21,
          "title": "Hometown Heroes"
         },
         {
          "air_date": "2014-12-25",
          "episode": "17",
          "latitude": 21.304547,
          "location": "Honolulu, Hawaii",
          "longitude": -157.8556764,
          "restaurant": "Rainbow Drive-In",
          "season": 21,
          "title": "Hometown Heroes"
         },
         {
          "air_date": "2014-12-25",
          "episode": "17",
          "latitude": 37.779026200000004,
          "location": "San Francisco, California",
          "longitude": -122.4199061,
          "restaurant": "Tommy's Joynt",
          "season": 21,
          "title": "Hometown Heroes"
         },
         {
          "air_date": "2014-12-26",
          "episode": "18",
          "latitude": 42.735863,
          "location": "Clarkston, Michigan",
          "longitude": -83.4188304,
          "restaurant": "Union Wood Shop",
          "season": 21,
          "title": "Pork Hall of Fame"
         },
         {
          "air_date": "2014-12-26",
          "episode": "18",
          "latitude": 29.424600199999997,
          "location": "San Antonio, Texas",
          "longitude": -98.4951405,
          "restaurant": "Dough Pizzeria Napoletana",
          "season": 21,
          "title": "Pork Hall of Fame"
         },
         {
          "air_date": "2014-12-26",
          "episode": "18",
          "latitude": 30.2711286,
          "location": "Austin, Texas",
          "longitude": -97.7436995,
          "restaurant": "Maria's Taco Express",
          "season": 21,
          "title": "Pork Hall of Fame"
         },
         {
          "air_date": "2014-12-26",
          "episode": "18",
          "latitude": 43.6166163,
          "location": "Boise, Idaho",
          "longitude": -116.20088600000001,
          "restaurant": "Bar Gernika",
          "season": 21,
          "title": "Pork Hall of Fame"
         },
         {
          "air_date": "2014-12-26",
          "episode": "18",
          "latitude": 41.1175966,
          "location": "Norwalk, Connecticut",
          "longitude": -73.4078968,
          "restaurant": "Valencia Luncheria",
          "season": 21,
          "title": "Pork Hall of Fame"
         },
         {
          "air_date": "2014-12-26",
          "episode": "18",
          "latitude": 37.050096,
          "location": "Santa Cruz, California",
          "longitude": -121.9905908,
          "restaurant": "Santa Cruz Diner",
          "season": 21,
          "title": "Pork Hall of Fame"
         },
         {
          "air_date": "2014-12-26",
          "episode": "18",
          "latitude": 33.8915985,
          "location": "Manhattan Beach, California",
          "longitude": -118.39512409999999,
          "restaurant": "North End Caffe",
          "season": 21,
          "title": "Pork Hall of Fame"
         },
         {
          "air_date": "2014-12-26",
          "episode": "18",
          "latitude": 34.1366877,
          "location": "Eagle Rock, California",
          "longitude": -118.20767959999999,
          "restaurant": "The Oinkster",
          "season": 21,
          "title": "Pork Hall of Fame"
         },
         {
          "air_date": "2014-12-26",
          "episode": "18",
          "latitude": 33.5386858,
          "location": "Glendale, Arizona",
          "longitude": -112.18599409999999,
          "restaurant": "Haus Murphy's",
          "season": 21,
          "title": "Pork Hall of Fame"
         },
         {
          "air_date": "2015-01-16",
          "episode": "1",
          "latitude": 41.5910641,
          "location": "Des Moines, Iowa",
          "longitude": -93.60371490000001,
          "restaurant": "Flying Mango",
          "season": 22,
          "title": "Fish, Fries and Feet"
         },
         {
          "air_date": "2015-01-16",
          "episode": "1",
          "latitude": 39.364285200000005,
          "location": "Atlantic City, New Jersey",
          "longitude": -74.42293509999999,
          "restaurant": "Kelsey & Kim's Southern Cafe",
          "season": 22,
          "title": "Fish, Fries and Feet"
         },
         {
          "air_date": "2015-01-16",
          "episode": "1",
          "latitude": 41.5910641,
          "location": "Des Moines, Iowa",
          "longitude": -93.60371490000001,
          "restaurant": "Tacopocalypse",
          "season": 22,
          "title": "Fish, Fries and Feet"
         },
         {
          "air_date": "2015-01-23",
          "episode": "2",
          "latitude": 43.883179,
          "location": "Montecatini Terme, Italy",
          "longitude": 10.7709533,
          "restaurant": "Windows On The World (Ristorante WOW)",
          "season": 22,
          "title": "Cruisin' the Italian Countryside"
         },
         {
          "air_date": "2015-01-23",
          "episode": "2",
          "latitude": 44.0176138,
          "location": "Lucca, Italy",
          "longitude": 10.453151842727024,
          "restaurant": "Port Ellen Clan",
          "season": 22,
          "title": "Cruisin' the Italian Countryside"
         },
         {
          "air_date": "2015-01-23",
          "episode": "2",
          "latitude": 43.458654100000004,
          "location": "Toscana, Italy",
          "longitude": 11.1389204,
          "restaurant": "La Taverna dei Miracoli da Mangiafuoco",
          "season": 22,
          "title": "Cruisin' the Italian Countryside"
         },
         {
          "air_date": "2015-01-30",
          "episode": "3",
          "latitude": 43.769871200000004,
          "location": "Firenze, Italy",
          "longitude": 11.2555757,
          "restaurant": "La Cucina Del Garga",
          "season": 22,
          "title": "Fillin' Up in Florence"
         },
         {
          "air_date": "2015-01-30",
          "episode": "3",
          "latitude": 43.769871200000004,
          "location": "Firenze, Italy",
          "longitude": 11.2555757,
          "restaurant": "Il Gusta Pizza",
          "season": 22,
          "title": "Fillin' Up in Florence"
         },
         {
          "air_date": "2015-01-30",
          "episode": "3",
          "latitude": 43.769871200000004,
          "location": "Firenze, Italy",
          "longitude": 11.2555757,
          "restaurant": "Fratelli Briganti",
          "season": 22,
          "title": "Fillin' Up in Florence"
         },
         {
          "air_date": "2015-02-06",
          "episode": "4",
          "latitude": 33.4942189,
          "location": "Scottsdale, Arizona",
          "longitude": -111.92601840000002,
          "restaurant": "Tom's Thumb Fresh Market",
          "season": 22,
          "title": "Arizona All Stars"
         },
         {
          "air_date": "2015-02-06",
          "episode": "4",
          "latitude": 33.4942189,
          "location": "Scottsdale, Arizona",
          "longitude": -111.92601840000002,
          "restaurant": "Andreoli – Italian Grocer",
          "season": 22,
          "title": "Arizona All Stars"
         },
         {
          "air_date": "2015-02-06",
          "episode": "4",
          "latitude": 33.448436699999995,
          "location": "Phoenix, Arizona",
          "longitude": -112.07414170000001,
          "restaurant": "Paradise Valley Burger Company",
          "season": 22,
          "title": "Arizona All Stars"
         },
         {
          "air_date": "2015-02-27",
          "episode": "5",
          "latitude": 39.3176158,
          "location": "Somers Point, New Jersey",
          "longitude": -74.594601,
          "restaurant": "The Anchorage Tavern",
          "season": 22,
          "title": "Roadtrippin'"
         },
         {
          "air_date": "2015-02-27",
          "episode": "5",
          "latitude": 35.3738712,
          "location": "Bakersfield, California",
          "longitude": -119.01946389999999,
          "restaurant": "Salty's BBQ & Catering",
          "season": 22,
          "title": "Roadtrippin'"
         },
         {
          "air_date": "2015-02-27",
          "episode": "5",
          "latitude": 33.3527632,
          "location": "Gilbert, Arizona",
          "longitude": -111.78903729999999,
          "restaurant": "Sal's Gilbert Pizza",
          "season": 22,
          "title": "Roadtrippin'"
         },
         {
          "air_date": "2015-03-06",
          "episode": "6",
          "latitude": 35.3738712,
          "location": "Bakersfield, California",
          "longitude": -119.01946389999999,
          "restaurant": "KC Steakhouse",
          "season": 22,
          "title": "From Atlantic to Pacific"
         },
         {
          "air_date": "2015-03-06",
          "episode": "6",
          "latitude": 39.3176158,
          "location": "Somers Point, New Jersey",
          "longitude": -74.594601,
          "restaurant": "Grilled Cheese & Crab Cake Co.",
          "season": 22,
          "title": "From Atlantic to Pacific"
         },
         {
          "air_date": "2015-03-06",
          "episode": "6",
          "latitude": 35.3738712,
          "location": "Bakersfield, California",
          "longitude": -119.01946389999999,
          "restaurant": "Mama Roomba",
          "season": 22,
          "title": "From Atlantic to Pacific"
         },
         {
          "air_date": "2015-03-13",
          "episode": "7",
          "latitude": 33.448436699999995,
          "location": "Phoenix, Arizona",
          "longitude": -112.07414170000001,
          "restaurant": "The Wild Thaiger",
          "season": 22,
          "title": "Globe Tasting"
         },
         {
          "air_date": "2015-03-13",
          "episode": "7",
          "latitude": 35.3738712,
          "location": "Bakersfield, California",
          "longitude": -119.01946389999999,
          "restaurant": "Muertos Kitchen & Lounge",
          "season": 22,
          "title": "Globe Tasting"
         },
         {
          "air_date": "2015-03-13",
          "episode": "7",
          "latitude": 39.37039420000001,
          "location": "Northfield, New Jersey",
          "longitude": -74.5501546,
          "restaurant": "Carluccio's Coal Fired Pizza",
          "season": 22,
          "title": "Globe Tasting"
         },
         {
          "air_date": "2015-04-17",
          "episode": "8",
          "latitude": 35.3738712,
          "location": "Bakersfield, California",
          "longitude": -119.01946389999999,
          "restaurant": "La Santisima Gourmet Taco Shop",
          "season": 22,
          "title": "Sweet, Savory and Saucy"
         },
         {
          "air_date": "2015-04-17",
          "episode": "8",
          "latitude": 35.3738712,
          "location": "Bakersfield, California",
          "longitude": -119.01946389999999,
          "restaurant": "Moo Creamery",
          "season": 22,
          "title": "Sweet, Savory and Saucy"
         },
         {
          "air_date": "2015-04-17",
          "episode": "8",
          "latitude": 35.3738712,
          "location": "Bakersfield, California",
          "longitude": -119.01946389999999,
          "restaurant": "24th Street Cafe",
          "season": 22,
          "title": "Sweet, Savory and Saucy"
         },
         {
          "air_date": "2015-04-24",
          "episode": "9",
          "latitude": 35.3738712,
          "location": "Bakersfield, California",
          "longitude": -119.01946389999999,
          "restaurant": "Athena's Greek Cafe & Bakery",
          "season": 22,
          "title": "To Bakersfield and Beyond"
         },
         {
          "air_date": "2015-04-24",
          "episode": "9",
          "latitude": 35.3738712,
          "location": "Bakersfield, California",
          "longitude": -119.01946389999999,
          "restaurant": "Pyrenees Cafe",
          "season": 22,
          "title": "To Bakersfield and Beyond"
         },
         {
          "air_date": "2015-04-24",
          "episode": "9",
          "latitude": 35.142467100000005,
          "location": "Taft, California",
          "longitude": -119.4565078,
          "restaurant": "Asian Experience",
          "season": 22,
          "title": "To Bakersfield and Beyond"
         },
         {
          "air_date": "2015-05-01",
          "episode": "10",
          "latitude": 35.2270869,
          "location": "Charlotte, North Carolina",
          "longitude": -80.8431268,
          "restaurant": "Pinky's Westside Grill",
          "season": 22,
          "title": "Racing Through Charlotte"
         },
         {
          "air_date": "2015-05-01",
          "episode": "10",
          "latitude": 35.2270869,
          "location": "Charlotte, North Carolina",
          "longitude": -80.8431268,
          "restaurant": "Pit Road Bar & Grill",
          "season": 22,
          "title": "Racing Through Charlotte"
         },
         {
          "air_date": "2015-05-01",
          "episode": "10",
          "latitude": 35.2270869,
          "location": "Charlotte, North Carolina",
          "longitude": -80.8431268,
          "restaurant": "The Tin Kitchen Food Truck",
          "season": 22,
          "title": "Racing Through Charlotte"
         },
         {
          "air_date": "2015-05-22",
          "episode": "11",
          "latitude": 35.2270869,
          "location": "Charlotte, North Carolina",
          "longitude": -80.8431268,
          "restaurant": "Krazy Fish",
          "season": 22,
          "title": "Indulgent Dishes"
         },
         {
          "air_date": "2015-05-22",
          "episode": "11",
          "latitude": 35.2270869,
          "location": "Charlotte, North Carolina",
          "longitude": -80.8431268,
          "restaurant": "300 East",
          "season": 22,
          "title": "Indulgent Dishes"
         },
         {
          "air_date": "2015-05-22",
          "episode": "11",
          "latitude": 34.0536909,
          "location": "Los Angeles, California",
          "longitude": -118.2427666,
          "restaurant": "Biergarten",
          "season": 22,
          "title": "Indulgent Dishes"
         },
         {
          "air_date": "2015-05-29",
          "episode": "12",
          "latitude": 36.1672559,
          "location": "Las Vegas, Nevada",
          "longitude": -115.1485163,
          "restaurant": "Guy Fieri's Kitchen and Bar",
          "season": 22,
          "title": "Griddles & Vittles"
         },
         {
          "air_date": "2015-05-29",
          "episode": "12",
          "latitude": 36.1672559,
          "location": "Las Vegas, Nevada",
          "longitude": -115.1485163,
          "restaurant": "Those Guys Pies",
          "season": 22,
          "title": "Griddles & Vittles"
         },
         {
          "air_date": "2015-05-29",
          "episode": "12",
          "latitude": 34.0536909,
          "location": "Los Angeles, California",
          "longitude": -118.2427666,
          "restaurant": "Chichen Itza Restaurant",
          "season": 22,
          "title": "Griddles & Vittles"
         },
         {
          "air_date": "2015-06-05",
          "episode": "13",
          "latitude": 35.2270869,
          "location": "Charlotte, North Carolina",
          "longitude": -80.8431268,
          "restaurant": "Intermezzo Pizzeria and Cafe",
          "season": 22,
          "title": "Intercontinental Flavorfest"
         },
         {
          "air_date": "2015-06-05",
          "episode": "13",
          "latitude": 34.0536909,
          "location": "Los Angeles, California",
          "longitude": -118.2427666,
          "restaurant": "The Little Jewel of New Orleans",
          "season": 22,
          "title": "Intercontinental Flavorfest"
         },
         {
          "air_date": "2015-06-05",
          "episode": "13",
          "latitude": 34.0536909,
          "location": "Los Angeles, California",
          "longitude": -118.2427666,
          "restaurant": "Cha Cha Chili",
          "season": 22,
          "title": "Intercontinental Flavorfest"
         },
         {
          "air_date": "2015-02-22",
          "episode": "Special",
          "latitude": 33.750037799999994,
          "location": "Orange County, California",
          "longitude": -117.87049309999999,
          "restaurant": "Tamarindo Truck",
          "season": 22,
          "title": "Food TruckAPalooza"
         },
         {
          "air_date": "2015-02-22",
          "episode": "Special",
          "latitude": 24.5625566,
          "location": "Key West, Florida",
          "longitude": -81.77243680000001,
          "restaurant": "Garbo's Grill",
          "season": 22,
          "title": "Food TruckAPalooza"
         },
         {
          "air_date": "2015-02-22",
          "episode": "Special",
          "latitude": 36.1622296,
          "location": "Nashville, Tennessee",
          "longitude": -86.7743531,
          "restaurant": "The Grilled Cheeserie",
          "season": 22,
          "title": "Food TruckAPalooza"
         },
         {
          "air_date": "2015-02-22",
          "episode": "Special",
          "latitude": 49.2608724,
          "location": "Vancouver, British Columbia",
          "longitude": -123.11395290000002,
          "restaurant": "Fresh Local Wild",
          "season": 22,
          "title": "Food TruckAPalooza"
         },
         {
          "air_date": "2015-02-22",
          "episode": "Special",
          "latitude": 34.0536909,
          "location": "Los Angeles, California",
          "longitude": -118.2427666,
          "restaurant": "Don Chow Tacos",
          "season": 22,
          "title": "Food TruckAPalooza"
         },
         {
          "air_date": "2015-03-09",
          "episode": "Special",
          "latitude": 39.1014537,
          "location": "Cincinnati, Ohio",
          "longitude": -84.5124602,
          "restaurant": "Terry's Turf Club",
          "season": 22,
          "title": "All Beefed Up"
         },
         {
          "air_date": "2015-03-09",
          "episode": "Special",
          "latitude": 39.100105,
          "location": "Kansas City, Missouri",
          "longitude": -94.5781416,
          "restaurant": "Smokin Guns BBQ & Catering",
          "season": 22,
          "title": "All Beefed Up"
         },
         {
          "air_date": "2015-03-09",
          "episode": "Special",
          "latitude": 38.511080299999996,
          "location": "Sonoma, California",
          "longitude": -122.8473388,
          "restaurant": "Schellville Grill",
          "season": 22,
          "title": "All Beefed Up"
         },
         {
          "air_date": "2015-03-09",
          "episode": "Special",
          "latitude": 33.7038145,
          "location": "Fountain Valley, California",
          "longitude": -117.96273490000002,
          "restaurant": "Paul's Coffee Shop",
          "season": 22,
          "title": "All Beefed Up"
         },
         {
          "air_date": "2015-07-17",
          "episode": "1",
          "latitude": 35.2270869,
          "location": "Charlotte, North Carolina",
          "longitude": -80.8431268,
          "restaurant": "Mert's Heart & Soul",
          "season": 23,
          "title": "A Bowlful of Soul"
         },
         {
          "air_date": "2015-07-17",
          "episode": "1",
          "latitude": 36.1672559,
          "location": "Las Vegas, Nevada",
          "longitude": -115.1485163,
          "restaurant": "Crepe Expectations",
          "season": 23,
          "title": "A Bowlful of Soul"
         },
         {
          "air_date": "2015-07-17",
          "episode": "1",
          "latitude": 34.021122399999996,
          "location": "Culver City, California",
          "longitude": -118.3964665,
          "restaurant": "Tubs Fine Chili",
          "season": 23,
          "title": "A Bowlful of Soul"
         },
         {
          "air_date": "2015-07-24",
          "episode": "2",
          "latitude": 39.7392364,
          "location": "Denver, Colorado",
          "longitude": -104.98486229999999,
          "restaurant": "DAE GEE Korean BBQ",
          "season": 23,
          "title": "Taste of Asia"
         },
         {
          "air_date": "2015-07-24",
          "episode": "2",
          "latitude": 36.1672559,
          "location": "Las Vegas, Nevada",
          "longitude": -115.1485163,
          "restaurant": "Fat Choy",
          "season": 23,
          "title": "Taste of Asia"
         },
         {
          "air_date": "2015-07-24",
          "episode": "2",
          "latitude": 36.1672559,
          "location": "Las Vegas, Nevada",
          "longitude": -115.1485163,
          "restaurant": "Osaka Japanese Bistro",
          "season": 23,
          "title": "Taste of Asia"
         },
         {
          "air_date": "2015-07-31",
          "episode": "3",
          "latitude": 39.7392364,
          "location": "Denver, Colorado",
          "longitude": -104.98486229999999,
          "restaurant": "Cafe Brazil",
          "season": 23,
          "title": "Tri-Continent Cuisine"
         },
         {
          "air_date": "2015-07-31",
          "episode": "3",
          "latitude": 39.7392364,
          "location": "Denver, Colorado",
          "longitude": -104.98486229999999,
          "restaurant": "Biju's Little Curry Shop",
          "season": 23,
          "title": "Tri-Continent Cuisine"
         },
         {
          "air_date": "2015-07-31",
          "episode": "3",
          "latitude": 33.749098700000005,
          "location": "Atlanta, Georgia",
          "longitude": -84.39018490000001,
          "restaurant": "Folk Art",
          "season": 23,
          "title": "Tri-Continent Cuisine"
         },
         {
          "air_date": "2015-08-07",
          "episode": "4",
          "latitude": 33.749098700000005,
          "location": "Atlanta, Georgia",
          "longitude": -84.39018490000001,
          "restaurant": "Fox Bros Bar-B-Q",
          "season": 23,
          "title": "From Biscuits to Briskets"
         },
         {
          "air_date": "2015-08-07",
          "episode": "4",
          "latitude": 33.749098700000005,
          "location": "Atlanta, Georgia",
          "longitude": -84.39018490000001,
          "restaurant": "Buttermilk Kitchen",
          "season": 23,
          "title": "From Biscuits to Briskets"
         },
         {
          "air_date": "2015-08-07",
          "episode": "4",
          "latitude": 40.5508527,
          "location": "Fort Collins, Colorado",
          "longitude": -105.0668085,
          "restaurant": "Restaurant 415",
          "season": 23,
          "title": "From Biscuits to Briskets"
         },
         {
          "air_date": "2015-08-28",
          "episode": "5",
          "latitude": 33.749098700000005,
          "location": "Atlanta, Georgia",
          "longitude": -84.39018490000001,
          "restaurant": "Joy Cafe",
          "season": 23,
          "title": "Homeland Favorites"
         },
         {
          "air_date": "2015-08-28",
          "episode": "5",
          "latitude": 39.7392364,
          "location": "Denver, Colorado",
          "longitude": -104.98486229999999,
          "restaurant": "Axios Estiatorio",
          "season": 23,
          "title": "Homeland Favorites"
         },
         {
          "air_date": "2015-08-28",
          "episode": "5",
          "latitude": 44.8766431,
          "location": "Richfield, Minnesota",
          "longitude": -93.2877877,
          "restaurant": "Andale Taqueria & Mercado",
          "season": 23,
          "title": "Homeland Favorites"
         },
         {
          "air_date": "2015-09-11",
          "episode": "6",
          "latitude": 40.5508527,
          "location": "Fort Collins, Colorado",
          "longitude": -105.0668085,
          "restaurant": "The Lodge Sasquatch Kitchen",
          "season": 23,
          "title": "Name That Kitchen"
         },
         {
          "air_date": "2015-09-11",
          "episode": "6",
          "latitude": 41.5514979,
          "location": "Falmouth, Massachusetts",
          "longitude": -70.6147519,
          "restaurant": "Dana's Kitchen",
          "season": 23,
          "title": "Name That Kitchen"
         },
         {
          "air_date": "2015-09-11",
          "episode": "6",
          "latitude": 41.5514979,
          "location": "Falmouth, Massachusetts",
          "longitude": -70.6147519,
          "restaurant": "Pickle Jar Kitchen",
          "season": 23,
          "title": "Name That Kitchen"
         },
         {
          "air_date": "2015-09-23",
          "episode": "7",
          "latitude": 40.7127281,
          "location": "New York, New York",
          "longitude": -74.0060152,
          "restaurant": "Don Antonio by Starita",
          "season": 23,
          "title": "East Coast Cruisin"
         },
         {
          "air_date": "2015-09-23",
          "episode": "7",
          "latitude": 41.8239891,
          "location": "Providence, Rhode Island",
          "longitude": -71.4128343,
          "restaurant": "Louis Restaurant",
          "season": 23,
          "title": "East Coast Cruisin"
         },
         {
          "air_date": "2015-09-23",
          "episode": "7",
          "latitude": 41.4501021,
          "location": "Narragansett, Rhode Island",
          "longitude": -71.4495005,
          "restaurant": "Crazy Burger Cafe & Juice Bar",
          "season": 23,
          "title": "East Coast Cruisin"
         },
         {
          "air_date": "2015-09-23",
          "episode": "7",
          "latitude": 39.9527237,
          "location": "Philadelphia, Pennsylvania",
          "longitude": -75.16352619999999,
          "restaurant": "The Dining Car & Market",
          "season": 23,
          "title": "East Coast Cruisin"
         },
         {
          "air_date": "2015-09-18",
          "episode": "8",
          "latitude": 41.9426657,
          "location": "Plymouth, Massachusetts",
          "longitude": -70.7618592,
          "restaurant": "Driftwood Publick House & Oysteria",
          "season": 23,
          "title": "Beef It Up"
         },
         {
          "air_date": "2015-09-18",
          "episode": "8",
          "latitude": 33.749098700000005,
          "location": "Atlanta, Georgia",
          "longitude": -84.39018490000001,
          "restaurant": "The General Muir",
          "season": 23,
          "title": "Beef It Up"
         },
         {
          "air_date": "2015-09-18",
          "episode": "8",
          "latitude": 44.9772995,
          "location": "Minneapolis, Minnesota",
          "longitude": -93.2654692,
          "restaurant": "Buster's on 28th",
          "season": 23,
          "title": "Beef It Up"
         },
         {
          "air_date": "2015-09-25",
          "episode": "9",
          "latitude": 41.5514979,
          "location": "Falmouth, Massachusetts",
          "longitude": -70.6147519,
          "restaurant": "Parkside Market",
          "season": 23,
          "title": "By Hand and By Fork"
         },
         {
          "air_date": "2015-09-25",
          "episode": "9",
          "latitude": 39.7392364,
          "location": "Denver, Colorado",
          "longitude": -104.98486229999999,
          "restaurant": "Maria Empanada",
          "season": 23,
          "title": "By Hand and By Fork"
         },
         {
          "air_date": "2015-09-25",
          "episode": "9",
          "latitude": 45.0212648,
          "location": "Bayport, Minnesota",
          "longitude": -92.7813238,
          "restaurant": "Bayport BBQ",
          "season": 23,
          "title": "By Hand and By Fork"
         },
         {
          "air_date": "2015-10-09",
          "episode": "10",
          "latitude": 33.749098700000005,
          "location": "Atlanta, Georgia",
          "longitude": -84.39018490000001,
          "restaurant": "Wrecking Bar Brewpub",
          "season": 23,
          "title": "Finger Lickin' Food"
         },
         {
          "air_date": "2015-10-09",
          "episode": "10",
          "latitude": 41.5239468,
          "location": "Woods Hole, Massachusetts",
          "longitude": -70.66942929999999,
          "restaurant": "Shucker's World Famous Raw Bar",
          "season": 23,
          "title": "Finger Lickin' Food"
         },
         {
          "air_date": "2015-10-09",
          "episode": "10",
          "latitude": 44.9772995,
          "location": "Minneapolis, Minnesota",
          "longitude": -93.2654692,
          "restaurant": "George and the Dragon",
          "season": 23,
          "title": "Finger Lickin' Food"
         },
         {
          "air_date": "2015-10-16",
          "episode": "11",
          "latitude": 51.5073219,
          "location": "London, UK",
          "longitude": -0.1276474,
          "restaurant": "Grillstock",
          "season": 23,
          "title": "Bite of Britain"
         },
         {
          "air_date": "2015-10-16",
          "episode": "11",
          "latitude": 51.5073219,
          "location": "London, UK",
          "longitude": -0.1276474,
          "restaurant": "Bird of Smithfield",
          "season": 23,
          "title": "Bite of Britain"
         },
         {
          "air_date": "2015-10-16",
          "episode": "11",
          "latitude": 51.5423045,
          "location": "Camden, London, UK",
          "longitude": -0.1395604,
          "restaurant": "Hook Camden Town",
          "season": 23,
          "title": "Bite of Britain"
         },
         {
          "air_date": "2015-11-06",
          "episode": "12",
          "latitude": 38.8339578,
          "location": "Colorado Springs, Colorado",
          "longitude": -104.8253485,
          "restaurant": "Pig Latin (Food Truck)",
          "season": 23,
          "title": "Piggin' Out"
         },
         {
          "air_date": "2015-11-06",
          "episode": "12",
          "latitude": 44.9772995,
          "location": "Minneapolis, Minnesota",
          "longitude": -93.2654692,
          "restaurant": "North Bound Smokehouse and Brewpub",
          "season": 23,
          "title": "Piggin' Out"
         },
         {
          "air_date": "2015-11-06",
          "episode": "12",
          "latitude": 44.9772995,
          "location": "Minneapolis, Minnesota",
          "longitude": -93.2654692,
          "restaurant": "Unideli",
          "season": 23,
          "title": "Piggin' Out"
         },
         {
          "air_date": "2015-12-04",
          "episode": "13",
          "latitude": 41.9426657,
          "location": "Plymouth, Massachusetts",
          "longitude": -70.7618592,
          "restaurant": "The Blue-Eyed Crab Caribbean Grill & Rum Bar",
          "season": 23,
          "title": "Isle-Talian"
         },
         {
          "air_date": "2015-12-04",
          "episode": "13",
          "latitude": 38.8339578,
          "location": "Colorado Springs, Colorado",
          "longitude": -104.8253485,
          "restaurant": "Parvicini's Italian Bistro",
          "season": 23,
          "title": "Isle-Talian"
         },
         {
          "air_date": "2015-12-04",
          "episode": "13",
          "latitude": 38.8339578,
          "location": "Colorado Springs, Colorado",
          "longitude": -104.8253485,
          "restaurant": "Rasta Pasta",
          "season": 23,
          "title": "Isle-Talian"
         },
         {
          "air_date": "2015-12-18",
          "episode": "14",
          "latitude": 38.8339578,
          "location": "Colorado Springs, Colorado",
          "longitude": -104.8253485,
          "restaurant": "Mountain Shadows Restaurant",
          "season": 23,
          "title": "East-West Flavorfest"
         },
         {
          "air_date": "2015-12-18",
          "episode": "14",
          "latitude": 38.894893200000006,
          "location": "Washington, DC",
          "longitude": -77.0365529,
          "restaurant": "Toki Underground",
          "season": 23,
          "title": "East-West Flavorfest"
         },
         {
          "air_date": "2015-12-18",
          "episode": "14",
          "latitude": 39.277615600000004,
          "location": "Ocean City, NJ",
          "longitude": -74.5746001,
          "restaurant": "Piccini Wood Fired Brick Oven Pizza",
          "season": 23,
          "title": "East-West Flavorfest"
         },
         {
          "air_date": "2015-10-23",
          "episode": "Special",
          "latitude": 40.772014500000004,
          "location": "Astoria, New York",
          "longitude": -73.9302673,
          "restaurant": "Queen's Comfort",
          "season": 23,
          "title": "Amazing Appetizers"
         },
         {
          "air_date": "2015-10-23",
          "episode": "Special",
          "latitude": 39.7392364,
          "location": "Denver, Colorado",
          "longitude": -104.98486229999999,
          "restaurant": "Highland Tavern",
          "season": 23,
          "title": "Amazing Appetizers"
         },
         {
          "air_date": "2015-10-23",
          "episode": "Special",
          "latitude": 39.2574114,
          "location": "Dundalk, Maryland",
          "longitude": -76.5236745,
          "restaurant": "Boulevard Diner",
          "season": 23,
          "title": "Amazing Appetizers"
         },
         {
          "air_date": "2015-10-23",
          "episode": "Special",
          "latitude": 36.63879489999999,
          "location": "Vinita, Oklahoma",
          "longitude": -95.1543297,
          "restaurant": "Clanton's Cafe",
          "season": 23,
          "title": "Amazing Appetizers"
         },
         {
          "air_date": "2015-10-23",
          "episode": "Special",
          "latitude": 40.1784471,
          "location": "Belmar, New Jersey",
          "longitude": -74.0218037,
          "restaurant": "10th Ave Burrito Co",
          "season": 23,
          "title": "Amazing Appetizers"
         },
         {
          "air_date": "2015-10-23",
          "episode": "Special",
          "latitude": 38.57233179999999,
          "location": "Paola, Kansas",
          "longitude": -94.8786484,
          "restaurant": "BBQ Shack",
          "season": 23,
          "title": "Amazing Appetizers"
         },
         {
          "air_date": "2015-10-23",
          "episode": "Special",
          "latitude": 33.749098700000005,
          "location": "Atlanta, Georgia",
          "longitude": -84.39018490000001,
          "restaurant": "The Highlander",
          "season": 23,
          "title": "Amazing Appetizers"
         },
         {
          "air_date": "2015-10-23",
          "episode": "Special",
          "latitude": 25.7742658,
          "location": "Miami, FL",
          "longitude": -80.1936589,
          "restaurant": "Scully's Tavern",
          "season": 23,
          "title": "Amazing Appetizers"
         },
         {
          "air_date": "2015-11-19",
          "episode": "Special",
          "latitude": 35.0841034,
          "location": "Albuquerque, New Mexico",
          "longitude": -106.6509851,
          "restaurant": "Golden Crown Restaurant",
          "season": 23,
          "title": "Ultimate Turkey Fest"
         },
         {
          "air_date": "2015-11-19",
          "episode": "Special",
          "latitude": 35.0841034,
          "location": "Albuquerque, New Mexico",
          "longitude": -106.6509851,
          "restaurant": "Bocadillas: Slow Roasted Sandwich Shop",
          "season": 23,
          "title": "Ultimate Turkey Fest"
         },
         {
          "air_date": "2015-11-19",
          "episode": "Special",
          "latitude": 43.0481221,
          "location": "Syracuse, New York",
          "longitude": -76.1474244,
          "restaurant": "Funk N Waffles",
          "season": 23,
          "title": "Ultimate Turkey Fest"
         },
         {
          "air_date": "2015-11-19",
          "episode": "Special",
          "latitude": 42.331550899999996,
          "location": "Detroit, Michigan",
          "longitude": -83.04664029999999,
          "restaurant": "Supino Pizzeria",
          "season": 23,
          "title": "Ultimate Turkey Fest"
         },
         {
          "air_date": "2015-11-19",
          "episode": "Special",
          "latitude": 43.0349931,
          "location": "Milwaukee, Wisconsin",
          "longitude": -87.92249699999999,
          "restaurant": "Comet Cafe",
          "season": 23,
          "title": "Ultimate Turkey Fest"
         },
         {
          "air_date": "2015-11-19",
          "episode": "Special",
          "latitude": 42.3602534,
          "location": "Boston, Massachusetts",
          "longitude": -71.0582912,
          "restaurant": "Mike's City Diner",
          "season": 23,
          "title": "Ultimate Turkey Fest"
         },
         {
          "air_date": "2015-11-19",
          "episode": "Special",
          "latitude": 29.949932300000004,
          "location": "New Orleans, Louisiana",
          "longitude": -90.0701156,
          "restaurant": "Sammy's Food Services & Deli",
          "season": 23,
          "title": "Ultimate Turkey Fest"
         },
         {
          "air_date": "2015-11-19",
          "episode": "Special",
          "latitude": 27.3364347,
          "location": "Sarasota, Florida",
          "longitude": -82.5306527,
          "restaurant": "Alpine Steakhouse",
          "season": 23,
          "title": "Ultimate Turkey Fest"
         },
         {
          "air_date": "2015-11-19",
          "episode": "Special",
          "latitude": 33.5386858,
          "location": "Glendale, Arizona",
          "longitude": -112.18599409999999,
          "restaurant": "Thee Pitts Again",
          "season": 23,
          "title": "Ultimate Turkey Fest"
         },
         {
          "air_date": "2015-11-27",
          "episode": "Special",
          "latitude": 46.2080081,
          "location": "Cable, Wisconsin",
          "longitude": -91.2921295,
          "restaurant": "The Brick House Cafe and Catering",
          "season": 23,
          "title": "Extra Helpings"
         },
         {
          "air_date": "2015-11-27",
          "episode": "Special",
          "latitude": 43.479965,
          "location": "Jackson, Wyoming",
          "longitude": -110.76181499999998,
          "restaurant": "Cafe Genevieve",
          "season": 23,
          "title": "Extra Helpings"
         },
         {
          "air_date": "2015-11-27",
          "episode": "Special",
          "latitude": 33.7690164,
          "location": "Long Beach, California",
          "longitude": -118.1916048,
          "restaurant": "Tavern on 2",
          "season": 23,
          "title": "Extra Helpings"
         },
         {
          "air_date": "2015-11-27",
          "episode": "Special",
          "latitude": 24.5625566,
          "location": "Key West, Florida",
          "longitude": -81.77243680000001,
          "restaurant": "DJ's Clam Shack",
          "season": 23,
          "title": "Extra Helpings"
         },
         {
          "air_date": "2015-11-27",
          "episode": "Special",
          "latitude": 40.80207120000001,
          "location": "Eureka, California",
          "longitude": -124.16367290000001,
          "restaurant": "Café Nooner",
          "season": 23,
          "title": "Extra Helpings"
         },
         {
          "air_date": "2015-11-27",
          "episode": "Special",
          "latitude": 25.7742658,
          "location": "Miami, Florida",
          "longitude": -80.1936589,
          "restaurant": "Sakaya Kitchen",
          "season": 23,
          "title": "Extra Helpings"
         },
         {
          "air_date": "2015-11-27",
          "episode": "Special",
          "latitude": 40.80207120000001,
          "location": "Eureka, California",
          "longitude": -124.16367290000001,
          "restaurant": "Bless My Soul",
          "season": 23,
          "title": "Extra Helpings"
         },
         {
          "air_date": "2015-11-27",
          "episode": "Special",
          "latitude": 40.7127281,
          "location": "New York, New York",
          "longitude": -74.0060152,
          "restaurant": "Brindle Room",
          "season": 23,
          "title": "Extra Helpings"
         },
         {
          "air_date": "2015-11-27",
          "episode": "Special",
          "latitude": 40.80207120000001,
          "location": "Eureka, California",
          "longitude": -124.16367290000001,
          "restaurant": "Brick & Fire",
          "season": 23,
          "title": "Extra Helpings"
         },
         {
          "air_date": "2015-11-27",
          "episode": "Special",
          "latitude": 40.7127281,
          "location": "New York, New York",
          "longitude": -74.0060152,
          "restaurant": "Black Tree",
          "season": 23,
          "title": "Extra Helpings"
         },
         {
          "air_date": "2015-11-27",
          "episode": "Special",
          "latitude": 40.80207120000001,
          "location": "Eureka, California",
          "longitude": -124.16367290000001,
          "restaurant": "Paul's Live From New York",
          "season": 23,
          "title": "Extra Helpings"
         },
         {
          "air_date": "2015-12-11",
          "episode": "Special",
          "latitude": 36.1622296,
          "location": "Nashville, Tennessee",
          "longitude": -86.7743531,
          "restaurant": "Mas Tacos",
          "season": 23,
          "title": "Holiday Hoopla"
         },
         {
          "air_date": "2015-12-11",
          "episode": "Special",
          "latitude": 36.304917700000004,
          "location": "Hendersonville, Tennessee",
          "longitude": -86.621443,
          "restaurant": "Center Point Pit Barbecue",
          "season": 23,
          "title": "Holiday Hoopla"
         },
         {
          "air_date": "2015-12-11",
          "episode": "Special",
          "latitude": 37.779026200000004,
          "location": "San Francisco, California",
          "longitude": -122.4199061,
          "restaurant": "Miller's East Coast Deli",
          "season": 23,
          "title": "Holiday Hoopla"
         },
         {
          "air_date": "2015-12-11",
          "episode": "Special",
          "latitude": 26.5256179,
          "location": "Boynton Beach, Florida",
          "longitude": -80.0666026,
          "restaurant": "Flakowitz of Boynton",
          "season": 23,
          "title": "Holiday Hoopla"
         },
         {
          "air_date": "2015-12-11",
          "episode": "Special",
          "latitude": 39.7392364,
          "location": "Denver, Colorado",
          "longitude": -104.98486229999999,
          "restaurant": "The Bagel Delicatessen & Restaurant",
          "season": 23,
          "title": "Holiday Hoopla"
         },
         {
          "air_date": "2015-12-11",
          "episode": "Special",
          "latitude": 33.7690164,
          "location": "Long Beach, California",
          "longitude": -118.1916048,
          "restaurant": "At Last Cafe",
          "season": 23,
          "title": "Holiday Hoopla"
         },
         {
          "air_date": "2015-12-11",
          "episode": "Special",
          "latitude": 64.837845,
          "location": "Fairbanks, Alaska",
          "longitude": -147.716675,
          "restaurant": "Big Daddy's BBQ & Banquet",
          "season": 23,
          "title": "Holiday Hoopla"
         },
         {
          "air_date": "2016-01-01",
          "episode": "1",
          "latitude": 39.2908816,
          "location": "Baltimore, Maryland",
          "longitude": -76.610759,
          "restaurant": "Alewife Baltimore",
          "season": 24,
          "title": "All Kinds of Meat"
         },
         {
          "air_date": "2016-01-01",
          "episode": "1",
          "latitude": 38.894893200000006,
          "location": "Washington, DC",
          "longitude": -77.0365529,
          "restaurant": "Carving Room",
          "season": 24,
          "title": "All Kinds of Meat"
         },
         {
          "air_date": "2016-01-01",
          "episode": "1",
          "latitude": 38.8339578,
          "location": "Colorado Springs, Colorado",
          "longitude": -104.8253485,
          "restaurant": "Spice Island Grill",
          "season": 24,
          "title": "All Kinds of Meat"
         },
         {
          "air_date": "2016-01-03",
          "episode": "2",
          "latitude": 41.5910641,
          "location": "Des Moines, Iowa",
          "longitude": -93.60371490000001,
          "restaurant": "Tacopocalypse",
          "season": 24,
          "title": "Triple D \"All Stars\""
         },
         {
          "air_date": "2016-01-03",
          "episode": "2",
          "latitude": 40.759619799999996,
          "location": "Salt Lake City, Utah",
          "longitude": -111.88679750000001,
          "restaurant": "Artiso's",
          "season": 24,
          "title": "Triple D \"All Stars\""
         },
         {
          "air_date": "2016-01-03",
          "episode": "2",
          "latitude": 25.7742658,
          "location": "Miami, Florida",
          "longitude": -80.1936589,
          "restaurant": "Sakaya Kitchen",
          "season": 24,
          "title": "Triple D \"All Stars\""
         },
         {
          "air_date": "2016-01-03",
          "episode": "2",
          "latitude": 43.6166163,
          "location": "Boise, Idaho",
          "longitude": -116.20088600000001,
          "restaurant": "Chef Lou's Westside Drive-In",
          "season": 24,
          "title": "Triple D \"All Stars\""
         },
         {
          "air_date": "2016-01-03",
          "episode": "2",
          "latitude": 64.750997,
          "location": "North Pole, Alaska",
          "longitude": -147.349319,
          "restaurant": "Pagoda Restaurant",
          "season": 24,
          "title": "Triple D \"All Stars\""
         },
         {
          "air_date": "2016-01-15",
          "episode": "3",
          "latitude": 39.2908816,
          "location": "Baltimore, Maryland",
          "longitude": -76.610759,
          "restaurant": "Miss Shirley's Cafe",
          "season": 24,
          "title": "Family Legacies"
         },
         {
          "air_date": "2016-01-15",
          "episode": "3",
          "latitude": 39.3898388,
          "location": "Pleasantville, New Jersey",
          "longitude": -74.5240422,
          "restaurant": "Sam's Rialto Bar & Grill",
          "season": 24,
          "title": "Family Legacies"
         },
         {
          "air_date": "2016-01-15",
          "episode": "3",
          "latitude": 38.8339578,
          "location": "Colorado Springs, Colorado",
          "longitude": -104.8253485,
          "restaurant": "Front Range Barbeque",
          "season": 24,
          "title": "Family Legacies"
         },
         {
          "air_date": "2016-01-20",
          "episode": "4",
          "latitude": 29.949932300000004,
          "location": "New Orleans, Louisiana",
          "longitude": -90.0701156,
          "restaurant": "The Creole Creamery",
          "season": 24,
          "title": "Rockin' New Orleans"
         },
         {
          "air_date": "2016-01-20",
          "episode": "4",
          "latitude": 29.949932300000004,
          "location": "New Orleans, Louisiana",
          "longitude": -90.0701156,
          "restaurant": "The Joint",
          "season": 24,
          "title": "Rockin' New Orleans"
         },
         {
          "air_date": "2016-01-20",
          "episode": "4",
          "latitude": 29.949932300000004,
          "location": "New Orleans, Louisiana",
          "longitude": -90.0701156,
          "restaurant": "Surrey's Cafe",
          "season": 24,
          "title": "Rockin' New Orleans"
         },
         {
          "air_date": "2016-01-20",
          "episode": "4",
          "latitude": 29.949932300000004,
          "location": "New Orleans, Louisiana",
          "longitude": -90.0701156,
          "restaurant": "Parasol's Restaurant & Bar",
          "season": 24,
          "title": "Rockin' New Orleans"
         },
         {
          "air_date": "2016-01-20",
          "episode": "4",
          "latitude": 29.949932300000004,
          "location": "New Orleans, Louisiana",
          "longitude": -90.0701156,
          "restaurant": "Joey K's Restaurant & Bar",
          "season": 24,
          "title": "Rockin' New Orleans"
         },
         {
          "air_date": "2016-01-22",
          "episode": "5",
          "latitude": 38.8339578,
          "location": "Colorado Springs, Colorado",
          "longitude": -104.8253485,
          "restaurant": "Skirted Heiffer",
          "season": 24,
          "title": "Between the Bread"
         },
         {
          "air_date": "2016-01-22",
          "episode": "5",
          "latitude": 38.894893200000006,
          "location": "Washington, DC",
          "longitude": -77.0365529,
          "restaurant": "Bub and Pop's",
          "season": 24,
          "title": "Between the Bread"
         },
         {
          "air_date": "2016-01-22",
          "episode": "5",
          "latitude": 39.364285200000005,
          "location": "Atlantic City, New Jersey",
          "longitude": -74.42293509999999,
          "restaurant": "Vagabond Kitchen & Tap House",
          "season": 24,
          "title": "Between the Bread"
         },
         {
          "air_date": "2016-02-03",
          "episode": "6",
          "latitude": 42.3875968,
          "location": "Somerville, Massachusetts",
          "longitude": -71.0994968,
          "restaurant": "Trina's Starlite Lounge",
          "season": 24,
          "title": "Comfort Food Mash-Up"
         },
         {
          "air_date": "2016-02-03",
          "episode": "6",
          "latitude": 33.7690164,
          "location": "Long Beach, California",
          "longitude": -118.1916048,
          "restaurant": "The Starling Diner",
          "season": 24,
          "title": "Comfort Food Mash-Up"
         },
         {
          "air_date": "2016-02-03",
          "episode": "6",
          "latitude": 21.382222199999998,
          "location": "Aiea, Hawaii",
          "longitude": -157.9336111,
          "restaurant": "The Alley Restaurant at Aiea Bowl",
          "season": 24,
          "title": "Comfort Food Mash-Up"
         },
         {
          "air_date": "2016-02-03",
          "episode": "6",
          "latitude": 45.5202471,
          "location": "Portland, Oregon",
          "longitude": -122.6741949,
          "restaurant": "Frank's Noodle House",
          "season": 24,
          "title": "Comfort Food Mash-Up"
         },
         {
          "air_date": "2016-02-03",
          "episode": "6",
          "latitude": 39.5261206,
          "location": "Reno, Nevada",
          "longitude": -119.81265810000001,
          "restaurant": "Gold 'N Silver Inn",
          "season": 24,
          "title": "Comfort Food Mash-Up"
         },
         {
          "air_date": "2016-02-03",
          "episode": "6",
          "latitude": 33.041711199999995,
          "location": "Ramona, California",
          "longitude": -116.8680821,
          "restaurant": "Ramona Cafe",
          "season": 24,
          "title": "Comfort Food Mash-Up"
         },
         {
          "air_date": "2016-03-11",
          "episode": "7",
          "latitude": 25.091338,
          "location": "Key Largo, Florida",
          "longitude": -80.46777414781022,
          "restaurant": "The Fish House",
          "season": 24,
          "title": "Smoke and Seafood"
         },
         {
          "air_date": "2016-03-11",
          "episode": "7",
          "latitude": 24.9242995,
          "location": "Islamorada, Florida",
          "longitude": -80.62784040000001,
          "restaurant": "Islamorada Shrimp Shack",
          "season": 24,
          "title": "Smoke and Seafood"
         },
         {
          "air_date": "2016-03-11",
          "episode": "7",
          "latitude": 39.2908816,
          "location": "Baltimore, Maryland",
          "longitude": -76.610759,
          "restaurant": "The Smoking Swine",
          "season": 24,
          "title": "Smoke and Seafood"
         },
         {
          "air_date": "2016-03-25",
          "episode": "8",
          "latitude": 25.091338,
          "location": "Key Largo, Florida",
          "longitude": -80.46777414781022,
          "restaurant": "Digiorgio's Cafe Largo",
          "season": 24,
          "title": "International Appeal"
         },
         {
          "air_date": "2016-03-25",
          "episode": "8",
          "latitude": 37.779026200000004,
          "location": "San Francisco, California",
          "longitude": -122.4199061,
          "restaurant": "El Nuevo Frutilandia",
          "season": 24,
          "title": "International Appeal"
         },
         {
          "air_date": "2016-03-25",
          "episode": "8",
          "latitude": 37.9577016,
          "location": "Stockton, California",
          "longitude": -121.29077959999998,
          "restaurant": "Green Papaya Food Truck",
          "season": 24,
          "title": "International Appeal"
         },
         {
          "air_date": "2016-04-08",
          "episode": "9",
          "latitude": 24.9242995,
          "location": "Islamorada, Florida",
          "longitude": -80.62784040000001,
          "restaurant": "Green Turtle Inn",
          "season": 24,
          "title": "Tacos, Turtles, and Tri-tip"
         },
         {
          "air_date": "2016-04-08",
          "episode": "9",
          "latitude": 37.9577016,
          "location": "Stockton, California",
          "longitude": -121.29077959999998,
          "restaurant": "Midtown Creperie",
          "season": 24,
          "title": "Tacos, Turtles, and Tri-tip"
         },
         {
          "air_date": "2016-04-08",
          "episode": "9",
          "latitude": 37.804455700000005,
          "location": "Oakland, California",
          "longitude": -122.27135630000001,
          "restaurant": "Cosecha Cafe",
          "season": 24,
          "title": "Tacos, Turtles, and Tri-tip"
         },
         {
          "air_date": "2016-04-15",
          "episode": "10",
          "latitude": 37.804455700000005,
          "location": "Oakland, California",
          "longitude": -122.27135630000001,
          "restaurant": "Clove and Hoof",
          "season": 24,
          "title": "Succulent Sandwiches"
         },
         {
          "air_date": "2016-04-15",
          "episode": "10",
          "latitude": 37.6390972,
          "location": "Modesto, California",
          "longitude": -120.99687820000001,
          "restaurant": "Food Fix Truck",
          "season": 24,
          "title": "Succulent Sandwiches"
         },
         {
          "air_date": "2016-04-15",
          "episode": "10",
          "latitude": 25.091338,
          "location": "Key Largo, Florida",
          "longitude": -80.46777414781022,
          "restaurant": "Pilot House Marina & Restaurant",
          "season": 24,
          "title": "Succulent Sandwiches"
         },
         {
          "air_date": "2016-04-22",
          "episode": "11",
          "latitude": 37.804455700000005,
          "location": "Oakland, California",
          "longitude": -122.27135630000001,
          "restaurant": "Souley Vegan",
          "season": 24,
          "title": "Hot Meat and Cool Veg"
         },
         {
          "air_date": "2016-04-22",
          "episode": "11",
          "latitude": 37.6390972,
          "location": "Modesto, California",
          "longitude": -120.99687820000001,
          "restaurant": "Bauer's 66 1/2",
          "season": 24,
          "title": "Hot Meat and Cool Veg"
         },
         {
          "air_date": "2016-04-22",
          "episode": "11",
          "latitude": 24.9242995,
          "location": "Islamorada, Florida",
          "longitude": -80.62784040000001,
          "restaurant": "M.E.A.T. Eatery and Tap Room",
          "season": 24,
          "title": "Hot Meat and Cool Veg"
         },
         {
          "air_date": "2016-05-06",
          "episode": "12",
          "latitude": 25.7929198,
          "location": "Miami Beach, Florida",
          "longitude": -80.1353006,
          "restaurant": "Taquiza",
          "season": 24,
          "title": "South Beach Sizzle"
         },
         {
          "air_date": "2016-05-06",
          "episode": "12",
          "latitude": 25.7929198,
          "location": "Miami Beach, Florida",
          "longitude": -80.1353006,
          "restaurant": "Lou's Beer Garden",
          "season": 24,
          "title": "South Beach Sizzle"
         },
         {
          "air_date": "2016-05-06",
          "episode": "12",
          "latitude": 25.7929198,
          "location": "Miami Beach, Florida",
          "longitude": -80.1353006,
          "restaurant": "Hofbrau Beer Hall",
          "season": 24,
          "title": "South Beach Sizzle"
         },
         {
          "air_date": "2016-05-26",
          "episode": "13",
          "latitude": 37.6390972,
          "location": "Modesto, California",
          "longitude": -120.99687820000001,
          "restaurant": "Commonwealth",
          "season": 24,
          "title": "Smoked, Grilled, and Fried"
         },
         {
          "air_date": "2016-05-26",
          "episode": "13",
          "latitude": 25.7742658,
          "location": "Miami, Florida",
          "longitude": -80.1936589,
          "restaurant": "Miami Smokers",
          "season": 24,
          "title": "Smoked, Grilled, and Fried"
         },
         {
          "air_date": "2016-05-26",
          "episode": "13",
          "latitude": 37.9577016,
          "location": "Stockton, California",
          "longitude": -121.29077959999998,
          "restaurant": "Smitty's Wings & Things",
          "season": 24,
          "title": "Smoked, Grilled, and Fried"
         },
         {
          "air_date": "2016-06-03",
          "episode": "14",
          "latitude": 23.135305,
          "location": "Havana, Cuba",
          "longitude": -82.3589631,
          "restaurant": "El Figaro",
          "season": 24,
          "title": "Cruisin' in Cuba"
         },
         {
          "air_date": "2016-06-03",
          "episode": "14",
          "latitude": 23.135305,
          "location": "Havana, Cuba",
          "longitude": -82.3589631,
          "restaurant": "Nazdarovie",
          "season": 24,
          "title": "Cruisin' in Cuba"
         },
         {
          "air_date": "2016-06-03",
          "episode": "14",
          "latitude": 23.135305,
          "location": "Havana, Cuba",
          "longitude": -82.3589631,
          "restaurant": "Restaurante Fonda Paladar la Paila",
          "season": 24,
          "title": "Cruisin' in Cuba"
         },
         {
          "air_date": "2016-06-10",
          "episode": "15",
          "latitude": 23.135305,
          "location": "Havana, Cuba",
          "longitude": -82.3589631,
          "restaurant": "Al Carbon",
          "season": 24,
          "title": "Havana Hot Spots"
         },
         {
          "air_date": "2016-06-10",
          "episode": "15",
          "latitude": 23.135305,
          "location": "Havana, Cuba",
          "longitude": -82.3589631,
          "restaurant": "La Catedral",
          "season": 24,
          "title": "Havana Hot Spots"
         },
         {
          "air_date": "2016-06-10",
          "episode": "15",
          "latitude": 23.135305,
          "location": "Havana, Cuba",
          "longitude": -82.3589631,
          "restaurant": "Casa Abel",
          "season": 24,
          "title": "Havana Hot Spots"
         },
         {
          "air_date": "2016-06-17",
          "episode": "16",
          "latitude": 37.9577016,
          "location": "Stockton, California",
          "longitude": -121.29077959999998,
          "restaurant": "Gian's Deli",
          "season": 24,
          "title": "Great Gear"
         },
         {
          "air_date": "2016-06-17",
          "episode": "16",
          "latitude": 20.7476261,
          "location": "Kihei, Hawaii",
          "longitude": -156.4549898,
          "restaurant": "The Outrigger Pizza Company",
          "season": 24,
          "title": "Great Gear"
         },
         {
          "air_date": "2016-06-17",
          "episode": "16",
          "latitude": 37.779026200000004,
          "location": "San Francisco, California",
          "longitude": -122.4199061,
          "restaurant": "CatHead's BBQ",
          "season": 24,
          "title": "Great Gear"
         },
         {
          "air_date": "2016-07-01",
          "episode": "1",
          "latitude": 20.8747708,
          "location": "Kahului, Hawaii",
          "longitude": -156.4529829390927,
          "restaurant": "Da Kitchen",
          "season": 25,
          "title": "Soakin' Up Maui"
         },
         {
          "air_date": "2016-07-01",
          "episode": "1",
          "latitude": 20.7476261,
          "location": "Kihei, Hawaii",
          "longitude": -156.4549898,
          "restaurant": "Fat Daddy's Smokehouse",
          "season": 25,
          "title": "Soakin' Up Maui"
         },
         {
          "air_date": "2016-07-01",
          "episode": "1",
          "latitude": 20.8747708,
          "location": "Kahului, Hawaii",
          "longitude": -156.4529829390927,
          "restaurant": "Like Poke",
          "season": 25,
          "title": "Soakin' Up Maui"
         },
         {
          "air_date": "2016-07-08",
          "episode": "2",
          "latitude": 37.779026200000004,
          "location": "San Francisco, California",
          "longitude": -122.4199061,
          "restaurant": "Radio Africa & Kitchen",
          "season": 25,
          "title": "Asia, Africa and India"
         },
         {
          "air_date": "2016-07-08",
          "episode": "2",
          "latitude": 34.0536909,
          "location": "Los Angeles, California",
          "longitude": -118.2427666,
          "restaurant": "Belly & Snout",
          "season": 25,
          "title": "Asia, Africa and India"
         },
         {
          "air_date": "2016-07-08",
          "episode": "2",
          "latitude": 44.9772995,
          "location": "Minneapolis, Minnesota",
          "longitude": -93.2654692,
          "restaurant": "Gandhi Mahal Restaurant",
          "season": 25,
          "title": "Asia, Africa and India"
         },
         {
          "air_date": "2016-07-15",
          "episode": "3",
          "latitude": 20.873876899999996,
          "location": "Lahaina, Hawaii",
          "longitude": -156.6776784,
          "restaurant": "Star Noodle",
          "season": 25,
          "title": "Creole, Cold Cuts and Crepes"
         },
         {
          "air_date": "2016-07-15",
          "episode": "3",
          "latitude": 44.9772995,
          "location": "Minneapolis, Minnesota",
          "longitude": -93.2654692,
          "restaurant": "The Herbivorous Butcher",
          "season": 25,
          "title": "Creole, Cold Cuts and Crepes"
         },
         {
          "air_date": "2016-07-15",
          "episode": "3",
          "latitude": 34.0536909,
          "location": "Los Angeles, California",
          "longitude": -118.2427666,
          "restaurant": "Harold & Belle's",
          "season": 25,
          "title": "Creole, Cold Cuts and Crepes"
         },
         {
          "air_date": "2016-08-05",
          "episode": "4",
          "latitude": 44.9772995,
          "location": "Minneapolis, Minnesota",
          "longitude": -93.2654692,
          "restaurant": "Surly Brewing Company",
          "season": 25,
          "title": "Chew and Brew"
         },
         {
          "air_date": "2016-08-05",
          "episode": "4",
          "latitude": 25.72149,
          "location": "Coral Gables, Florida",
          "longitude": -80.2683838,
          "restaurant": "The Local",
          "season": 25,
          "title": "Chew and Brew"
         },
         {
          "air_date": "2016-08-05",
          "episode": "4",
          "latitude": 34.0980031,
          "location": "Hollywood, California",
          "longitude": -118.32952320000001,
          "restaurant": "Delancey Pizzeria & Bar",
          "season": 25,
          "title": "Chew and Brew"
         },
         {
          "air_date": "2016-08-12",
          "episode": "5",
          "latitude": 34.182637899999996,
          "location": "Valley Glen, California",
          "longitude": -118.41386659999999,
          "restaurant": "The Original Barone's Famous Italian",
          "season": 25,
          "title": "Global Greats"
         },
         {
          "air_date": "2016-08-12",
          "episode": "5",
          "latitude": 20.7476261,
          "location": "Kihei, Hawaii",
          "longitude": -156.4549898,
          "restaurant": "Miso Phat Sushi",
          "season": 25,
          "title": "Global Greats"
         },
         {
          "air_date": "2016-08-12",
          "episode": "5",
          "latitude": 44.9772995,
          "location": "Minneapolis, Minnesota",
          "longitude": -93.2654692,
          "restaurant": "Holy Land",
          "season": 25,
          "title": "Global Greats"
         },
         {
          "air_date": "2016-09-09",
          "episode": "6",
          "latitude": 43.071755200000005,
          "location": "Portsmouth, New Hampshire",
          "longitude": -70.7625532,
          "restaurant": "Street Food 360",
          "season": 25,
          "title": "Sausage, Seafood and Shawarma"
         },
         {
          "air_date": "2016-09-09",
          "episode": "6",
          "latitude": 25.9331488,
          "location": "North Miami Beach, Florida",
          "longitude": -80.1625463,
          "restaurant": "Ivan's Cookhouse",
          "season": 25,
          "title": "Sausage, Seafood and Shawarma"
         },
         {
          "air_date": "2016-09-09",
          "episode": "6",
          "latitude": 44.9772995,
          "location": "Minneapolis, Minnesota",
          "longitude": -93.2654692,
          "restaurant": "Red Wagon Pizza Company",
          "season": 25,
          "title": "Sausage, Seafood and Shawarma"
         },
         {
          "air_date": "2016-09-16",
          "episode": "7",
          "latitude": 34.0536909,
          "location": "Los Angeles, California",
          "longitude": -118.2427666,
          "restaurant": "Azla Ethiopian Vegan",
          "season": 25,
          "title": "Cosmopolitan Comfort"
         },
         {
          "air_date": "2016-09-16",
          "episode": "7",
          "latitude": 44.9772995,
          "location": "Minneapolis, Minnesota",
          "longitude": -93.2654692,
          "restaurant": "Prairie Dogs",
          "season": 25,
          "title": "Cosmopolitan Comfort"
         },
         {
          "air_date": "2016-09-16",
          "episode": "7",
          "latitude": 43.071755200000005,
          "location": "Portsmouth, New Hampshire",
          "longitude": -70.7625532,
          "restaurant": "Moxy",
          "season": 25,
          "title": "Cosmopolitan Comfort"
         },
         {
          "air_date": "2016-10-07",
          "episode": "8",
          "latitude": 43.071755200000005,
          "location": "Portsmouth, New Hampshire",
          "longitude": -70.7625532,
          "restaurant": "The Kitchen",
          "season": 25,
          "title": "Burgers, Buns and Bagels"
         },
         {
          "air_date": "2016-10-07",
          "episode": "8",
          "latitude": 40.3329935,
          "location": "Plainsboro Township, New Jersey",
          "longitude": -74.58525122985435,
          "restaurant": "Bagel Street",
          "season": 25,
          "title": "Burgers, Buns and Bagels"
         },
         {
          "air_date": "2016-10-07",
          "episode": "8",
          "latitude": 34.0536909,
          "location": "Los Angeles, California",
          "longitude": -118.2427666,
          "restaurant": "The Bun Shop",
          "season": 25,
          "title": "Burgers, Buns and Bagels"
         },
         {
          "air_date": "2016-10-14",
          "episode": "9",
          "latitude": 39.934002299999996,
          "location": "Vincentown, New Jersey",
          "longitude": -74.74849379999999,
          "restaurant": "Vincentown Diner",
          "season": 25,
          "title": "Big Food, Small Towns"
         },
         {
          "air_date": "2016-10-14",
          "episode": "9",
          "latitude": 40.3998283,
          "location": "Rocky Hill, New Jersey",
          "longitude": -74.63432440000001,
          "restaurant": "Rocky Hill Inn",
          "season": 25,
          "title": "Big Food, Small Towns"
         },
         {
          "air_date": "2016-10-14",
          "episode": "9",
          "latitude": 43.0361961,
          "location": "Raymond, New Hampshire",
          "longitude": -71.18339509999998,
          "restaurant": "Tuckaway Tavern & Butchery",
          "season": 25,
          "title": "Big Food, Small Towns"
         },
         {
          "air_date": "2016-11-04",
          "episode": "10",
          "latitude": 43.071755200000005,
          "location": "Portsmouth, New Hampshire",
          "longitude": -70.7625532,
          "restaurant": "Vida Cantina",
          "season": 25,
          "title": "From Port to Port"
         },
         {
          "air_date": "2016-11-04",
          "episode": "10",
          "latitude": 45.5202471,
          "location": "Portland, Oregon",
          "longitude": -122.6741949,
          "restaurant": "Ataula",
          "season": 25,
          "title": "From Port to Port"
         },
         {
          "air_date": "2016-11-04",
          "episode": "10",
          "latitude": 45.5202471,
          "location": "Portland, Oregon",
          "longitude": -122.6741949,
          "restaurant": "P's & Q's Market",
          "season": 25,
          "title": "From Port to Port"
         },
         {
          "air_date": "2016-11-18",
          "episode": "11",
          "latitude": 43.2513865,
          "location": "Somersworth, New Hampshire",
          "longitude": -70.8903607,
          "restaurant": "45 Market Street Bakery & Cafe",
          "season": 25,
          "title": "Turkey-giving"
         },
         {
          "air_date": "2016-11-18",
          "episode": "11",
          "latitude": 38.254237599999996,
          "location": "Louisville, Kentucky",
          "longitude": -85.759407,
          "restaurant": "The Table Cafe",
          "season": 25,
          "title": "Turkey-giving"
         },
         {
          "air_date": "2016-11-18",
          "episode": "11",
          "latitude": 40.3492744,
          "location": "Princeton, New Jersey",
          "longitude": -74.6592958,
          "restaurant": "Jammin' Crepes",
          "season": 25,
          "title": "Turkey-giving"
         },
         {
          "air_date": "2016-12-02",
          "episode": "12",
          "latitude": 38.254237599999996,
          "location": "Louisville, Kentucky",
          "longitude": -85.759407,
          "restaurant": "Gralehaus",
          "season": 25,
          "title": "Brunch, Bologna and Burgers"
         },
         {
          "air_date": "2016-12-02",
          "episode": "12",
          "latitude": 45.5202471,
          "location": "Portland, Oregon",
          "longitude": -122.6741949,
          "restaurant": "The Original",
          "season": 25,
          "title": "Brunch, Bologna and Burgers"
         },
         {
          "air_date": "2016-12-02",
          "episode": "12",
          "latitude": 38.254237599999996,
          "location": "Louisville, Kentucky",
          "longitude": -85.759407,
          "restaurant": "Grind Burger Kitchen",
          "season": 25,
          "title": "Brunch, Bologna and Burgers"
         },
         {
          "air_date": "2016-12-23",
          "episode": "13",
          "latitude": 38.254237599999996,
          "location": "Louisville, Kentucky",
          "longitude": -85.759407,
          "restaurant": "Momma's Mustard, Pickles & BBQ",
          "season": 25,
          "title": "Carnivore Creations"
         },
         {
          "air_date": "2016-12-23",
          "episode": "13",
          "latitude": 40.2041625,
          "location": "Hamilton Township, New Jersey",
          "longitude": -74.67932438979872,
          "restaurant": "Jersey Girl Cafe",
          "season": 25,
          "title": "Carnivore Creations"
         },
         {
          "air_date": "2016-12-23",
          "episode": "13",
          "latitude": 45.5202471,
          "location": "Portland, Oregon",
          "longitude": -122.6741949,
          "restaurant": "Tails & Trotters",
          "season": 25,
          "title": "Carnivore Creations"
         },
         {
          "air_date": "2017-01-06",
          "episode": "1",
          "latitude": 41.3828939,
          "location": "Barcelona, Spain",
          "longitude": 2.1774322,
          "restaurant": "Cal Boter",
          "season": 26,
          "title": "Belly Up to Barcelona"
         },
         {
          "air_date": "2017-01-06",
          "episode": "1",
          "latitude": 41.3828939,
          "location": "Barcelona, Spain",
          "longitude": 2.1774322,
          "restaurant": "Can Conesa",
          "season": 26,
          "title": "Belly Up to Barcelona"
         },
         {
          "air_date": "2017-01-06",
          "episode": "1",
          "latitude": 41.3828939,
          "location": "Barcelona, Spain",
          "longitude": 2.1774322,
          "restaurant": "Pulperia A Gudiña",
          "season": 26,
          "title": "Belly Up to Barcelona"
         },
         {
          "air_date": "2017-01-13",
          "episode": "2",
          "latitude": 41.3828939,
          "location": "Barcelona, Spain",
          "longitude": 2.1774322,
          "restaurant": "Can Vilaro",
          "season": 26,
          "title": "A Sampling of Spain"
         },
         {
          "air_date": "2017-01-13",
          "episode": "2",
          "latitude": 41.3828939,
          "location": "Barcelona, Spain",
          "longitude": 2.1774322,
          "restaurant": "El Pacifico",
          "season": 26,
          "title": "A Sampling of Spain"
         },
         {
          "air_date": "2017-01-13",
          "episode": "2",
          "latitude": 41.3828939,
          "location": "Barcelona, Spain",
          "longitude": 2.1774322,
          "restaurant": "Bar Morryssom",
          "season": 26,
          "title": "A Sampling of Spain"
         },
         {
          "air_date": "2017-01-20",
          "episode": "3",
          "latitude": 38.254237599999996,
          "location": "Louisville, Kentucky",
          "longitude": -85.759407,
          "restaurant": "The Seafood Lady",
          "season": 26,
          "title": "Mega Mouthfuls"
         },
         {
          "air_date": "2017-01-20",
          "episode": "3",
          "latitude": 40.22382525,
          "location": "Robbinsville, New Jersey",
          "longitude": -74.58928428901504,
          "restaurant": "Dolce & Clemente's",
          "season": 26,
          "title": "Mega Mouthfuls"
         },
         {
          "air_date": "2017-01-20",
          "episode": "3",
          "latitude": 45.5202471,
          "location": "Portland, Oregon",
          "longitude": -122.6741949,
          "restaurant": "Matt's BBQ",
          "season": 26,
          "title": "Mega Mouthfuls"
         },
         {
          "air_date": "2017-02-10",
          "episode": "4",
          "latitude": 45.5202471,
          "location": "Portland, Oregon",
          "longitude": -122.6741949,
          "restaurant": "Swiss Hibiscus",
          "season": 26,
          "title": "Swiss, Sandwiches and Sausage"
         },
         {
          "air_date": "2017-02-10",
          "episode": "4",
          "latitude": 35.2270869,
          "location": "Charlotte, North Carolina",
          "longitude": -80.8431268,
          "restaurant": "Papi Queso Food Truck",
          "season": 26,
          "title": "Swiss, Sandwiches and Sausage"
         },
         {
          "air_date": "2017-02-10",
          "episode": "4",
          "latitude": 35.2270869,
          "location": "Charlotte, North Carolina",
          "longitude": -80.8431268,
          "restaurant": "JJ's Red Hots",
          "season": 26,
          "title": "Swiss, Sandwiches and Sausage"
         },
         {
          "air_date": "2017-02-17",
          "episode": "5",
          "latitude": 38.254237599999996,
          "location": "Louisville, Kentucky",
          "longitude": -85.759407,
          "restaurant": "Irish Rover",
          "season": 26,
          "title": "Beef, Lamb and Pig"
         },
         {
          "air_date": "2017-02-17",
          "episode": "5",
          "latitude": 35.2270869,
          "location": "Charlotte, North Carolina",
          "longitude": -80.8431268,
          "restaurant": "The Improper Pig",
          "season": 26,
          "title": "Beef, Lamb and Pig"
         },
         {
          "air_date": "2017-02-17",
          "episode": "5",
          "latitude": 35.2270869,
          "location": "Charlotte, North Carolina",
          "longitude": -80.8431268,
          "restaurant": "Bang Bang Burgers",
          "season": 26,
          "title": "Beef, Lamb and Pig"
         },
         {
          "air_date": "2017-03-17",
          "episode": "6",
          "latitude": 20.630864300000002,
          "location": "Playa del Carmen, Mexico",
          "longitude": -87.0779503,
          "restaurant": "Guy Fieri's Playa del Carmen Kitchen & Bar",
          "season": 26,
          "title": "Kickin' It in Cancun"
         },
         {
          "air_date": "2017-03-17",
          "episode": "6",
          "latitude": 21.1617854,
          "location": "Cancun, Mexico",
          "longitude": -86.8510468,
          "restaurant": "Mora Mora",
          "season": 26,
          "title": "Kickin' It in Cancun"
         },
         {
          "air_date": "2017-03-17",
          "episode": "6",
          "latitude": 21.1617854,
          "location": "Cancun, Mexico",
          "longitude": -86.8510468,
          "restaurant": "El Rincon de los Antojos",
          "season": 26,
          "title": "Kickin' It in Cancun"
         },
         {
          "air_date": "2017-03-24",
          "episode": "7",
          "latitude": 31.8160381,
          "location": "Spring, Texas",
          "longitude": -99.51209859999999,
          "restaurant": "Q-Shi",
          "season": 26,
          "title": "Not Your Typical Joints"
         },
         {
          "air_date": "2017-03-24",
          "episode": "7",
          "latitude": 35.2270869,
          "location": "Charlotte, North Carolina",
          "longitude": -80.8431268,
          "restaurant": "Fud at Salud",
          "season": 26,
          "title": "Not Your Typical Joints"
         },
         {
          "air_date": "2017-03-24",
          "episode": "7",
          "latitude": 21.1617854,
          "location": "Cancun, Mexico",
          "longitude": -86.8510468,
          "restaurant": "El Fish Fritanga",
          "season": 26,
          "title": "Not Your Typical Joints"
         },
         {
          "air_date": "2017-03-31",
          "episode": "8",
          "latitude": 21.1617854,
          "location": "Cancun, Mexico",
          "longitude": -86.8510468,
          "restaurant": "Pinchez Tacos",
          "season": 26,
          "title": "From North to South America"
         },
         {
          "air_date": "2017-03-31",
          "episode": "8",
          "latitude": 35.2270869,
          "location": "Charlotte, North Carolina",
          "longitude": -80.8431268,
          "restaurant": "Heist Brewery",
          "season": 26,
          "title": "From North to South America"
         },
         {
          "air_date": "2017-03-31",
          "episode": "8",
          "latitude": 29.7589382,
          "location": "Houston, Texas",
          "longitude": -95.36769740000001,
          "restaurant": "The Original Marini's Empanada House",
          "season": 26,
          "title": "From North to South America"
         },
         {
          "air_date": "2017-04-07",
          "episode": "9",
          "latitude": 29.7589382,
          "location": "Houston, Texas",
          "longitude": -95.36769740000001,
          "restaurant": "Cafe Lili",
          "season": 26,
          "title": "Goin' International"
         },
         {
          "air_date": "2017-04-07",
          "episode": "9",
          "latitude": 21.1617854,
          "location": "Cancun, Mexico",
          "longitude": -86.8510468,
          "restaurant": "The Surfin' Burrito",
          "season": 26,
          "title": "Goin' International"
         },
         {
          "air_date": "2017-04-07",
          "episode": "9",
          "latitude": 29.7589382,
          "location": "Houston, Texas",
          "longitude": -95.36769740000001,
          "restaurant": "Cool Runnings Jamaican Grill",
          "season": 26,
          "title": "Goin' International"
         },
         {
          "air_date": "2017-04-21",
          "episode": "10",
          "latitude": 28.5421109,
          "location": "Orlando, Florida",
          "longitude": -81.3790304,
          "restaurant": "The Meatball Stoppe",
          "season": 26,
          "title": "Wonder Women"
         },
         {
          "air_date": "2017-04-21",
          "episode": "10",
          "latitude": 28.5421109,
          "location": "Orlando, Florida",
          "longitude": -81.3790304,
          "restaurant": "Se7en Bites Bakeshop",
          "season": 26,
          "title": "Wonder Women"
         },
         {
          "air_date": "2017-04-21",
          "episode": "10",
          "latitude": 29.7589382,
          "location": "Houston, Texas",
          "longitude": -95.36769740000001,
          "restaurant": "Irma's Original",
          "season": 26,
          "title": "Wonder Women"
         },
         {
          "air_date": "2017-04-28",
          "episode": "11",
          "latitude": 28.5421109,
          "location": "Orlando, Florida",
          "longitude": -81.3790304,
          "restaurant": "Willie's Pinchos",
          "season": 26,
          "title": "Multicultural Cooking"
         },
         {
          "air_date": "2017-04-28",
          "episode": "11",
          "latitude": 28.5421109,
          "location": "Orlando, Florida",
          "longitude": -81.3790304,
          "restaurant": "The Pastrami Project",
          "season": 26,
          "title": "Multicultural Cooking"
         },
         {
          "air_date": "2017-04-28",
          "episode": "11",
          "latitude": 29.7589382,
          "location": "Houston, Texas",
          "longitude": -95.36769740000001,
          "restaurant": "Cuchara Restaurant",
          "season": 26,
          "title": "Multicultural Cooking"
         },
         {
          "air_date": "2017-05-12",
          "episode": "12",
          "latitude": 28.5421109,
          "location": "Orlando, Florida",
          "longitude": -81.3790304,
          "restaurant": "Mrs. Potato",
          "season": 26,
          "title": "Turkey, Taters and Dogs"
         },
         {
          "air_date": "2017-05-12",
          "episode": "12",
          "latitude": 28.5421109,
          "location": "Orlando, Florida",
          "longitude": -81.3790304,
          "restaurant": "Fat One's Hot Dogs and Italian Ice",
          "season": 26,
          "title": "Turkey, Taters and Dogs"
         },
         {
          "air_date": "2017-05-12",
          "episode": "12",
          "latitude": 33.8246269,
          "location": "Palm Springs, California",
          "longitude": -116.54030300000001,
          "restaurant": "Sherman's Deli & Bakery",
          "season": 26,
          "title": "Turkey, Taters and Dogs"
         },
         {
          "air_date": "2017-05-26",
          "episode": "13",
          "latitude": 33.4946353,
          "location": "Temecula, California",
          "longitude": -117.14736609999999,
          "restaurant": "HoBo's BBQ",
          "season": 26,
          "title": "Burgers, Beef and Barbecue"
         },
         {
          "air_date": "2017-05-26",
          "episode": "13",
          "latitude": 28.5421109,
          "location": "Orlando, Florida",
          "longitude": -81.3790304,
          "restaurant": "Saigon Noodle and Grill",
          "season": 26,
          "title": "Burgers, Beef and Barbecue"
         },
         {
          "air_date": "2017-05-26",
          "episode": "13",
          "latitude": 33.7288179,
          "location": "Palm Desert, California",
          "longitude": -116.38257109999999,
          "restaurant": "Grill-a-Burger",
          "season": 26,
          "title": "Burgers, Beef and Barbecue"
         },
         {
          "air_date": "2017-06-09",
          "episode": "14",
          "latitude": 20.873876899999996,
          "location": "Lahaina, Hawaii",
          "longitude": -156.6776784,
          "restaurant": "Fleetwood's on Front St.",
          "season": 26,
          "title": "Chicken Trifecta"
         },
         {
          "air_date": "2017-06-09",
          "episode": "14",
          "latitude": 20.8747708,
          "location": "Kahului, Hawaii",
          "longitude": -156.4529829390927,
          "restaurant": "Thai Mee Up",
          "season": 26,
          "title": "Chicken Trifecta"
         },
         {
          "air_date": "2017-06-09",
          "episode": "14",
          "latitude": 33.8246269,
          "location": "Palm Springs, California",
          "longitude": -116.54030300000001,
          "restaurant": "Frankinbun",
          "season": 26,
          "title": "Chicken Trifecta"
         },
         {
          "air_date": "2017-06-16",
          "episode": "15",
          "latitude": 33.822998049999995,
          "location": "Cathedral City, California",
          "longitude": -116.46687024271161,
          "restaurant": "Zobo & Meester's",
          "season": 26,
          "title": "From Spicy to Icy"
         },
         {
          "air_date": "2017-06-16",
          "episode": "15",
          "latitude": 20.873876899999996,
          "location": "Lahaina, Hawaii",
          "longitude": -156.6776784,
          "restaurant": "Down the Hatch Maui",
          "season": 26,
          "title": "From Spicy to Icy"
         },
         {
          "air_date": "2017-06-16",
          "episode": "15",
          "latitude": 36.846292299999995,
          "location": "Norfolk, Virginia",
          "longitude": -76.2929252,
          "restaurant": "The Dirty Buffalo",
          "season": 26,
          "title": "From Spicy to Icy"
         },
         {
          "air_date": "2017-06-30",
          "episode": "16",
          "latitude": 33.7288179,
          "location": "Palm Desert, California",
          "longitude": -116.38257109999999,
          "restaurant": "Wilma & Frieda",
          "season": 26,
          "title": "Island and Desert"
         },
         {
          "air_date": "2017-06-30",
          "episode": "16",
          "latitude": 36.8529841,
          "location": "Virginia Beach, Virginia",
          "longitude": -75.9774183,
          "restaurant": "Carib Shack",
          "season": 26,
          "title": "Island and Desert"
         },
         {
          "air_date": "2017-06-30",
          "episode": "16",
          "latitude": 20.7476261,
          "location": "Kihei, Hawaii",
          "longitude": -156.4549898,
          "restaurant": "Maui Brick Oven",
          "season": 26,
          "title": "Island and Desert"
         },
         {
          "air_date": "2017-07-07",
          "episode": "1",
          "latitude": 36.846292299999995,
          "location": "Norfolk, Virginia",
          "longitude": -76.2929252,
          "restaurant": "Alkaline",
          "season": 27,
          "title": "Sandwiches, Spaetzle and Sticky Wings"
         },
         {
          "air_date": "2017-07-07",
          "episode": "1",
          "latitude": 36.846292299999995,
          "location": "Norfolk, Virginia",
          "longitude": -76.2929252,
          "restaurant": "Pendulum Fine Meats",
          "season": 27,
          "title": "Sandwiches, Spaetzle and Sticky Wings"
         },
         {
          "air_date": "2017-07-07",
          "episode": "1",
          "latitude": 20.8747708,
          "location": "Kahului, Hawaii",
          "longitude": -156.4529829390927,
          "restaurant": "Brigit & Bernard's Garden Cafe",
          "season": 27,
          "title": "Sandwiches, Spaetzle and Sticky Wings"
         },
         {
          "air_date": "2017-07-14",
          "episode": "2",
          "latitude": 20.8747708,
          "location": "Kahului, Hawaii",
          "longitude": -156.4529829390927,
          "restaurant": "Maui Fresh Streatery",
          "season": 27,
          "title": "Flavor Adventure"
         },
         {
          "air_date": "2017-07-14",
          "episode": "2",
          "latitude": 34.0536909,
          "location": "Los Angeles, California",
          "longitude": -118.2427666,
          "restaurant": "ediBOL",
          "season": 27,
          "title": "Flavor Adventure"
         },
         {
          "air_date": "2017-07-14",
          "episode": "2",
          "latitude": 36.846292299999995,
          "location": "Norfolk, Virginia",
          "longitude": -76.2929252,
          "restaurant": "Jessy's Tienda y Taqueria",
          "season": 27,
          "title": "Flavor Adventure"
         },
         {
          "air_date": "2017-07-21",
          "episode": "3",
          "latitude": 20.7476261,
          "location": "Kihei, Hawaii",
          "longitude": -156.4549898,
          "restaurant": "Three's Bar and Grill",
          "season": 27,
          "title": "Barbecue, Batter and Beer Can Chicken"
         },
         {
          "air_date": "2017-07-21",
          "episode": "3",
          "latitude": 34.0250724,
          "location": "Santa Monica, California",
          "longitude": -118.4965129,
          "restaurant": "BatterFish",
          "season": 27,
          "title": "Barbecue, Batter and Beer Can Chicken"
         },
         {
          "air_date": "2017-07-21",
          "episode": "3",
          "latitude": 34.0536909,
          "location": "Los Angeles, California",
          "longitude": -118.2427666,
          "restaurant": "Horse Thief BBQ",
          "season": 27,
          "title": "Barbecue, Batter and Beer Can Chicken"
         },
         {
          "air_date": "2017-09-15",
          "episode": "4",
          "latitude": 34.0536909,
          "location": "Los Angeles, California",
          "longitude": -118.2427666,
          "restaurant": "La Tostaderia",
          "season": 27,
          "title": "Ocean Coasts and Great Lakes"
         },
         {
          "air_date": "2017-09-15",
          "episode": "4",
          "latitude": 36.846292299999995,
          "location": "Norfolk, Virginia",
          "longitude": -76.2929252,
          "restaurant": "The Grilled Cheese Bistro",
          "season": 27,
          "title": "Ocean Coasts and Great Lakes"
         },
         {
          "air_date": "2017-09-15",
          "episode": "4",
          "latitude": 42.73377120000001,
          "location": "Lansing, Michigan",
          "longitude": -84.5553805,
          "restaurant": "Meat Southern BBQ & Carnivore Cuisine",
          "season": 27,
          "title": "Ocean Coasts and Great Lakes"
         },
         {
          "air_date": "2017-09-22",
          "episode": "5",
          "latitude": 29.424600199999997,
          "location": "San Antonio, Texas",
          "longitude": -98.4951405,
          "restaurant": "La Panaderia",
          "season": 27,
          "title": "A Passport of Flavor"
         },
         {
          "air_date": "2017-09-22",
          "episode": "5",
          "latitude": 42.73377120000001,
          "location": "Lansing, Michigan",
          "longitude": -84.5553805,
          "restaurant": "Capital City BBQ",
          "season": 27,
          "title": "A Passport of Flavor"
         },
         {
          "air_date": "2017-09-22",
          "episode": "5",
          "latitude": 42.73377120000001,
          "location": "Lansing, Michigan",
          "longitude": -84.5553805,
          "restaurant": "Zaytoon Mediterranean",
          "season": 27,
          "title": "A Passport of Flavor"
         },
         {
          "air_date": "2017-10-06",
          "episode": "6",
          "latitude": 35.19875220000001,
          "location": "Flagstaff, Arizona",
          "longitude": -111.6518229,
          "restaurant": "Fat Olives",
          "season": 27,
          "title": "Old Faces, New Places"
         },
         {
          "air_date": "2017-10-06",
          "episode": "6",
          "latitude": 30.507956,
          "location": "Fairhope, Alabama",
          "longitude": -87.89742922432941,
          "restaurant": "Sunset Pointe",
          "season": 27,
          "title": "Old Faces, New Places"
         },
         {
          "air_date": "2017-10-06",
          "episode": "6",
          "latitude": 25.7742658,
          "location": "Miami, Florida",
          "longitude": -80.1936589,
          "restaurant": "Blackbrick",
          "season": 27,
          "title": "Old Faces, New Places"
         },
         {
          "air_date": "2017-10-13",
          "episode": "7",
          "latitude": 27.770379600000002,
          "location": "St. Petersburg, Florida",
          "longitude": -82.66950849999999,
          "restaurant": "Buya Ramen",
          "season": 27,
          "title": "From Pied to Fried"
         },
         {
          "air_date": "2017-10-13",
          "episode": "7",
          "latitude": 42.73377120000001,
          "location": "Lansing, Michigan",
          "longitude": -84.5553805,
          "restaurant": "Eastside Fish Fry & Grill",
          "season": 27,
          "title": "From Pied to Fried"
         },
         {
          "air_date": "2017-10-13",
          "episode": "7",
          "latitude": 29.949932300000004,
          "location": "New Orleans, Louisiana",
          "longitude": -90.0701156,
          "restaurant": "Bourrée",
          "season": 27,
          "title": "From Pied to Fried"
         },
         {
          "air_date": "2017-11-10",
          "episode": "8",
          "latitude": 40.1672117,
          "location": "Longmont, Colorado",
          "longitude": -105.1019287,
          "restaurant": "The Roost",
          "season": 27,
          "title": "Sammies and Spice"
         },
         {
          "air_date": "2017-11-10",
          "episode": "8",
          "latitude": 39.9622601,
          "location": "Columbus, Ohio",
          "longitude": -83.00070649999999,
          "restaurant": "Loops",
          "season": 27,
          "title": "Sammies and Spice"
         },
         {
          "air_date": "2017-11-10",
          "episode": "8",
          "latitude": 34.0536909,
          "location": "Los Angeles, California",
          "longitude": -118.2427666,
          "restaurant": "Jitlada Restaurant",
          "season": 27,
          "title": "Sammies and Spice"
         },
         {
          "air_date": "2017-11-17",
          "episode": "9",
          "latitude": 39.9622601,
          "location": "Columbus, Ohio",
          "longitude": -83.00070649999999,
          "restaurant": "Pierogi Mountain",
          "season": 27,
          "title": "College-Town Champs"
         },
         {
          "air_date": "2017-11-17",
          "episode": "9",
          "latitude": 39.9622601,
          "location": "Columbus, Ohio",
          "longitude": -83.00070649999999,
          "restaurant": "Ray Ray's Hog Pit",
          "season": 27,
          "title": "College-Town Champs"
         },
         {
          "air_date": "2017-11-17",
          "episode": "9",
          "latitude": 40.0149856,
          "location": "Boulder, Colorado",
          "longitude": -105.2705456,
          "restaurant": "Aloy Thai Cuisine",
          "season": 27,
          "title": "College-Town Champs"
         },
         {
          "air_date": "2017-12-15",
          "episode": "10",
          "latitude": 33.995044,
          "location": "Venice, California",
          "longitude": -118.4668875,
          "restaurant": "Nighthawk Breakfast Bar",
          "season": 27,
          "title": "Breakfast, Brisket and Belly"
         },
         {
          "air_date": "2017-12-15",
          "episode": "10",
          "latitude": 39.9622601,
          "location": "Columbus, Ohio",
          "longitude": -83.00070649999999,
          "restaurant": "Sweet Carrot",
          "season": 27,
          "title": "Breakfast, Brisket and Belly"
         },
         {
          "air_date": "2017-12-15",
          "episode": "10",
          "latitude": 33.4942189,
          "location": "Scottsdale, Arizona",
          "longitude": -111.92601840000002,
          "restaurant": "Bootleggers Modern America Smokehouse",
          "season": 27,
          "title": "Breakfast, Brisket and Belly"
         },
         {
          "air_date": "2018-01-05",
          "episode": "11",
          "latitude": 40.1672117,
          "location": "Longmont, Colorado",
          "longitude": -105.1019287,
          "restaurant": "Samples Restaurant",
          "season": 27,
          "title": "Poutine, Pizza and Pork"
         },
         {
          "air_date": "2018-01-05",
          "episode": "11",
          "latitude": 32.7762719,
          "location": "Dallas, Texas",
          "longitude": -96.7968559,
          "restaurant": "Tutta's Pizza",
          "season": 27,
          "title": "Poutine, Pizza and Pork"
         },
         {
          "air_date": "2018-01-05",
          "episode": "11",
          "latitude": 33.4942189,
          "location": "Scottsdale, Arizona",
          "longitude": -111.92601840000002,
          "restaurant": "Slanted Rice Vietnamese Bistro",
          "season": 27,
          "title": "Poutine, Pizza and Pork"
         },
         {
          "air_date": "2017-12-22",
          "episode": "1",
          "latitude": 40.0149856,
          "location": "Boulder, Colorado",
          "longitude": -105.2705456,
          "restaurant": "Zoe Ma Ma",
          "season": 28,
          "title": "Mom's Kitchen"
         },
         {
          "air_date": "2017-12-22",
          "episode": "1",
          "latitude": 39.9622601,
          "location": "Columbus, Ohio",
          "longitude": -83.00070649999999,
          "restaurant": "Ena's Caribbean Kitchen",
          "season": 28,
          "title": "Mom's Kitchen"
         },
         {
          "air_date": "2017-12-22",
          "episode": "1",
          "latitude": 33.4151117,
          "location": "Mesa, Arizona",
          "longitude": -111.8314773,
          "restaurant": "Republica Empanada",
          "season": 28,
          "title": "Mom's Kitchen"
         },
         {
          "air_date": "2018-01-19",
          "episode": "2",
          "latitude": 39.9622601,
          "location": "Columbus, Ohio",
          "longitude": -83.00070649999999,
          "restaurant": "Momo Ghar",
          "season": 28,
          "title": "Delicious Discoveries"
         },
         {
          "air_date": "2018-01-19",
          "episode": "2",
          "latitude": 32.7762719,
          "location": "Dallas, Texas",
          "longitude": -96.7968559,
          "restaurant": "Tacos Mariachi",
          "season": 28,
          "title": "Delicious Discoveries"
         },
         {
          "air_date": "2018-01-19",
          "episode": "2",
          "latitude": 32.7762719,
          "location": "Dallas, Texas",
          "longitude": -96.7968559,
          "restaurant": "Nora Restaurant and Bar",
          "season": 28,
          "title": "Delicious Discoveries"
         },
         {
          "air_date": "2018-02-02",
          "episode": "3",
          "latitude": 40.1672117,
          "location": "Longmont, Colorado",
          "longitude": -105.1019287,
          "restaurant": "The Post Brewing Company",
          "season": 28,
          "title": "Bird and Beef"
         },
         {
          "air_date": "2018-02-02",
          "episode": "3",
          "latitude": 32.7762719,
          "location": "Dallas, Texas",
          "longitude": -96.7968559,
          "restaurant": "One90 Smoked Meats",
          "season": 28,
          "title": "Bird and Beef"
         },
         {
          "air_date": "2018-02-02",
          "episode": "3",
          "latitude": 33.448436699999995,
          "location": "Phoenix, Arizona",
          "longitude": -112.07414170000001,
          "restaurant": "Tacos Chiwas",
          "season": 28,
          "title": "Bird and Beef"
         },
         {
          "air_date": "2018-02-18",
          "episode": "4",
          "latitude": 33.3527632,
          "location": "Gilbert, Arizona",
          "longitude": -111.78903729999999,
          "restaurant": "Grubstak",
          "season": 28,
          "title": "All Kinds of Comfort"
         },
         {
          "air_date": "2018-02-18",
          "episode": "4",
          "latitude": 40.0149856,
          "location": "Boulder, Colorado",
          "longitude": -105.2705456,
          "restaurant": "Audrey Jane's Pizza Garage",
          "season": 28,
          "title": "All Kinds of Comfort"
         },
         {
          "air_date": "2018-02-18",
          "episode": "4",
          "latitude": 32.7762719,
          "location": "Dallas, Texas",
          "longitude": -96.7968559,
          "restaurant": "Whistle Britches",
          "season": 28,
          "title": "All Kinds of Comfort"
         },
         {
          "air_date": "2018-03-02",
          "episode": "5",
          "latitude": 33.4151117,
          "location": "Mesa, Arizona",
          "longitude": -111.8314773,
          "restaurant": "Aloha Kitchen",
          "season": 28,
          "title": "Rollin' in the Dough"
         },
         {
          "air_date": "2018-03-02",
          "episode": "5",
          "latitude": 32.2228765,
          "location": "Tucson, Arizona",
          "longitude": -110.9748477,
          "restaurant": "Renee's Organic Oven",
          "season": 28,
          "title": "Rollin' in the Dough"
         },
         {
          "air_date": "2018-03-02",
          "episode": "5",
          "latitude": 25.7742658,
          "location": "Miami, Florida",
          "longitude": -80.1936589,
          "restaurant": "Mojo Donuts and Fried Chicken",
          "season": 28,
          "title": "Rollin' in the Dough"
         },
         {
          "air_date": "2018-03-09",
          "episode": "6",
          "latitude": 32.7762719,
          "location": "Dallas, Texas",
          "longitude": -96.7968559,
          "restaurant": "CrushCraft Thai Street Eats",
          "season": 28,
          "title": "International Intrigue"
         },
         {
          "air_date": "2018-03-09",
          "episode": "6",
          "latitude": 25.7742658,
          "location": "Miami, Florida",
          "longitude": -80.1936589,
          "restaurant": "Milly's Empanada Factory",
          "season": 28,
          "title": "International Intrigue"
         },
         {
          "air_date": "2018-03-09",
          "episode": "6",
          "latitude": 32.2228765,
          "location": "Tucson, Arizona",
          "longitude": -110.9748477,
          "restaurant": "Zeman's",
          "season": 28,
          "title": "International Intrigue"
         },
         {
          "air_date": "2018-03-30",
          "episode": "7",
          "latitude": 25.7742658,
          "location": "Miami, Florida",
          "longitude": -80.1936589,
          "restaurant": "Mr. & Mrs. Bun",
          "season": 28,
          "title": "Lights-Out Latin"
         },
         {
          "air_date": "2018-03-30",
          "episode": "7",
          "latitude": 34.2257282,
          "location": "Wilmington, North Carolina",
          "longitude": -77.9447107,
          "restaurant": "Ceviche's",
          "season": 28,
          "title": "Lights-Out Latin"
         },
         {
          "air_date": "2018-03-30",
          "episode": "7",
          "latitude": 32.2228765,
          "location": "Tucson, Arizona",
          "longitude": -110.9748477,
          "restaurant": "Cafe Tumerico",
          "season": 28,
          "title": "Lights-Out Latin"
         },
         {
          "air_date": "2018-04-06",
          "episode": "8",
          "latitude": 42.73377120000001,
          "location": "Lansing, Michigan",
          "longitude": -84.5553805,
          "restaurant": "The Cosmos",
          "season": 28,
          "title": "Pizza, Pork and Peru"
         },
         {
          "air_date": "2018-04-06",
          "episode": "8",
          "latitude": 34.2257282,
          "location": "Wilmington, North Carolina",
          "longitude": -77.9447107,
          "restaurant": "Copper Penny",
          "season": 28,
          "title": "Pizza, Pork and Peru"
         },
         {
          "air_date": "2018-04-06",
          "episode": "8",
          "latitude": 32.2228765,
          "location": "Tucson, Arizona",
          "longitude": -110.9748477,
          "restaurant": "Inca's Peruvian Cuisine",
          "season": 28,
          "title": "Pizza, Pork and Peru"
         },
         {
          "air_date": "2018-04-27",
          "episode": "9",
          "latitude": 34.2257282,
          "location": "Wilmington, North Carolina",
          "longitude": -77.9447107,
          "restaurant": "Something Fishy Seafood Restaurant",
          "season": 28,
          "title": "Seafood and Savory"
         },
         {
          "air_date": "2018-04-27",
          "episode": "9",
          "latitude": 42.7220755,
          "location": "Okemos, Michigan",
          "longitude": -84.42752320000001,
          "restaurant": "The Purple Carrot",
          "season": 28,
          "title": "Seafood and Savory"
         },
         {
          "air_date": "2018-04-27",
          "episode": "9",
          "latitude": 32.2228765,
          "location": "Tucson, Arizona",
          "longitude": -110.9748477,
          "restaurant": "Chef Alisah's Restaurant",
          "season": 28,
          "title": "Seafood and Savory"
         },
         {
          "air_date": "2018-05-04",
          "episode": "10",
          "latitude": 25.7742658,
          "location": "Miami, Florida",
          "longitude": -80.1936589,
          "restaurant": "Doce Provisions",
          "season": 28,
          "title": "Grab and Grub"
         },
         {
          "air_date": "2018-05-04",
          "episode": "10",
          "latitude": 32.2228765,
          "location": "Tucson, Arizona",
          "longitude": -110.9748477,
          "restaurant": "Rocco's Little Chicago",
          "season": 28,
          "title": "Grab and Grub"
         },
         {
          "air_date": "2018-05-04",
          "episode": "10",
          "latitude": 34.2257282,
          "location": "Wilmington, North Carolina",
          "longitude": -77.9447107,
          "restaurant": "Fork-n-Cork",
          "season": 28,
          "title": "Grab and Grub"
         },
         {
          "air_date": "2018-05-25",
          "episode": "11",
          "latitude": 47.6038321,
          "location": "Seattle, Washington",
          "longitude": -122.3300624,
          "restaurant": "Wood Shop BBQ",
          "season": 28,
          "title": "BBQ Bites and Southern Flavor"
         },
         {
          "air_date": "2018-05-25",
          "episode": "11",
          "latitude": 34.2257282,
          "location": "Wilmington, North Carolina",
          "longitude": -77.9447107,
          "restaurant": "Cast Iron Kitchen",
          "season": 28,
          "title": "BBQ Bites and Southern Flavor"
         },
         {
          "air_date": "2018-05-25",
          "episode": "11",
          "latitude": 37.804455700000005,
          "location": "Oakland, California",
          "longitude": -122.27135630000001,
          "restaurant": "Southern Cafe",
          "season": 28,
          "title": "BBQ Bites and Southern Flavor"
         },
         {
          "air_date": "2018-06-08",
          "episode": "12",
          "latitude": 37.44432929999999,
          "location": "Palo Alto, California",
          "longitude": -122.15984650000001,
          "restaurant": "Calafia Cafe",
          "season": 28,
          "title": "East Coast, West Coast"
         },
         {
          "air_date": "2018-06-08",
          "episode": "12",
          "latitude": 34.2257282,
          "location": "Wilmington, North Carolina",
          "longitude": -77.9447107,
          "restaurant": "Sweet n Savory Cafe",
          "season": 28,
          "title": "East Coast, West Coast"
         },
         {
          "air_date": "2018-06-08",
          "episode": "12",
          "latitude": 37.804455700000005,
          "location": "Oakland, California",
          "longitude": -122.27135630000001,
          "restaurant": "W.E.P.A.! at Brix 581",
          "season": 28,
          "title": "East Coast, West Coast"
         },
         {
          "air_date": "2018-06-29",
          "episode": "13",
          "latitude": 19.641941,
          "location": "Kailua-Kona, Hawaii",
          "longitude": -155.996933,
          "restaurant": "Umekes Fishmarket Bar & Grill",
          "season": 28,
          "title": "Italian, Hawaiian and Colombian"
         },
         {
          "air_date": "2018-06-29",
          "episode": "13",
          "latitude": 37.504936,
          "location": "San Carlos, California",
          "longitude": -122.2618236,
          "restaurant": "Pazzo",
          "season": 28,
          "title": "Italian, Hawaiian and Colombian"
         },
         {
          "air_date": "2018-06-29",
          "episode": "13",
          "latitude": 25.7742658,
          "location": "Miami, Florida",
          "longitude": -80.1936589,
          "restaurant": "LOBA Restaurant",
          "season": 28,
          "title": "Italian, Hawaiian and Colombian"
         },
         {
          "air_date": "2018-07-06",
          "episode": "14",
          "latitude": 37.6090291,
          "location": "Alameda, California",
          "longitude": -121.899142,
          "restaurant": "Scolari's Good Eats",
          "season": 28,
          "title": "Playin' Chicken"
         },
         {
          "air_date": "2018-07-06",
          "episode": "14",
          "latitude": 47.6038321,
          "location": "Seattle, Washington",
          "longitude": -122.3300624,
          "restaurant": "Pizzeria Credo",
          "season": 28,
          "title": "Playin' Chicken"
         },
         {
          "air_date": "2018-07-06",
          "episode": "14",
          "latitude": 19.641941,
          "location": "Kailua-Kona, Hawaii",
          "longitude": -155.996933,
          "restaurant": "Foster's Kitchen",
          "season": 28,
          "title": "Playin' Chicken"
         },
         {
          "air_date": "2018-07-27",
          "episode": "15",
          "latitude": 47.6038321,
          "location": "Seattle, Washington",
          "longitude": -122.3300624,
          "restaurant": "The Red Door",
          "season": 28,
          "title": "On the Hook and In the Bun"
         },
         {
          "air_date": "2018-07-27",
          "episode": "15",
          "latitude": 19.517727999999998,
          "location": "Kealakekua, Hawaii",
          "longitude": -155.921402,
          "restaurant": "Rebel Kitchen",
          "season": 28,
          "title": "On the Hook and In the Bun"
         },
         {
          "air_date": "2018-07-27",
          "episode": "15",
          "latitude": 37.779026200000004,
          "location": "San Francisco, California",
          "longitude": -122.4199061,
          "restaurant": "Grand Harbor",
          "season": 28,
          "title": "On the Hook and In the Bun"
         },
         {
          "air_date": "2018-08-03",
          "episode": "16",
          "latitude": 41.875561600000005,
          "location": "Chicago, Illinois",
          "longitude": -87.6244212,
          "restaurant": "Saucy Porka",
          "season": 28,
          "title": "Fusion of Flavors"
         },
         {
          "air_date": "2018-08-03",
          "episode": "16",
          "latitude": 47.6038321,
          "location": "Seattle, Washington",
          "longitude": -122.3300624,
          "restaurant": "Sisters and Brothers Bar",
          "season": 28,
          "title": "Fusion of Flavors"
         },
         {
          "air_date": "2018-08-03",
          "episode": "16",
          "latitude": 19.641941,
          "location": "Kailua-Kona, Hawaii",
          "longitude": -155.996933,
          "restaurant": "Island Lava Java",
          "season": 28,
          "title": "Fusion of Flavors"
         },
         {
          "air_date": "2018-08-10",
          "episode": "17",
          "latitude": 47.6038321,
          "location": "Seattle, Washington",
          "longitude": -122.3300624,
          "restaurant": "Piroshki on 3rd",
          "season": 28,
          "title": "Tasty Traditions"
         },
         {
          "air_date": "2018-08-10",
          "episode": "17",
          "latitude": 19.641941,
          "location": "Kailua-Kona, Hawaii",
          "longitude": -155.996933,
          "restaurant": "Kanaka Kava",
          "season": 28,
          "title": "Tasty Traditions"
         },
         {
          "air_date": "2018-08-10",
          "episode": "17",
          "latitude": 41.875561600000005,
          "location": "Chicago, Illinois",
          "longitude": -87.6244212,
          "restaurant": "Manny's Cafeteria and Delicatessen",
          "season": 28,
          "title": "Tasty Traditions"
         },
         {
          "air_date": "2018-08-31",
          "episode": "18",
          "latitude": 41.875561600000005,
          "location": "Chicago, Illinois",
          "longitude": -87.6244212,
          "restaurant": "Del Seoul",
          "season": 28,
          "title": "Far East Flavorfest"
         },
         {
          "air_date": "2018-08-31",
          "episode": "18",
          "latitude": 19.641941,
          "location": "Kailua-Kona, Hawaii",
          "longitude": -155.996933,
          "restaurant": "Original Thai",
          "season": 28,
          "title": "Far East Flavorfest"
         },
         {
          "air_date": "2018-08-31",
          "episode": "18",
          "latitude": 47.6038321,
          "location": "Seattle, Washington",
          "longitude": -122.3300624,
          "restaurant": "Bok A Bok Fried Chicken & Biscuits",
          "season": 28,
          "title": "Far East Flavorfest"
         },
         {
          "air_date": "2018-09-07",
          "episode": "19",
          "latitude": 19.641941,
          "location": "Kailua-Kona, Hawaii",
          "longitude": -155.996933,
          "restaurant": "Broke Da Mouth Grindz",
          "season": 28,
          "title": "Culinary Journey"
         },
         {
          "air_date": "2018-09-07",
          "episode": "19",
          "latitude": 41.875561600000005,
          "location": "Chicago, Illinois",
          "longitude": -87.6244212,
          "restaurant": "MFK",
          "season": 28,
          "title": "Culinary Journey"
         },
         {
          "air_date": "2018-09-07",
          "episode": "19",
          "latitude": 42.1972487,
          "location": "Ashland, Oregon",
          "longitude": -122.71539950000002,
          "restaurant": "Blue Toba",
          "season": 28,
          "title": "Culinary Journey"
         },
         {
          "air_date": "2018-09-21",
          "episode": "1",
          "latitude": 47.6579425,
          "location": "Spokane, Washington",
          "longitude": -117.42122649999999,
          "restaurant": "Ruins",
          "season": 29,
          "title": "From Pork to Pasta"
         },
         {
          "air_date": "2018-09-21",
          "episode": "1",
          "latitude": 41.875561600000005,
          "location": "Chicago, Illinois",
          "longitude": -87.6244212,
          "restaurant": "Bella Luna Cafe",
          "season": 29,
          "title": "From Pork to Pasta"
         },
         {
          "air_date": "2018-09-21",
          "episode": "1",
          "latitude": 41.875561600000005,
          "location": "Chicago, Illinois",
          "longitude": -87.6244212,
          "restaurant": "Sun Wah BBQ",
          "season": 29,
          "title": "From Pork to Pasta"
         },
         {
          "air_date": "2018-09-28",
          "episode": "2",
          "latitude": 45.679429299999995,
          "location": "Bozeman, Montana",
          "longitude": -111.04404740000001,
          "restaurant": "Roost Fried Chicken",
          "season": 29,
          "title": "Sandwiches, Southern and South of the Boarder"
         },
         {
          "air_date": "2018-09-28",
          "episode": "2",
          "latitude": 47.6579425,
          "location": "Spokane, Washington",
          "longitude": -117.42122649999999,
          "restaurant": "Nordic Smoke BBQ",
          "season": 29,
          "title": "Sandwiches, Southern and South of the Boarder"
         },
         {
          "air_date": "2018-09-28",
          "episode": "2",
          "latitude": 42.1972487,
          "location": "Ashland, Oregon",
          "longitude": -122.71539950000002,
          "restaurant": "Agave",
          "season": 29,
          "title": "Sandwiches, Southern and South of the Boarder"
         },
         {
          "air_date": "2018-10-19",
          "episode": "3",
          "latitude": 45.679429299999995,
          "location": "Bozeman, Montana",
          "longitude": -111.04404740000001,
          "restaurant": "Storm Castle Cafe",
          "season": 29,
          "title": "Pretzels, Pork and Paella"
         },
         {
          "air_date": "2018-10-19",
          "episode": "3",
          "latitude": 34.7464809,
          "location": "Little Rock, Arkansas",
          "longitude": -92.2895948,
          "restaurant": "La Terraza Rum Longe",
          "season": 29,
          "title": "Pretzels, Pork and Paella"
         },
         {
          "air_date": "2018-10-19",
          "episode": "3",
          "latitude": 34.769535999999995,
          "location": "North Little Rock, Arkansas",
          "longitude": -92.2670941,
          "restaurant": "Flyway Brewing",
          "season": 29,
          "title": "Pretzels, Pork and Paella"
         },
         {
          "air_date": "2018-10-26",
          "episode": "4",
          "latitude": 38.4404925,
          "location": "Santa Rosa, California",
          "longitude": -122.71410490000001,
          "restaurant": "Zoftig Eatery",
          "season": 29,
          "title": "From Big Burgers to Little Italy"
         },
         {
          "air_date": "2018-10-26",
          "episode": "4",
          "latitude": 34.7464809,
          "location": "Little Rock, Arkansas",
          "longitude": -92.2895948,
          "restaurant": "Bruno's Little Italy",
          "season": 29,
          "title": "From Big Burgers to Little Italy"
         },
         {
          "air_date": "2018-10-26",
          "episode": "4",
          "latitude": 34.7464809,
          "location": "Little Rock, Arkansas",
          "longitude": -92.2895948,
          "restaurant": "North Bar",
          "season": 29,
          "title": "From Big Burgers to Little Italy"
         },
         {
          "air_date": "2018-11-09",
          "episode": "5",
          "latitude": 34.7464809,
          "location": "Little Rock, Arkansas",
          "longitude": -92.2895948,
          "restaurant": "The Fold: Botanas & Bar",
          "season": 29,
          "title": "Meaty Mashup"
         },
         {
          "air_date": "2018-11-09",
          "episode": "5",
          "latitude": 38.4404925,
          "location": "Santa Rosa, California",
          "longitude": -122.71410490000001,
          "restaurant": "Simply Vietnam Express",
          "season": 29,
          "title": "Meaty Mashup"
         },
         {
          "air_date": "2018-11-09",
          "episode": "5",
          "latitude": 38.511080299999996,
          "location": "Sonoma, California",
          "longitude": -122.8473388,
          "restaurant": "Cochon Volant BBQ",
          "season": 29,
          "title": "Meaty Mashup"
         },
         {
          "air_date": "2018-11-23",
          "episode": "6",
          "latitude": 34.7464809,
          "location": "Little Rock, Arkansas",
          "longitude": -92.2895948,
          "restaurant": "The Root Cafe",
          "season": 29,
          "title": "Burgers, Bacon and BBQ"
         },
         {
          "air_date": "2018-11-23",
          "episode": "6",
          "latitude": 38.2971367,
          "location": "Napa, California",
          "longitude": -122.28552930000001,
          "restaurant": "Eight Noodle Shop",
          "season": 29,
          "title": "Burgers, Bacon and BBQ"
         },
         {
          "air_date": "2018-11-23",
          "episode": "6",
          "latitude": 29.424600199999997,
          "location": "San Antonio, Texas",
          "longitude": -98.4951405,
          "restaurant": "Smoke Shack",
          "season": 29,
          "title": "Burgers, Bacon and BBQ"
         },
         {
          "air_date": "2018-11-30",
          "episode": "7",
          "latitude": 29.424600199999997,
          "location": "San Antonio, Texas",
          "longitude": -98.4951405,
          "restaurant": "Wrigleyville",
          "season": 29,
          "title": "From Sandwiches to Stroganoff"
         },
         {
          "air_date": "2018-11-30",
          "episode": "7",
          "latitude": 29.424600199999997,
          "location": "San Antonio, Texas",
          "longitude": -98.4951405,
          "restaurant": "Fat Tummy",
          "season": 29,
          "title": "From Sandwiches to Stroganoff"
         },
         {
          "air_date": "2018-11-30",
          "episode": "7",
          "latitude": 38.3845125,
          "location": "Sebastopol, California",
          "longitude": -122.83325015837441,
          "restaurant": "Zazu Kitchen + Farm",
          "season": 29,
          "title": "From Sandwiches to Stroganoff"
         },
         {
          "air_date": "2018-12-14",
          "episode": "8",
          "latitude": 29.424600199999997,
          "location": "San Antonio, Texas",
          "longitude": -98.4951405,
          "restaurant": "Dignowity Meats",
          "season": 29,
          "title": "Regional Recipes"
         },
         {
          "air_date": "2018-12-14",
          "episode": "8",
          "latitude": 29.424600199999997,
          "location": "San Antonio, Texas",
          "longitude": -98.4951405,
          "restaurant": "Ma Harper's Creole Kitchen",
          "season": 29,
          "title": "Regional Recipes"
         },
         {
          "air_date": "2018-12-14",
          "episode": "8",
          "latitude": 38.4404925,
          "location": "Santa Rosa, California",
          "longitude": -122.71410490000001,
          "restaurant": "Taqueria Molcajetes",
          "season": 29,
          "title": "Regional Recipes"
         },
         {
          "air_date": null,
          "episode": "9",
          "latitude": 40.759619799999996,
          "location": "Salt Lake City, Utah",
          "longitude": -111.88679750000001,
          "restaurant": "Finn's Cafe",
          "season": 29,
          "title": "Cultural Twist"
         },
         {
          "air_date": null,
          "episode": "9",
          "latitude": 29.949932300000004,
          "location": "New Orleans, Louisiana",
          "longitude": -90.0701156,
          "restaurant": "Red's Chinese",
          "season": 29,
          "title": "Cultural Twist"
         },
         {
          "air_date": null,
          "episode": "9",
          "latitude": 40.696628999999994,
          "location": "West Valley City, Utah",
          "longitude": -111.9867271,
          "restaurant": "Curry Pizza",
          "season": 29,
          "title": "Cultural Twist"
         },
         {
          "air_date": null,
          "episode": "10",
          "latitude": 40.759619799999996,
          "location": "Salt Lake City, Utah",
          "longitude": -111.88679750000001,
          "restaurant": "Hruska's Kolaches",
          "season": 29,
          "title": "Handy Helpings"
         },
         {
          "air_date": null,
          "episode": "10",
          "latitude": 40.759619799999996,
          "location": "Salt Lake City, Utah",
          "longitude": -111.88679750000001,
          "restaurant": "Proper Burger Company",
          "season": 29,
          "title": "Handy Helpings"
         },
         {
          "air_date": null,
          "episode": "10",
          "latitude": 33.749098700000005,
          "location": "Atlanta, Georgia",
          "longitude": -84.39018490000001,
          "restaurant": "Rreal Tacos",
          "season": 29,
          "title": "Handy Helpings"
         },
         {
          "air_date": "2019-02-08",
          "episode": "11",
          "latitude": 33.883887,
          "location": "Smyrna, Georgia",
          "longitude": -84.51474540000001,
          "restaurant": "Yakitori Jinbei",
          "season": 29,
          "title": "'Round the World Roundup"
         },
         {
          "air_date": "2019-02-08",
          "episode": "11",
          "latitude": 30.2711286,
          "location": "Austin, Texas",
          "longitude": -97.7436995,
          "restaurant": "OneTaco",
          "season": 29,
          "title": "'Round the World Roundup"
         },
         {
          "air_date": "2019-02-08",
          "episode": "11",
          "latitude": 40.759619799999996,
          "location": "Salt Lake City, Utah",
          "longitude": -111.88679750000001,
          "restaurant": "Laziz Kitchen",
          "season": 29,
          "title": "'Round the World Roundup"
         },
         {
          "air_date": "2019-02-15",
          "episode": "12",
          "latitude": 33.749098700000005,
          "location": "Atlanta, Georgia",
          "longitude": -84.39018490000001,
          "restaurant": "Twisted Soul Cookhouse & Pours",
          "season": 29,
          "title": "Whole Lotta Comfort"
         },
         {
          "air_date": "2019-02-15",
          "episode": "12",
          "latitude": 40.759619799999996,
          "location": "Salt Lake City, Utah",
          "longitude": -111.88679750000001,
          "restaurant": "Purgatory",
          "season": 29,
          "title": "Whole Lotta Comfort"
         },
         {
          "air_date": "2019-02-15",
          "episode": "12",
          "latitude": 30.2711286,
          "location": "Austin, Texas",
          "longitude": -97.7436995,
          "restaurant": "Valentina's",
          "season": 29,
          "title": "Whole Lotta Comfort"
         },
         {
          "air_date": "2019-03-01",
          "episode": "13",
          "latitude": 29.949932300000004,
          "location": "New Orleans, Louisiana",
          "longitude": -90.0701156,
          "restaurant": "Piece of Meat",
          "season": 29,
          "title": "Eating Up New Orleans"
         },
         {
          "air_date": "2019-03-01",
          "episode": "13",
          "latitude": 29.949932300000004,
          "location": "New Orleans, Louisiana",
          "longitude": -90.0701156,
          "restaurant": "Seither's Seafood",
          "season": 29,
          "title": "Eating Up New Orleans"
         },
         {
          "air_date": "2019-03-01",
          "episode": "13",
          "latitude": 29.949932300000004,
          "location": "New Orleans, Louisiana",
          "longitude": -90.0701156,
          "restaurant": "Avery's on Tulane",
          "season": 29,
          "title": "Eating Up New Orleans"
         },
         {
          "air_date": "2019-02-22",
          "episode": "14",
          "latitude": 30.2711286,
          "location": "Austin, Texas",
          "longitude": -97.7436995,
          "restaurant": "Holy Roller",
          "season": 29,
          "title": "Sandwich Showcase"
         },
         {
          "air_date": "2019-02-22",
          "episode": "14",
          "latitude": 30.2711286,
          "location": "Austin, Texas",
          "longitude": -97.7436995,
          "restaurant": "SLAB BBQ & Beer",
          "season": 29,
          "title": "Sandwich Showcase"
         },
         {
          "air_date": "2019-02-22",
          "episode": "14",
          "latitude": 46.2306739,
          "location": "Pasco, Washington",
          "longitude": -119.09210060000001,
          "restaurant": "Vinny's Bakery",
          "season": 29,
          "title": "Sandwich Showcase"
         },
         {
          "air_date": "2019-03-08",
          "episode": "15",
          "latitude": 33.749098700000005,
          "location": "Atlanta, Georgia",
          "longitude": -84.39018490000001,
          "restaurant": "Greens & Gravy",
          "season": 29,
          "title": "Southern to South American"
         },
         {
          "air_date": "2019-03-08",
          "episode": "15",
          "latitude": 30.2711286,
          "location": "Austin, Texas",
          "longitude": -97.7436995,
          "restaurant": "Boteco",
          "season": 29,
          "title": "Southern to South American"
         },
         {
          "air_date": "2019-03-08",
          "episode": "15",
          "latitude": 46.28042979999999,
          "location": "Richland, Washington",
          "longitude": -119.2752055,
          "restaurant": "Porter's Real Barbecue",
          "season": 29,
          "title": "Southern to South American"
         },
         {
          "air_date": "2019-03-29",
          "episode": "16",
          "latitude": 33.749098700000005,
          "location": "Atlanta, Georgia",
          "longitude": -84.39018490000001,
          "restaurant": "Hankook Taqueria",
          "season": 29,
          "title": "Mega Meat and Sweet Treats"
         },
         {
          "air_date": "2019-03-29",
          "episode": "16",
          "latitude": 30.2711286,
          "location": "Austin, Texas",
          "longitude": -97.7436995,
          "restaurant": "Pieous",
          "season": 29,
          "title": "Mega Meat and Sweet Treats"
         },
         {
          "air_date": "2019-03-29",
          "episode": "16",
          "latitude": 46.28042979999999,
          "location": "Richland, Washington",
          "longitude": -119.2752055,
          "restaurant": "The Folded Pizza Pie",
          "season": 29,
          "title": "Mega Meat and Sweet Treats"
         },
         {
          "air_date": null,
          "episode": "17",
          "latitude": 46.2087066,
          "location": "Kennewick, Washington",
          "longitude": -119.1199192,
          "restaurant": "Barley's Brewhub",
          "season": 29,
          "title": "Belly, Beef and Bratwurst"
         },
         {
          "air_date": null,
          "episode": "17",
          "latitude": 49.2608724,
          "location": "Vancouver, British Columbia",
          "longitude": -123.11395290000002,
          "restaurant": "Fable Diner",
          "season": 29,
          "title": "Belly, Beef and Bratwurst"
         },
         {
          "air_date": null,
          "episode": "17",
          "latitude": 33.749098700000005,
          "location": "Atlanta, Georgia",
          "longitude": -84.39018490000001,
          "restaurant": "Pijiu Belly",
          "season": 29,
          "title": "Belly, Beef and Bratwurst"
         },
         {
          "air_date": null,
          "episode": "18",
          "latitude": 39.728494500000004,
          "location": "Chico, California",
          "longitude": -121.8374777,
          "restaurant": "Grana",
          "season": 29,
          "title": "Coming Together in Cali"
         },
         {
          "air_date": null,
          "episode": "18",
          "latitude": 39.728494500000004,
          "location": "Chico, California",
          "longitude": -121.8374777,
          "restaurant": "Upper Crust Bakery & Cafe",
          "season": 29,
          "title": "Coming Together in Cali"
         },
         {
          "air_date": null,
          "episode": "18",
          "latitude": 39.728494500000004,
          "location": "Chico, California",
          "longitude": -121.8374777,
          "restaurant": "The Banshee",
          "season": 29,
          "title": "Coming Together in Cali"
         },
         {
          "air_date": null,
          "episode": "19",
          "latitude": 49.2608724,
          "location": "Vancouver, British Columbia",
          "longitude": -123.11395290000002,
          "restaurant": "The Pie Hole",
          "season": 29,
          "title": "Burger and Breakfast"
         },
         {
          "air_date": null,
          "episode": "19",
          "latitude": 39.728494500000004,
          "location": "Chico, California",
          "longitude": -121.8374777,
          "restaurant": "Sin of Cortez",
          "season": 29,
          "title": "Burger and Breakfast"
         },
         {
          "air_date": null,
          "episode": "19",
          "latitude": 46.28042979999999,
          "location": "Richland, Washington",
          "longitude": -119.2752055,
          "restaurant": "Ethos Bakery & Cafe",
          "season": 29,
          "title": "Burger and Breakfast"
         },
         {
          "air_date": null,
          "episode": "20",
          "latitude": 46.28042979999999,
          "location": "Richland, Washington",
          "longitude": -119.2752055,
          "restaurant": "Frost Me Sweet Bakery & Bistro",
          "season": 29,
          "title": "Not Your Everyday Eats"
         },
         {
          "air_date": null,
          "episode": "20",
          "latitude": 39.728494500000004,
          "location": "Chico, California",
          "longitude": -121.8374777,
          "restaurant": "Momona",
          "season": 29,
          "title": "Not Your Everyday Eats"
         },
         {
          "air_date": null,
          "episode": "20",
          "latitude": 49.2608724,
          "location": "Vancouver, British Columbia",
          "longitude": -123.11395290000002,
          "restaurant": "Tuc Craft Kitchen",
          "season": 29,
          "title": "Not Your Everyday Eats"
         },
         {
          "air_date": "2019-05-24",
          "episode": "1",
          "latitude": 22.050466550000003,
          "location": "Kauai, Hawaii",
          "longitude": -159.55876775017003,
          "restaurant": "Tahini Nui",
          "season": 30,
          "title": "A World of Barbecue"
         },
         {
          "air_date": "2019-05-24",
          "episode": "1",
          "latitude": 32.7174209,
          "location": "San Diego, California",
          "longitude": -117.16277140000001,
          "restaurant": "Grand Ole BBQ",
          "season": 30,
          "title": "A World of Barbecue"
         },
         {
          "air_date": "2019-05-24",
          "episode": "1",
          "latitude": 39.7459468,
          "location": "Wilmington, Delaware",
          "longitude": -75.546589,
          "restaurant": "Locale BBQ Post",
          "season": 30,
          "title": "A World of Barbecue"
         },
         {
          "air_date": "2019-05-31",
          "episode": "2",
          "latitude": 32.7174209,
          "location": "San Diego, California",
          "longitude": -117.16277140000001,
          "restaurant": "Tahini",
          "season": 30,
          "title": "Sausage, Shawarma and Scaloppini"
         },
         {
          "air_date": "2019-05-31",
          "episode": "2",
          "latitude": 49.2608724,
          "location": "Vancouver, British Columbia",
          "longitude": -123.11395290000002,
          "restaurant": "Corduroy Pie Co.",
          "season": 30,
          "title": "Sausage, Shawarma and Scaloppini"
         },
         {
          "air_date": "2019-05-31",
          "episode": "2",
          "latitude": 39.7459468,
          "location": "Wilmington, Delaware",
          "longitude": -75.546589,
          "restaurant": "Luigi Vitrone's Pastabilities Trattoria",
          "season": 30,
          "title": "Sausage, Shawarma and Scaloppini"
         }
        ]
       },
       "layer": [
        {
         "data": {
          "format": {
           "feature": "states",
           "type": "topojson"
          },
          "url": "https://vega.github.io/vega-datasets/data/us-10m.json"
         },
         "height": 600,
         "mark": {
          "fill": "lightgray",
          "stroke": "white",
          "type": "geoshape"
         },
         "projection": {
          "type": "albersUsa"
         },
         "width": 1200
        },
        {
         "data": {
          "name": "data-a9d7b318a0a5439eb0f36816d1115189"
         },
         "encoding": {
          "latitude": {
           "field": "latitude",
           "type": "quantitative"
          },
          "longitude": {
           "field": "longitude",
           "type": "quantitative"
          },
          "tooltip": [
           {
            "field": "season",
            "type": "quantitative"
           },
           {
            "field": "episode",
            "type": "nominal"
           },
           {
            "field": "restaurant",
            "type": "nominal"
           }
          ]
         },
         "mark": {
          "color": "red",
          "size": 7,
          "type": "circle"
         },
         "projection": {
          "type": "albersUsa"
         }
        }
       ]
      },
      "image/png": "[encoded data removed]",
      "text/plain": [
       "<VegaLite 3 object>\n",
       "\n",
       "If you see this message, it means the renderer has not been properly enabled\n",
       "for the frontend that you are using. For more information, see\n",
       "https://altair-viz.github.io/user_guide/troubleshooting.html\n"
      ]
     },
     "execution_count": 269,
     "metadata": {},
     "output_type": "execute_result"
    }
   ],
   "source": [
    "# Code attribution: https://altair-viz.github.io/gallery/airports.html\n",
    "\n",
    "states = alt.topo_feature(data.us_10m.url, feature='states')\n",
    "\n",
    "# US states background\n",
    "background = (alt\n",
    "              .Chart(states)\n",
    "              .mark_geoshape(\n",
    "                  fill='lightgray',\n",
    "                  stroke='white'\n",
    "              ).properties(\n",
    "                  width=1200,\n",
    "                  height=600\n",
    "              ).project('albersUsa')\n",
    "             )\n",
    "\n",
    "restaurants = (alt\n",
    "               .Chart(df_coord)\n",
    "               .mark_circle(size=7, color='red')\n",
    "               .encode(\n",
    "                   longitude='longitude:Q',\n",
    "                   latitude='latitude:Q',\n",
    "                   tooltip=['season', 'episode', 'restaurant']\n",
    "               ).project(\n",
    "                   type='albersUsa'\n",
    "               )\n",
    "              )\n",
    "\n",
    "background + restaurants"
   ]
  },
  {
   "cell_type": "code",
   "execution_count": 224,
   "metadata": {},
   "outputs": [],
   "source": [
    "# Title case names\n",
    "df_coord['restaurant'] = df_coord['restaurant'].str.title()\n",
    "\n",
    "# Group restaurants by location\n",
    "grouped = df_coord.groupby(['location', 'latitude', 'longitude'])['restaurant'].apply(set)\n",
    "\n",
    "# Create dataframe for plotting\n",
    "df_choro = pd.DataFrame(grouped).reset_index()"
   ]
  },
  {
   "cell_type": "code",
   "execution_count": 250,
   "metadata": {},
   "outputs": [],
   "source": [
    "# Convert set to list to str for restaurant column\n",
    "results = []\n",
    "for i in range(len(df_choro)):\n",
    "    places_list = [place for place in df_choro['restaurant'][i]]\n",
    "    places_str = \", \".join(places_list)\n",
    "    results.append(places_str)"
   ]
  },
  {
   "cell_type": "code",
   "execution_count": 258,
   "metadata": {},
   "outputs": [],
   "source": [
    "# Reassign and rename restaurant column\n",
    "df_choro['restaurant'] = results\n",
    "df_choro = df_choro.replace(\"'S\", \"'s\", regex=True)\n",
    "\n",
    "df_choro = df_choro.rename(columns={'restaurant': 'place(s) visited'})"
   ]
  },
  {
   "cell_type": "code",
   "execution_count": 261,
   "metadata": {},
   "outputs": [
    {
     "data": {
      "text/html": [
       "<div>\n",
       "<style scoped>\n",
       "    .dataframe tbody tr th:only-of-type {\n",
       "        vertical-align: middle;\n",
       "    }\n",
       "\n",
       "    .dataframe tbody tr th {\n",
       "        vertical-align: top;\n",
       "    }\n",
       "\n",
       "    .dataframe thead th {\n",
       "        text-align: right;\n",
       "    }\n",
       "</style>\n",
       "<table border=\"1\" class=\"dataframe\">\n",
       "  <thead>\n",
       "    <tr style=\"text-align: right;\">\n",
       "      <th></th>\n",
       "      <th>location</th>\n",
       "      <th>latitude</th>\n",
       "      <th>longitude</th>\n",
       "      <th>place(s) visited</th>\n",
       "    </tr>\n",
       "  </thead>\n",
       "  <tbody>\n",
       "    <tr>\n",
       "      <th>0</th>\n",
       "      <td>Adkins, Texas</td>\n",
       "      <td>29.393013</td>\n",
       "      <td>-98.237233</td>\n",
       "      <td>Texas Pride Bbq</td>\n",
       "    </tr>\n",
       "    <tr>\n",
       "      <th>1</th>\n",
       "      <td>Aiea, Hawaii</td>\n",
       "      <td>21.382222</td>\n",
       "      <td>-157.933611</td>\n",
       "      <td>The Alley Restaurant At Aiea Bowl</td>\n",
       "    </tr>\n",
       "    <tr>\n",
       "      <th>2</th>\n",
       "      <td>Alameda, California</td>\n",
       "      <td>37.609029</td>\n",
       "      <td>-121.899142</td>\n",
       "      <td>Scolari's Good Eats</td>\n",
       "    </tr>\n",
       "    <tr>\n",
       "      <th>3</th>\n",
       "      <td>Albuquerque, New Mexico</td>\n",
       "      <td>35.084103</td>\n",
       "      <td>-106.650985</td>\n",
       "      <td>Bocadillos, The Cube, Torinos, Golden Crown Re...</td>\n",
       "    </tr>\n",
       "    <tr>\n",
       "      <th>4</th>\n",
       "      <td>Allston, Massachusetts</td>\n",
       "      <td>42.355434</td>\n",
       "      <td>-71.132127</td>\n",
       "      <td>Lone Star Taco Bar, Deep Ellum</td>\n",
       "    </tr>\n",
       "  </tbody>\n",
       "</table>\n",
       "</div>"
      ],
      "text/plain": [
       "                  location   latitude   longitude  \\\n",
       "0            Adkins, Texas  29.393013  -98.237233   \n",
       "1             Aiea, Hawaii  21.382222 -157.933611   \n",
       "2      Alameda, California  37.609029 -121.899142   \n",
       "3  Albuquerque, New Mexico  35.084103 -106.650985   \n",
       "4   Allston, Massachusetts  42.355434  -71.132127   \n",
       "\n",
       "                                    place(s) visited  \n",
       "0                                    Texas Pride Bbq  \n",
       "1                  The Alley Restaurant At Aiea Bowl  \n",
       "2                                Scolari's Good Eats  \n",
       "3  Bocadillos, The Cube, Torinos, Golden Crown Re...  \n",
       "4                     Lone Star Taco Bar, Deep Ellum  "
      ]
     },
     "execution_count": 261,
     "metadata": {},
     "output_type": "execute_result"
    }
   ],
   "source": [
    "df_choro.head()"
   ]
  },
  {
   "cell_type": "code",
   "execution_count": 262,
   "metadata": {},
   "outputs": [],
   "source": [
    "df_choro.to_csv(r'C:\\Users\\reiko\\Desktop\\flavortown\\data\\df_choropleth.csv', index=False, header=True)"
   ]
  },
  {
   "cell_type": "code",
   "execution_count": 270,
   "metadata": {},
   "outputs": [],
   "source": [
    "# Plot choropleth\n",
    "cities = (alt\n",
    "          .Chart(df_choro)\n",
    "          .mark_circle(size=7, color='red')\n",
    "          .encode(\n",
    "              longitude='longitude:Q',\n",
    "              latitude='latitude:Q',\n",
    "              tooltip=['location', 'place(s) visited']\n",
    "          ).project(\n",
    "              type='albersUsa'\n",
    "          )\n",
    "         )\n",
    "\n",
    "plot = background + cities"
   ]
  },
  {
   "cell_type": "code",
   "execution_count": 271,
   "metadata": {},
   "outputs": [],
   "source": [
    "plot.save('../flavortown-test.html')"
   ]
  },
  {
   "cell_type": "markdown",
   "metadata": {},
   "source": [
    "Step 4: Use Yelp API to add rating and price range for each establishment"
   ]
  },
  {
   "cell_type": "code",
   "execution_count": 160,
   "metadata": {},
   "outputs": [],
   "source": [
    "df = pd.read_csv('../data/df_raw.csv')"
   ]
  },
  {
   "cell_type": "code",
   "execution_count": 162,
   "metadata": {
    "jupyter": {
     "source_hidden": true
    }
   },
   "outputs": [],
   "source": [
    "df['restaurant'] = (df['restaurant']\n",
    "                    .replace({\"&\": \"\",\n",
    "                              \"!\": \"\",\n",
    "                              \"'\": \"\",\n",
    "                              \"-\": \" \"},\n",
    "                             regex=True)\n",
    "                   )"
   ]
  },
  {
   "cell_type": "code",
   "execution_count": 3,
   "metadata": {},
   "outputs": [],
   "source": [
    "# Followed tutorial at https://python.gotrained.com/yelp-fusion-api-tutorial/ \n",
    "api_key = 'pITuoqCz9RcQv_u7xJDZFz19f6jYJAgvNeWJrkcVG2Ux9GCAKFryDc7FfS7YL823Cbi269KaQGygRkvukbyeurZOSYhek5xyYfQCHdFDcGKR5CpzhhR62BRwriGKXnYx'\n",
    "headers = {'Authorization': 'Bearer %s' % api_key}"
   ]
  },
  {
   "cell_type": "code",
   "execution_count": 15,
   "metadata": {},
   "outputs": [],
   "source": [
    "# Code attribution: https://www.datacamp.com/community/tutorials/fuzzy-string-python\n",
    "\n",
    "def levenshtein_ratio(s, t, ratio_calc = True):\n",
    "    \"\"\" levenshtein_ratio_and_distance:\n",
    "        Calculates levenshtein distance between two strings.\n",
    "        If ratio_calc = True, the function computes the\n",
    "        levenshtein distance ratio of similarity between two strings\n",
    "        For all i and j, distance[i,j] will contain the Levenshtein\n",
    "        distance between the first i characters of s and the\n",
    "        first j characters of t\n",
    "    \"\"\"\n",
    "    # Initialize matrix of zeros\n",
    "    rows = len(s)+1\n",
    "    cols = len(t)+1\n",
    "    distance = np.zeros((rows,cols),dtype = int)\n",
    "\n",
    "    # Populate matrix of zeros with the indeces of each character of both strings\n",
    "    for i in range(1, rows):\n",
    "        for k in range(1,cols):\n",
    "            distance[i][0] = i\n",
    "            distance[0][k] = k\n",
    "\n",
    "    # Iterate over the matrix to compute the cost of deletions,insertions and/or substitutions    \n",
    "    for col in range(1, cols):\n",
    "        for row in range(1, rows):\n",
    "            if s[row-1] == t[col-1]:\n",
    "                cost = 0 # If the characters are the same in the two strings in a given position [i,j] then the cost is 0\n",
    "            else:\n",
    "                # In order to align the results with those of the Python Levenshtein package, if we choose to calculate the ratio\n",
    "                # the cost of a substitution is 2. If we calculate just distance, then the cost of a substitution is 1.\n",
    "                if ratio_calc == True:\n",
    "                    cost = 2\n",
    "                else:\n",
    "                    cost = 1\n",
    "            distance[row][col] = min(distance[row-1][col] + 1,      # Cost of deletions\n",
    "                                 distance[row][col-1] + 1,          # Cost of insertions\n",
    "                                 distance[row-1][col-1] + cost)     # Cost of substitutions\n",
    "    if ratio_calc == True:\n",
    "        # Computation of the Levenshtein Distance Ratio\n",
    "        Ratio = ((len(s)+len(t)) - distance[row][col]) / (len(s)+len(t))\n",
    "        return Ratio\n",
    "    else:\n",
    "        # print(distance) # Uncomment if you want to see the matrix showing how the algorithm computes the cost of deletions,\n",
    "        # insertions and/or substitutions\n",
    "        # This is the minimum number of edits needed to convert string a to string b\n",
    "        return \"The strings are {} edits away\".format(distance[row][col])"
   ]
  },
  {
   "cell_type": "code",
   "execution_count": 112,
   "metadata": {},
   "outputs": [],
   "source": [
    "url = 'https://api.yelp.com/v3/businesses/search'\n",
    "\n",
    "def get_business_info(df, alpha=0.7):\n",
    "    \"Add Yelp URL for each business. Alpha denotes strictness of fuzzy string matching.\"\n",
    "    name_list = []\n",
    "    rating_list = []\n",
    "    price_list = []\n",
    "    \n",
    "    for i in range(df.shape[0]):\n",
    "        params = {'term': df['restaurant'].iloc[i], 'location': df['location'].iloc[i]}\n",
    "        req = requests.get(url, params=params, headers=headers)\n",
    "        parsed = json.loads(req.text)\n",
    "        \n",
    "        try:\n",
    "            if (len(parsed['businesses']) != 0 and\n",
    "                levenshtein_ratio(df['restaurant'].iloc[i].lower(), parsed['businesses'][0]['name'].lower()) > alpha):\n",
    "                try:\n",
    "                    business_rating = parsed['businesses'][0]['rating']\n",
    "                    rating_list.append(business_rating)\n",
    "                except:\n",
    "                    rating_list.append(None)\n",
    "                try:\n",
    "                    business_price = parsed['businesses'][0]['price']\n",
    "                    price_list.append(business_price)\n",
    "                except:\n",
    "                    price_list.append(None)\n",
    "            else:\n",
    "                rating_list.append(None)\n",
    "                price_list.append(None)\n",
    "        except:\n",
    "            rating_list.append(None)\n",
    "            price_list.append(None)\n",
    "    \n",
    "    df['rating'] = rating_list\n",
    "    df['price'] = price_list\n",
    "    \n",
    "    return df"
   ]
  },
  {
   "cell_type": "code",
   "execution_count": null,
   "metadata": {},
   "outputs": [],
   "source": [
    "sub1_yelp = get_business_info(df.iloc[0:500])"
   ]
  },
  {
   "cell_type": "code",
   "execution_count": null,
   "metadata": {},
   "outputs": [],
   "source": [
    "sub2_yelp = get_business_info(df.iloc[250:500])"
   ]
  },
  {
   "cell_type": "code",
   "execution_count": null,
   "metadata": {},
   "outputs": [],
   "source": [
    "sub3_yelp = get_business_info(df.iloc[500:750])"
   ]
  },
  {
   "cell_type": "code",
   "execution_count": null,
   "metadata": {},
   "outputs": [],
   "source": [
    "sub4_yelp = get_business_info(df.iloc[750:1000])"
   ]
  },
  {
   "cell_type": "code",
   "execution_count": null,
   "metadata": {},
   "outputs": [],
   "source": [
    "sub5_yelp = get_business_info(df.iloc[1000:])"
   ]
  },
  {
   "cell_type": "code",
   "execution_count": 175,
   "metadata": {},
   "outputs": [],
   "source": [
    "df_yelp = pd.concat([sub1_yelp, sub2_yelp, sub3_yelp, sub4_yelp, sub5_yelp])"
   ]
  },
  {
   "cell_type": "code",
   "execution_count": 176,
   "metadata": {},
   "outputs": [],
   "source": [
    "location = df_yelp['location'].str.split(',', n=1, expand=True)\n",
    "df_yelp['city'] = location[0]\n",
    "df_yelp['state'] = location[1]\n",
    "df_yelp = df_yelp.drop(['air_date', 'location'], axis=1)"
   ]
  },
  {
   "cell_type": "code",
   "execution_count": 184,
   "metadata": {},
   "outputs": [
    {
     "data": {
      "text/html": [
       "<div>\n",
       "<style scoped>\n",
       "    .dataframe tbody tr th:only-of-type {\n",
       "        vertical-align: middle;\n",
       "    }\n",
       "\n",
       "    .dataframe tbody tr th {\n",
       "        vertical-align: top;\n",
       "    }\n",
       "\n",
       "    .dataframe thead th {\n",
       "        text-align: right;\n",
       "    }\n",
       "</style>\n",
       "<table border=\"1\" class=\"dataframe\">\n",
       "  <thead>\n",
       "    <tr style=\"text-align: right;\">\n",
       "      <th></th>\n",
       "      <th>season</th>\n",
       "      <th>episode</th>\n",
       "      <th>title</th>\n",
       "      <th>restaurant</th>\n",
       "      <th>rating</th>\n",
       "      <th>price</th>\n",
       "      <th>city</th>\n",
       "      <th>state</th>\n",
       "    </tr>\n",
       "  </thead>\n",
       "  <tbody>\n",
       "    <tr>\n",
       "      <th>0</th>\n",
       "      <td>1</td>\n",
       "      <td>1</td>\n",
       "      <td>Classics</td>\n",
       "      <td>Mac &amp; Ernie's Roadside Eatery</td>\n",
       "      <td>4.0</td>\n",
       "      <td>$$</td>\n",
       "      <td>Tarpley</td>\n",
       "      <td>Texas</td>\n",
       "    </tr>\n",
       "    <tr>\n",
       "      <th>1</th>\n",
       "      <td>1</td>\n",
       "      <td>1</td>\n",
       "      <td>Classics</td>\n",
       "      <td>Brint's Diner</td>\n",
       "      <td>3.5</td>\n",
       "      <td>$</td>\n",
       "      <td>Wichita</td>\n",
       "      <td>Kansas</td>\n",
       "    </tr>\n",
       "    <tr>\n",
       "      <th>2</th>\n",
       "      <td>1</td>\n",
       "      <td>1</td>\n",
       "      <td>Classics</td>\n",
       "      <td>The Mad Greek Cafe</td>\n",
       "      <td>3.0</td>\n",
       "      <td>$$</td>\n",
       "      <td>Baker</td>\n",
       "      <td>California</td>\n",
       "    </tr>\n",
       "    <tr>\n",
       "      <th>3</th>\n",
       "      <td>1</td>\n",
       "      <td>2</td>\n",
       "      <td>That's Italian</td>\n",
       "      <td>Pizza Palace</td>\n",
       "      <td>4.0</td>\n",
       "      <td>$</td>\n",
       "      <td>Knoxville</td>\n",
       "      <td>Tennessee</td>\n",
       "    </tr>\n",
       "    <tr>\n",
       "      <th>4</th>\n",
       "      <td>1</td>\n",
       "      <td>2</td>\n",
       "      <td>That's Italian</td>\n",
       "      <td>Hullabaloo Diner</td>\n",
       "      <td>3.5</td>\n",
       "      <td>$$</td>\n",
       "      <td>Wellborn</td>\n",
       "      <td>Texas</td>\n",
       "    </tr>\n",
       "    <tr>\n",
       "      <th>...</th>\n",
       "      <td>...</td>\n",
       "      <td>...</td>\n",
       "      <td>...</td>\n",
       "      <td>...</td>\n",
       "      <td>...</td>\n",
       "      <td>...</td>\n",
       "      <td>...</td>\n",
       "      <td>...</td>\n",
       "    </tr>\n",
       "    <tr>\n",
       "      <th>1246</th>\n",
       "      <td>30</td>\n",
       "      <td>1</td>\n",
       "      <td>A World of Barbecue</td>\n",
       "      <td>Grand Ole BBQ</td>\n",
       "      <td>4.5</td>\n",
       "      <td>$$</td>\n",
       "      <td>San Diego</td>\n",
       "      <td>California</td>\n",
       "    </tr>\n",
       "    <tr>\n",
       "      <th>1247</th>\n",
       "      <td>30</td>\n",
       "      <td>1</td>\n",
       "      <td>A World of Barbecue</td>\n",
       "      <td>Locale BBQ Post</td>\n",
       "      <td>4.0</td>\n",
       "      <td>$$</td>\n",
       "      <td>Wilmington</td>\n",
       "      <td>Delaware</td>\n",
       "    </tr>\n",
       "    <tr>\n",
       "      <th>1248</th>\n",
       "      <td>30</td>\n",
       "      <td>2</td>\n",
       "      <td>Sausage, Shawarma and Scaloppini</td>\n",
       "      <td>Tahini</td>\n",
       "      <td>4.5</td>\n",
       "      <td>$</td>\n",
       "      <td>San Diego</td>\n",
       "      <td>California</td>\n",
       "    </tr>\n",
       "    <tr>\n",
       "      <th>1249</th>\n",
       "      <td>30</td>\n",
       "      <td>2</td>\n",
       "      <td>Sausage, Shawarma and Scaloppini</td>\n",
       "      <td>Corduroy Pie Co.</td>\n",
       "      <td>4.5</td>\n",
       "      <td>$$</td>\n",
       "      <td>Vancouver</td>\n",
       "      <td>British Columbia</td>\n",
       "    </tr>\n",
       "    <tr>\n",
       "      <th>1250</th>\n",
       "      <td>30</td>\n",
       "      <td>2</td>\n",
       "      <td>Sausage, Shawarma and Scaloppini</td>\n",
       "      <td>Luigi Vitrone's Pastabilities Trattoria</td>\n",
       "      <td>4.0</td>\n",
       "      <td>$$</td>\n",
       "      <td>Wilmington</td>\n",
       "      <td>Delaware</td>\n",
       "    </tr>\n",
       "  </tbody>\n",
       "</table>\n",
       "<p>1251 rows × 8 columns</p>\n",
       "</div>"
      ],
      "text/plain": [
       "      season episode                             title  \\\n",
       "0          1       1                          Classics   \n",
       "1          1       1                          Classics   \n",
       "2          1       1                          Classics   \n",
       "3          1       2                    That's Italian   \n",
       "4          1       2                    That's Italian   \n",
       "...      ...     ...                               ...   \n",
       "1246      30       1               A World of Barbecue   \n",
       "1247      30       1               A World of Barbecue   \n",
       "1248      30       2  Sausage, Shawarma and Scaloppini   \n",
       "1249      30       2  Sausage, Shawarma and Scaloppini   \n",
       "1250      30       2  Sausage, Shawarma and Scaloppini   \n",
       "\n",
       "                                   restaurant  rating price        city  \\\n",
       "0               Mac & Ernie's Roadside Eatery     4.0    $$     Tarpley   \n",
       "1                               Brint's Diner     3.5     $     Wichita   \n",
       "2                          The Mad Greek Cafe     3.0    $$       Baker   \n",
       "3                                Pizza Palace     4.0     $   Knoxville   \n",
       "4                            Hullabaloo Diner     3.5    $$    Wellborn   \n",
       "...                                       ...     ...   ...         ...   \n",
       "1246                            Grand Ole BBQ     4.5    $$   San Diego   \n",
       "1247                          Locale BBQ Post     4.0    $$  Wilmington   \n",
       "1248                                   Tahini     4.5     $   San Diego   \n",
       "1249                         Corduroy Pie Co.     4.5    $$   Vancouver   \n",
       "1250  Luigi Vitrone's Pastabilities Trattoria     4.0    $$  Wilmington   \n",
       "\n",
       "                  state  \n",
       "0                 Texas  \n",
       "1                Kansas  \n",
       "2            California  \n",
       "3             Tennessee  \n",
       "4                 Texas  \n",
       "...                 ...  \n",
       "1246         California  \n",
       "1247           Delaware  \n",
       "1248         California  \n",
       "1249   British Columbia  \n",
       "1250           Delaware  \n",
       "\n",
       "[1251 rows x 8 columns]"
      ]
     },
     "execution_count": 184,
     "metadata": {},
     "output_type": "execute_result"
    }
   ],
   "source": [
    "df_yelp"
   ]
  },
  {
   "cell_type": "code",
   "execution_count": 3,
   "metadata": {},
   "outputs": [],
   "source": [
    "df_yelp = pd.read_csv('../data/df_yelp.csv')"
   ]
  },
  {
   "cell_type": "code",
   "execution_count": null,
   "metadata": {},
   "outputs": [],
   "source": [
    "# Identify problematic entries\n",
    "df_yelp[df_yelp['state'].isnull()]"
   ]
  },
  {
   "cell_type": "code",
   "execution_count": 50,
   "metadata": {},
   "outputs": [],
   "source": [
    "df_yelp.at[240, 'state'] = 'Oklahoma'\n",
    "df_yelp.at[339, 'state'] = 'DC'\n",
    "df_yelp.at[358, 'state'] = 'DC'\n",
    "df_yelp.at[368, 'state'] = 'DC'\n",
    "df_yelp.at[393, 'state'] = 'DC'\n",
    "df_yelp.at[917, 'state'] = 'New Jersey'\n",
    "df_yelp.at[925, 'state'] = 'Florida'\n",
    "df_yelp.at[908, 'state'] = 'UK'"
   ]
  },
  {
   "cell_type": "code",
   "execution_count": 51,
   "metadata": {},
   "outputs": [
    {
     "data": {
      "text/plain": [
       "array([' Texas', ' Kansas', ' California', ' Tennessee', ' Nevada',\n",
       "       ' Illinois', ' North Carolina', ' Wisconsin', ' New York',\n",
       "       ' Oklahoma', ' Maine', ' Indiana', ' New Hampshire', ' Washington',\n",
       "       ' Oregon', ' South Carolina', ' Massachusetts', ' New Jersey',\n",
       "       ' Michigan', ' Minnesota', ' Pennsylvania', ' Rhode Island',\n",
       "       ' Florida', ' Missouri', ' Arizona', ' Kentucky', ' New Mexico',\n",
       "       ' Virginia', ' Colorado', ' Georgia', ' West Virginia', ' Alabama',\n",
       "       ' Maryland', ' Louisiana', ' Mississippi', ' Utah', ' Nebraska',\n",
       "       ' Connecticut', ' Idaho', 'Oklahoma', ' Ohio', ' Hawaii', 'DC',\n",
       "       ' British Columbia', ' Ontario, Canada', ' Mexico', ' Ontario',\n",
       "       ' Wyoming', ' Iowa', ' Italy', ' UK', 'UK', ' DC', 'New Jersey',\n",
       "       'Florida', ' Alaska', ' Cuba', ' Spain', ' Montana', ' Arkansas',\n",
       "       ' Delaware'], dtype=object)"
      ]
     },
     "execution_count": 51,
     "metadata": {},
     "output_type": "execute_result"
    }
   ],
   "source": [
    "df_yelp['state'].unique()"
   ]
  },
  {
   "cell_type": "code",
   "execution_count": 55,
   "metadata": {},
   "outputs": [],
   "source": [
    "df_yelp['state'] = df_yelp['state'].str.strip()"
   ]
  },
  {
   "cell_type": "code",
   "execution_count": 65,
   "metadata": {},
   "outputs": [],
   "source": [
    "df_yelp.to_csv(r'C:\\Users\\reiko\\Desktop\\flavortown\\data\\df_yelp.csv', index=False, header=True)"
   ]
  }
 ],
 "metadata": {
  "kernelspec": {
   "display_name": "Python 3",
   "language": "python",
   "name": "python3"
  },
  "language_info": {
   "codemirror_mode": {
    "name": "ipython",
    "version": 3
   },
   "file_extension": ".py",
   "mimetype": "text/x-python",
   "name": "python",
   "nbconvert_exporter": "python",
   "pygments_lexer": "ipython3",
   "version": "3.7.6"
  }
 },
 "nbformat": 4,
 "nbformat_minor": 4
}
